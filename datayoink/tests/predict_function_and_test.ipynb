{
 "cells": [
  {
   "cell_type": "code",
   "execution_count": 1,
   "id": "provincial-selection",
   "metadata": {},
   "outputs": [
    {
     "name": "stderr",
     "output_type": "stream",
     "text": [
      "** fvcore version of PathManager will be deprecated soon. **\n",
      "** Please migrate to the version in iopath repo. **\n",
      "https://github.com/facebookresearch/iopath \n",
      "\n",
      "** fvcore version of PathManager will be deprecated soon. **\n",
      "** Please migrate to the version in iopath repo. **\n",
      "https://github.com/facebookresearch/iopath \n",
      "\n"
     ]
    }
   ],
   "source": [
    "import numpy as np\n",
    "import pickle\n",
    "import PIL\n",
    "from PIL import Image\n",
    "import matplotlib\n",
    "import matplotlib.pyplot as plt\n",
    "from detectron2.engine.defaults import DefaultPredictor\n",
    "\n",
    "import os\n",
    "\n",
    "\n",
    "\n",
    "\n"
   ]
  },
  {
   "cell_type": "code",
   "execution_count": 2,
   "id": "civilian-ridge",
   "metadata": {},
   "outputs": [],
   "source": [
    "def load_trained_nn(pickle_file):\n",
    "    \"\"\"\n",
    "    This function loads the trained nearual network from\n",
    "    the local .pkl file as a predictor\n",
    "    Input:\n",
    "        - pickle_file: .pkl file containing the configurations\n",
    "                        of the neural network that can be loaded\n",
    "                        into Detectron2 Default Predictor\n",
    "    Output:\n",
    "        - predictor: Detectron2 DefualtPredictor with the\n",
    "                     weights ad parameters from the pickle\n",
    "                     file\n",
    "    \"\"\"\n",
    "    \n",
    "    # Load the configurations from the .pkl file\n",
    "    with open(pickle_file, 'rb') as file:\n",
    "        # Assert the input type\n",
    "        assert os.path.splitext(pickle_file)[1] == \".pkl\", \"Input has the wrong file type. A pickle file is required.\"\n",
    "        cfg = pickle.load(file)\n",
    "    # Use Default predictor to load the pretrained NN\n",
    "    predictor = DefaultPredictor(cfg)\n",
    "    return predictor"
   ]
  },
  {
   "cell_type": "code",
   "execution_count": 6,
   "id": "minute-armstrong",
   "metadata": {},
   "outputs": [],
   "source": [
    "def predict_discharge_curve(pickle_file, img_array):\n",
    "    \"\"\"\n",
    "    This function loads the pretrained nueral network and its \n",
    "    configuration from a pickle file, and pass the input image\n",
    "    through the nn to predict the target class.\n",
    "    Input:\n",
    "        - pickle_file: .pkl file containing the configurations \n",
    "                       of the trained neural network that can be\n",
    "                       loaded into Detectron2 DefaultPredictor\n",
    "        - PNG_image: .png image file to make prediction on\n",
    "    Output:\n",
    "        - predict_dict: a list of dictionaries that contains the\n",
    "                        predicted masks\n",
    "    \"\"\"\n",
    "    # Load the neural network as .pkl file\n",
    "    with open(pickle_file, 'rb') as file:\n",
    "        # Assert the input type\n",
    "        assert os.path.splitext(pickle_file)[1] == \".pkl\", \"Input has the wrong file type. A pickle file is required.\"\n",
    "        cfg = pickle.load(file)\n",
    "    # Use Default predictor to load the pretrained NN\n",
    "    predictor = DefaultPredictor(cfg)\n",
    "    BGR_image = read_img_to_BGR(img_array)\n",
    "    predict_dict = predictor(BGR_image)\n",
    "    return predict_dict"
   ]
  },
  {
   "cell_type": "code",
   "execution_count": 12,
   "id": "consistent-dietary",
   "metadata": {},
   "outputs": [
    {
     "data": {
      "text/plain": [
       "'\\n There is no unit tests for predict_discharge_curve() and load_trained_nn()\\n becasue they require the neural network file, and we do not have space on\\n Github to store the nn model file. \\n\\n'"
      ]
     },
     "execution_count": 12,
     "metadata": {},
     "output_type": "execute_result"
    }
   ],
   "source": [
    "\"\"\"\n",
    " There is no unit tests for predict_discharge_curve() and load_trained_nn()\n",
    " becasue they require the neural network file, and we do not have space on\n",
    " Github to store the nn model file. \n",
    "\n",
    "\"\"\"\n"
   ]
  },
  {
   "cell_type": "code",
   "execution_count": 42,
   "id": "athletic-regression",
   "metadata": {},
   "outputs": [
    {
     "data": {
      "text/plain": [
       "<matplotlib.image.AxesImage at 0x7f72102924c0>"
      ]
     },
     "execution_count": 42,
     "metadata": {},
     "output_type": "execute_result"
    },
    {
     "data": {
      "image/png": "[encoded data removed]",
      "text/plain": [
       "<Figure size 432x288 with 1 Axes>"
      ]
     },
     "metadata": {
      "needs_background": "light"
     },
     "output_type": "display_data"
    }
   ],
   "source": [
    "#img_array = np.array([[[1,1,1],[0,0,0],[0.1,0.1,0.1]],[[1,1,1],[0,0,0],[0.5,0.5,0.5]],[[1,1,1],[0,0,0],[0.4,0.4,0.4]]])\n",
    "#img_array = np.array([[[0.1,0.1,0.1],[0.1,0.1,0.1],[0.1,0.1,0.1]],[[0.5,0.5,0.5],[0.5,0.5,0.5],[0.5,0.5,0.5]],[[0.4,0.4,0.4],[0.4,0.4,0.4],[0.4,0.4,0.4]]])\n",
    "img_array = np.array([[0.2,0.3,0.5],\n",
    "                      [0.2,0.3,0.5],\n",
    "                      [0.2,0.3,0.5]])\n",
    "\n",
    "#img_array = np.array([[[0.1,0.1,0.1],[0.1,0.1,0.1]],[[0.5,0.5,0.5],[0.5,0.5,0.5]],[[0.4,0.4,0.4],[0.4,0.4,0.4]]])\n",
    "\n",
    "#img_bw = np.array()\n",
    "img_array.shape\n",
    "plt.imshow(img_array)"
   ]
  },
  {
   "cell_type": "code",
   "execution_count": 17,
   "id": "freelance-traffic",
   "metadata": {},
   "outputs": [],
   "source": [
    "def read_img_to_BGR(img_array):\n",
    "    \"\"\"\n",
    "    This functions read RGB image array into BGR nd array. If the input image\n",
    "    is black and white, the numpy array will be stacked to the shape\n",
    "    (image_width, image_height, 3)\n",
    "    Input:\n",
    "        - image_file: .png image file\n",
    "    Output: \n",
    "        - BGR_img: nd array with size (image_height, image_width, 3)\n",
    "    \"\"\"\n",
    "    # If B&W, convert to shape (W,H,3)\n",
    "    if len(img_array.shape) == 2:\n",
    "        img_array = np.stack((img_array,img_array,img_array), axis=2)\n",
    "    if len(img_array.shape) == 3:\n",
    "        pass\n",
    "    else:\n",
    "        print(\"Input image array does not have the correct shape\")\n",
    "    # Convert to BGR\n",
    "    BGR_img = np.empty((img_array.shape[0],img_array.shape[1],3))\n",
    "    BGR_img[:,:,0] = img_array[:,:,2]\n",
    "    BGR_img[:,:,1] = img_array[:,:,1]\n",
    "    BGR_img[:,:,2] = img_array[:,:,0]\n",
    "    return BGR_img\n"
   ]
  },
  {
   "cell_type": "code",
   "execution_count": 46,
   "id": "cooked-album",
   "metadata": {},
   "outputs": [],
   "source": [
    "def test_read_img_to_BGR():\n",
    "    \"\"\"\n",
    "    Test read_img_to_BGR() function\n",
    "    \"\"\"\n",
    "    img_array = np.array([[0.2,0.3,0.5],\n",
    "                          [0.2,0.3,0.5],\n",
    "                          [0.2,0.3,0.5]])\n",
    "    result = read_img_to_BGR(img_array)\n",
    "    # Assert that balck and white img array is concatenated to 3 layers\n",
    "    assert np.isclose(len(result.shape),3), \"Unexpected result from test\"\n",
    "    # Assert that balck and white img array is concatenated correctly\n",
    "    assert np.allclose(result[0],result[1]), \"Unexpected result from test\"\n",
    "    assert np.allclose(result[0],result[2]), \"Unexpected result from test\"    \n",
    "    return"
   ]
  },
  {
   "cell_type": "code",
   "execution_count": 47,
   "id": "greater-istanbul",
   "metadata": {},
   "outputs": [],
   "source": [
    "test_read_img_to_BGR()"
   ]
  },
  {
   "cell_type": "code",
   "execution_count": 57,
   "id": "political-caribbean",
   "metadata": {},
   "outputs": [],
   "source": [
    "def show_output_img_and_mask(PNG_image, prediction):\n",
    "    \"\"\"\n",
    "    This function shows the image and the mask from a .json file.\n",
    "    Input: \n",
    "        - PNG_image: .png file of the input image\n",
    "        - prediction: output prediction of the neural network\n",
    "    Output:\n",
    "        - Inline plot with image and predicted masks\n",
    "    \"\"\"\n",
    "    assert os.path.splitext(PNG_image)[1] == \".png\", \"Input has the wrong file type. A .png image is required.\"\n",
    "    assert isinstance(prediction, dict), \"Input prediction varialbe is not a dicitonary\"\n",
    "    mask = prediction[\"instances\"].pred_masks\n",
    "    mask_array = np.array(mask)\n",
    "    im = Image.open(PNG_image)\n",
    "    img_array = np.array(im)\n",
    "    # Return notice if no instance is predicted\n",
    "    if np.size(mask_array) == 0:\n",
    "        print(\"No instance predicted, showing only the image\")\n",
    "        plt.imshow(img_array,alpha=1)\n",
    "    for mask in range(mask_array.shape[0]):\n",
    "        plt.figure()\n",
    "        plt.imshow(img_array,alpha=1)\n",
    "        plt.imshow(mask_array[mask,:,:],alpha=0.8)"
   ]
  }
 ],
 "metadata": {
  "kernelspec": {
   "display_name": "Python 3",
   "language": "python",
   "name": "python3"
  },
  "language_info": {
   "codemirror_mode": {
    "name": "ipython",
    "version": 3
   },
   "file_extension": ".py",
   "mimetype": "text/x-python",
   "name": "python",
   "nbconvert_exporter": "python",
   "pygments_lexer": "ipython3",
   "version": "3.8.5"
  }
 },
 "nbformat": 4,
 "nbformat_minor": 5
}
