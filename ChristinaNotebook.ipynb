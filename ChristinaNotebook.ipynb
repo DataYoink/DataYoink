{
 "cells": [
  {
   "cell_type": "markdown",
   "metadata": {},
   "source": [
    "# Coordinate Calculator and Label Compiler"
   ]
  },
  {
   "cell_type": "markdown",
   "metadata": {},
   "source": [
    "Inputs:\n",
    "- location in pixels of beginning and end of axes\n",
    "- range of axes\n",
    "- units of axis range\n",
    "- user's desired spacing for x coordinates\n",
    "- NO legend input! how to specify different colors/markers that separates the curves (for later stages)\n",
    "    - could eventually have mask look for the legend (distinctive enough) to learn what types of distinguishing features exist between the lines on the graph\n",
    "    - I will ignore this part for now\n",
    "- detectron2 output:\n",
    "    - list of dicts, one dict for each image\n",
    "    - each dict has field 'panoptic_seg' which refers to a (named?) tuple.\n",
    "    - the first field in the tuple is a tensor with the ID of each pixel\n",
    "    - the second field is a list of dicts with one dict per ID.\n",
    "    - entries in this dict are 'id' which is the ID that matches the first field tensor, and 'category_id'\n",
    "    \n",
    "Outputs:\n",
    "- dictionary with the following fields:\n",
    "    - coordinates: a dictionary, with fields equal to the curve labels (one for each label), and entries that are a list of tuples, each with (x, and y coordinates in same units as input image)\n",
    "    - units: (a tuple of x and y units)\n",
    "    - beginning and end of curve\n",
    "    - NO labels (for later stages): a list of labels for each curve, taken from legend if possible, or automatic (data1, data2, etc)\n",
    "\n",
    "\n",
    "Options for coordinates:\n",
    "1. based on the actual axis, choose a set of x coordinates for which we want to know the y coordinates (for each curve)\n",
    "2. based on pixels, grab points that occur every \"few\" pixels along the x axis, then convert to coordinates\n",
    "\n",
    "- could do the first option by finding out how many pixels are between each of the given x points, and using that number of pixels paired with the second option.\n",
    "- do we want user to input the spacing between points, or should we use a default value that seems reasonable based on the range of the x axis?\n",
    "- should the different curves have uniform x axis values (so y values are directly comparable), or should we have the sets of data points for each curve start at the 'beginning' of the curve and end at the 'end'\n",
    "\n",
    "\n",
    "Outlier cases:\n",
    "- nested plots\n",
    "- weird legend formatting"
   ]
  },
  {
   "cell_type": "code",
   "execution_count": 2,
   "metadata": {},
   "outputs": [],
   "source": [
    "# uniform x axis but also save the very first and last endpoints of the curve "
   ]
  },
  {
   "cell_type": "code",
   "execution_count": null,
   "metadata": {},
   "outputs": [],
   "source": [
    "# establish scaling from pixel to real units\n",
    "def get_x_scale():\n",
    "    return x_scale\n",
    "\n",
    "\n",
    "def get_y_scale():\n",
    "    return y_scale"
   ]
  },
  {
   "cell_type": "code",
   "execution_count": null,
   "metadata": {},
   "outputs": [],
   "source": [
    "# convert pixel location to coordinates\n",
    "def pixel_to_coords():\n",
    "    return coords"
   ]
  },
  {
   "cell_type": "code",
   "execution_count": null,
   "metadata": {},
   "outputs": [],
   "source": [
    "# each curve is one ID. get all pixel locations for one ID\n",
    "def get_pixels_for_id(ID):\n",
    "    return pixels"
   ]
  },
  {
   "cell_type": "code",
   "execution_count": null,
   "metadata": {},
   "outputs": [],
   "source": [
    "# convert ID to the label from the legend input\n",
    "def get_label_for_id():\n",
    "    return label"
   ]
  },
  {
   "cell_type": "code",
   "execution_count": null,
   "metadata": {},
   "outputs": [],
   "source": [
    "# create coordinate dictionary to add to the output dict\n",
    "def create_coordinate_dict():\n",
    "    # initialize dict\n",
    "    # for each ID:\n",
    "        #get_pixels_for_id(ID)\n",
    "    return coordinate_dict"
   ]
  },
  {
   "cell_type": "code",
   "execution_count": 1,
   "metadata": {},
   "outputs": [],
   "source": [
    "# create the output dictionary and input the units of axis and labels directly from the input info,\n",
    "# as well as the coordinate dictionary\n",
    "def create_output_dict():\n",
    "    return"
   ]
  },
  {
   "cell_type": "code",
   "execution_count": null,
   "metadata": {},
   "outputs": [],
   "source": []
  }
 ],
 "metadata": {
  "kernelspec": {
   "display_name": "Python 3",
   "language": "python",
   "name": "python3"
  },
  "language_info": {
   "codemirror_mode": {
    "name": "ipython",
    "version": 3
   },
   "file_extension": ".py",
   "mimetype": "text/x-python",
   "name": "python",
   "nbconvert_exporter": "python",
   "pygments_lexer": "ipython3",
   "version": "3.8.5"
  }
 },
 "nbformat": 4,
 "nbformat_minor": 4
}
