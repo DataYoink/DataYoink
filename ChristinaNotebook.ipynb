{
 "cells": [
  {
   "cell_type": "markdown",
   "metadata": {},
   "source": [
    "# Coordinate Calculator and Label Compiler"
   ]
  },
  {
   "cell_type": "markdown",
   "metadata": {},
   "source": [
    "Inputs:\n",
    "- location in pixels of beginning and end of axes\n",
    "- range of axes\n",
    "- units of axis range\n",
    "- user's desired spacing for x coordinates\n",
    "- NO legend input! how to specify different colors/markers that separates the curves (for later stages)\n",
    "    - could eventually have mask look for the legend (distinctive enough) to learn what types of distinguishing features exist between the lines on the graph\n",
    "    - I will ignore this part for now\n",
    "- detectron2 output:\n",
    "    - list of dicts, one dict for each image\n",
    "    - each dict has field 'panoptic_seg' which refers to a (named?) tuple.\n",
    "    - the first field in the tuple is a tensor with the ID of each pixel\n",
    "    - the second field is a list of dicts with one dict per ID.\n",
    "    - entries in this dict are 'id' which is the ID that matches the first field tensor, and 'category_id'\n",
    "    \n",
    "Outputs:\n",
    "- dictionary with the following fields:\n",
    "    - coordinates: a dictionary, with fields equal to the curve labels (one for each label), and entries that are a list of tuples, each with (x, and y coordinates in same units as input image)\n",
    "    - units: (a tuple of x and y units)\n",
    "    - beginning and end of curve\n",
    "    - NO labels (for later stages): a list of labels for each curve, taken from legend if possible, or automatic (data1, data2, etc)\n",
    "\n",
    "\n",
    "Options for coordinates:\n",
    "1. based on the actual axis, choose a set of x coordinates for which we want to know the y coordinates (for each curve)\n",
    "2. based on pixels, grab points that occur every \"few\" pixels along the x axis, then convert to coordinates\n",
    "\n",
    "- could do the first option by finding out how many pixels are between each of the given x points, and using that number of pixels paired with the second option.\n",
    "- do we want user to input the spacing between points, or should we use a default value that seems reasonable based on the range of the x axis?\n",
    "- should the different curves have uniform x axis values (so y values are directly comparable), or should we have the sets of data points for each curve start at the 'beginning' of the curve and end at the 'end'\n",
    "\n",
    "\n",
    "Outlier cases:\n",
    "- nested plots\n",
    "- weird legend formatting"
   ]
  },
  {
   "cell_type": "code",
   "execution_count": 2,
   "metadata": {},
   "outputs": [],
   "source": [
    "# uniform x axis but also save the very first and last endpoints of the curve "
   ]
  },
  {
   "cell_type": "markdown",
   "metadata": {},
   "source": [
    "### Notes, TODO\n",
    "- adjust the x and y pixel locations to lie on the same horizontal and vertical lines\n",
    "- put the coordinate and pixel min max values in a dictionary or something more compact"
   ]
  },
  {
   "cell_type": "code",
   "execution_count": 1,
   "metadata": {},
   "outputs": [],
   "source": [
    "import pandas as pd\n",
    "import numpy as np"
   ]
  },
  {
   "cell_type": "code",
   "execution_count": 3,
   "metadata": {},
   "outputs": [],
   "source": [
    "# create the axis info dictionary\n",
    "def get_axis_info(xcoordinatemin, xcoordinatemax, xpixelmin, xpixelmax, ycoordinatemin, ycoordinatemax, ypixelmin, ypixelmax, max_points, units):\n",
    "    # if the input from kev is in a more compact form extract this info below before passing into the scale funcitons\n",
    "    x_scale = get_x_scale(xcoordinatemin, xcoordinatemax, xpixelmin, xpixelmax)\n",
    "    y_scale = get_y_scale(ycoordinatemin, ycoordinatemax, ypixelmin, ypixelmax)\n",
    "    pixel_origin = (xpixelmin, ypixelmax) # assumes that y pixel max is the larger y value\n",
    "    axis_info_dict = {'pixel_origin': pixel_origin,\n",
    "                      'x_scale': x_scale,\n",
    "                      'y_scale': y_scale\n",
    "                      'step': get_step(max_points, xpixelmin, xpixelmax)\n",
    "                      'units': units}\n",
    "    return axis_info_dict"
   ]
  },
  {
   "cell_type": "code",
   "execution_count": null,
   "metadata": {},
   "outputs": [],
   "source": [
    "# convert the max points desired into a step size in pixels\n",
    "def get_step(max_points, xpixelmin, xpixelmax):\n",
    "    #step = length of x axis in pixels / max_points\n",
    "    step = (xpixelmax - xpixelmin) / max_points\n",
    "    return step"
   ]
  },
  {
   "cell_type": "code",
   "execution_count": 1,
   "metadata": {},
   "outputs": [],
   "source": [
    "# establish scaling from pixel to real units\n",
    "def get_x_scale(xcoordinatemin, xcoordinatemax, xpixelmin, xpixelmax):\n",
    "    # the x pixel and x coordinate count up in the same direction\n",
    "    pixel_range = xpixelmax - xpixelmin\n",
    "    coordinate_range = xcoordinatemax - xcoordinatemin\n",
    "    x_scale = pixel_range / coordinate_range\n",
    "    return x_scale # pixels per coordinate\n",
    "\n",
    "\n",
    "def get_y_scale(ycoordinatemin, ycoordinatemax, ypixelmin, ypixelmax):\n",
    "    # y pixel count down and y coordinate count up from origin\n",
    "    pixel_range = ypixelmin - ypixelmax\n",
    "    coordinate_range = ycoordinatemax - ycoordinatemin\n",
    "    y_scale = pixel_range / coordinate_range\n",
    "    return y_scale # pixels per coordinate"
   ]
  },
  {
   "cell_type": "code",
   "execution_count": null,
   "metadata": {},
   "outputs": [],
   "source": [
    "# convert pixel location to coordinates\n",
    "def pixel_to_coords(pixel_loc, axis_info_dict):\n",
    "    # pixel_loc is a tuple (x,y) of pixel location starting from top left\n",
    "    x_pixel_loc = pixel_loc[0]\n",
    "    coord_x = x_pixel_to_coords(x_pixel_loc, axis_info_dict)\n",
    "    \n",
    "    # get signed distance from pixel to origin in x and y(pixel units):\n",
    "    pixel_distance_y = axis_info_dict['pixel_origin'][1] - pixel_loc[1]\n",
    "    \n",
    "    # pixels / (pixel/coord) = coord\n",
    "    coord_y = pixel_distance_y / axis_info_dict['y_scale']\n",
    "    return (coord_x, coord_y)"
   ]
  },
  {
   "cell_type": "code",
   "execution_count": 4,
   "metadata": {},
   "outputs": [],
   "source": [
    "# for use later in code, just the x axis pixel to coords\n",
    "def x_pixel_to_coords(x_pixel_loc, axis_info_dict):\n",
    "    pixel_distance_x = x_pixel_loc - axis_info_dict['pixel_origin'][0]\n",
    "    coord_x = pixel_distance_x / axis_info_dict['x_scale']\n",
    "    return coord_x"
   ]
  },
  {
   "cell_type": "code",
   "execution_count": 4,
   "metadata": {},
   "outputs": [],
   "source": [
    "# each curve is one ID. get all pixel locations for one ID\n",
    "def get_pixels_for_id(ID, pixel_tensor):\n",
    "    pixel_array = np.array(pixel_tensor)\n",
    "    result = np.where(pixel_array == ID)\n",
    "    pixel_lst = list(zip(result[0], result[1]))\n",
    "    return pixel_lst"
   ]
  },
  {
   "cell_type": "markdown",
   "metadata": {},
   "source": [
    "maybe incorporate later:\n",
    "\n",
    "convert ID to the label from the legend input\n",
    "\n",
    "def get_label_for_id():\n",
    "    return label"
   ]
  },
  {
   "cell_type": "code",
   "execution_count": null,
   "metadata": {},
   "outputs": [],
   "source": [
    "# dont really need this. accomplished in the unify x function\n",
    "# pretty much get the avg y pixel function for each unique x pixel value\n",
    "def clean_pixel_lst(pixel_lst):\n",
    "    return cleaned_pixel_lst"
   ]
  },
  {
   "cell_type": "code",
   "execution_count": 1,
   "metadata": {},
   "outputs": [],
   "source": [
    "# find closest number in list to value val\n",
    "def closest(lst, val):\n",
    "    lst = np.asarray(lst)\n",
    "    idx = (np.abs(lst - val)).argmin()\n",
    "    return lst[idx]"
   ]
  },
  {
   "cell_type": "code",
   "execution_count": null,
   "metadata": {},
   "outputs": [],
   "source": [
    "# return x and y values of the unified list\n",
    "def unify_x(pixel_lst, axis_info_dict):\n",
    "    # get the number of pixels between each desired coordinate pt based on scale\n",
    "    # create bins of pixels and avg the values between them\n",
    "    # pretty much copy (with modification) my existing code from elsewhere\n",
    "    pixel_lst.sort()\n",
    "    \n",
    "    # step is a global variable based on user input\n",
    "    step = axis_info_dict['step']\n",
    "    x_end = len(pixel_lst) / step\n",
    "    x_vals = [range(0, x_end, step)]\n",
    "    \n",
    "    # create dictionary of point and closest standard x val\n",
    "    closest_dict = {}\n",
    "    for point in pixel_lst:\n",
    "        key = closest(x_vals, point[0])\n",
    "        if key in closest_dict:\n",
    "            closest_dict[key].append(point)\n",
    "        else:\n",
    "            closest_dict[key] = [point]\n",
    "    \n",
    "    # iterate through keys to average all y values in each set\n",
    "    for key in closest_dict:\n",
    "        y_vals = [i[1] for i in closest_dict[key]]\n",
    "        y_val = sum(y_vals) / len(y_vals)\n",
    "        closest_dict[key] = y_val\n",
    "    \n",
    "    # for all the missing dict keys, make a line between nearest values and fill it in\n",
    "    existing_keys = list(closest_dict.keys())\n",
    "    existing_keys.sort()\n",
    "    for x in x_vals:\n",
    "        if x not in existing_keys:\n",
    "            # find the index of first existing x greater than x\n",
    "            i = 0\n",
    "            while existing_keys[i] < x and i < (len(x_vals + 1)):\n",
    "                i += 1\n",
    "            \n",
    "            x2 = existing_keys[i] # existing x just above missing x\n",
    "            y2 = closest_dict[x2]\n",
    "            x1 = existing_keys[i-1] # existing x just below missing x\n",
    "            y1 = closest_dict[x1]\n",
    "            \n",
    "            # find line between bounds\n",
    "            m = (y1 - y2) / (x1 - x2)\n",
    "            b = (x1 * y2 - x2 * y1) / (x1 - x2)\n",
    "            \n",
    "            # solve for y of x\n",
    "            y = m * x + b\n",
    "            closest_dict[x] = y\n",
    "\n",
    "        else:\n",
    "            continue\n",
    "    \n",
    "    # turn dictionary into a list of tuples\n",
    "    unified_pixel_lst = list(closest_dict.items())\n",
    "    unified_pixel_lst.sort()\n",
    "    \n",
    "    \n",
    "    return unified_pixel_lst # a list of (x, y) tuples"
   ]
  },
  {
   "cell_type": "code",
   "execution_count": 6,
   "metadata": {},
   "outputs": [],
   "source": [
    "# step 1 to create coordinate dictionary to add to the output dict\n",
    "def create_pixel_dict(panoptic_seg):\n",
    "    # initialize dict\n",
    "    pixel_dict = {}\n",
    "    \n",
    "    # get list of IDs:\n",
    "    lst_of_dicts = panoptic_seg[1]\n",
    "    \n",
    "    for id_dict in lst_of_dicts:\n",
    "        # get ID:\n",
    "        ID = id_dict['id']\n",
    "        pixel_lst = get_pixels_for_id(ID)\n",
    "        #cleaned_pixel_lst = clean_pixel_lst(pixel_lst)\n",
    "        \n",
    "        # add the list of pixels for this ID to the pixel dict\n",
    "        pixel_dict[str(ID)] = pixel_lst\n",
    "    return pixel_dict"
   ]
  },
  {
   "cell_type": "code",
   "execution_count": 7,
   "metadata": {},
   "outputs": [],
   "source": [
    "# create coordinate dictionary to add to the output dict\n",
    "def create_coordinate_dict(pixel_dict, axis_info_dict):\n",
    "    # initialize dict\n",
    "    coordinate_dict = {}\n",
    "    \n",
    "    for ID in pixel_dict.keys():\n",
    "        pixel_lst = pixel_dict[ID]\n",
    "        \n",
    "        # get unified x axis:\n",
    "        # add an if statement to handle user specifiying either step size (in coordinates) or number of points\n",
    "        unified_pixel_lst = unify_x(pixel_lst, axis_info_dict)\n",
    "        \n",
    "        # convert pixels to coordinates\n",
    "        coordinate_lst = []\n",
    "        for pixel_loc in unified_pixel_lst:\n",
    "            coordinate_lst.append(pixel_to_coords(pixel_loc, axis_info_dict))\n",
    "        \n",
    "        # add the list of coordinates for this ID to the coordinate dict\n",
    "        coordinate_dict[str(ID)] = coordinate_lst\n",
    "    return coordinate_dict"
   ]
  },
  {
   "cell_type": "code",
   "execution_count": null,
   "metadata": {},
   "outputs": [],
   "source": [
    "# get the coordinate locations of the start and end of the curve\n",
    "def get_start_end(pixel_dict):\n",
    "    # initialize dict\n",
    "    start_end_dict = {}\n",
    "    \n",
    "    for ID in pixel_dict.keys():\n",
    "        pixel_lst = pixel_dict[ID]\n",
    "        \n",
    "        # get start and end, assumes x is in the first position\n",
    "        start = x_pixel_to_coords(min(pixel_lst)[0])\n",
    "        end = x_pixel_to_coords(max(pixel_lst)[0])\n",
    "        # add the start and end tuple for this ID to the pixel dict\n",
    "        start_end_dict[str(ID)] = (start, end)\n",
    "    return start_end_dict"
   ]
  },
  {
   "cell_type": "code",
   "execution_count": 8,
   "metadata": {},
   "outputs": [],
   "source": [
    "# create the output dictionary and input the units of axis and labels directly from the input info,\n",
    "# as well as the coordinate dictionary\n",
    "def create_output_dict(panoptic_seg, axis_info_dict):\n",
    "    pixel_dict = create_pixel_dict(panoptic_seg)\n",
    "    output_dict = {}\n",
    "    output_dict['coordinates'] = create_coordinate_dict(pixel_dict, axis_info_dict)\n",
    "    output_dict['start_end'] = get_start_end(pixel_dict)\n",
    "    output_dict['units'] = axis_info_dict['units']\n",
    "    return output_dict"
   ]
  },
  {
   "cell_type": "code",
   "execution_count": null,
   "metadata": {},
   "outputs": [],
   "source": [
    "# add section to convert to csv\n",
    "def write_results_to_excel(output_dict):\n",
    "    writer = pd.ExcelWriter('multiple.xlsx', engine 'xlsxwriter')\n",
    "    x_units = output_dict['units'][0]\n",
    "    y_units = output_dict['units'][1]\n",
    "    \n",
    "    # a summary of the start and end of the x axis for each ID\n",
    "    starts = []\n",
    "    ends = []\n",
    "    ids = []\n",
    "    for ID in output_dict[start_end].keys():\n",
    "        ids.append(ID)\n",
    "        start = output_dict['start_end'][ID][0]\n",
    "        end = output_dict['start_end'][ID][1]\n",
    "        starts.append(start)\n",
    "        ends.append(end)\n",
    "    df = pd.DataFrame([ids, starts, ends],  columns=['ID', 'x start '+str(x_units), 'x end '+str(x_units)])\n",
    "    df.to_excel(writer, sheet_name='starts_ends')\n",
    "    \n",
    "    # the actual data in xy form, one ID per sheet\n",
    "    for ID in output_dict['coordinates'].keys():\n",
    "        x = output_dict['coordinates'][ID][0]\n",
    "        y = output_dict['coordinates'][ID][1]\n",
    "        column_titles = ['x, ' + str(x_units), 'y, ' + str(y_units)]\n",
    "        df = pd.DataFrame([x, y], columns=column_titles)\n",
    "        df.to_excel(writer, sheet_name=str(ID))\n",
    "    writer.save()"
   ]
  }
 ],
 "metadata": {
  "kernelspec": {
   "display_name": "Python 3",
   "language": "python",
   "name": "python3"
  },
  "language_info": {
   "codemirror_mode": {
    "name": "ipython",
    "version": 3
   },
   "file_extension": ".py",
   "mimetype": "text/x-python",
   "name": "python",
   "nbconvert_exporter": "python",
   "pygments_lexer": "ipython3",
   "version": "3.8.5"
  }
 },
 "nbformat": 4,
 "nbformat_minor": 4
}
