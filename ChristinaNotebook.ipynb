{
 "cells": [
  {
   "cell_type": "markdown",
   "metadata": {},
   "source": [
    "# Coordinate Calculator and Label Compiler"
   ]
  },
  {
   "cell_type": "markdown",
   "metadata": {},
   "source": [
    "Inputs:\n",
    "- location in pixels of beginning and end of axes\n",
    "- range of axes\n",
    "- units of axis range\n",
    "- user's desired spacing for x coordinates\n",
    "- NO legend input! how to specify different colors/markers that separates the curves (for later stages)\n",
    "    - could eventually have mask look for the legend (distinctive enough) to learn what types of distinguishing features exist between the lines on the graph\n",
    "    - I will ignore this part for now\n",
    "- detectron2 output:\n",
    "    - list of dicts, one dict for each image\n",
    "    - each dict has an object 'instances' with the following fields.\n",
    "        - pred_masks: a tensor of shape (N,H,W) for N instances and an image of height H and width W.\n",
    "        - access it using: ```outputs['instances'].pred_masks```\n",
    "        - True False for each pixel\n",
    "    \n",
    "Outputs:\n",
    "- dictionary with the following fields:\n",
    "    - coordinates: a dictionary, with fields equal to the curve labels (one for each label), and entries that are a list of tuples, each with (x, and y coordinates in same units as input image)\n",
    "    - units: (a tuple of x and y units)\n",
    "    - beginning and end of curve\n",
    "    - NO labels (for later stages): a list of labels for each curve, taken from legend if possible, or automatic (data1, data2, etc)\n",
    "\n",
    "\n",
    "Options for coordinates:\n",
    "1. based on the actual axis, choose a set of x coordinates for which we want to know the y coordinates (for each curve)\n",
    "2. based on pixels, grab points that occur every \"few\" pixels along the x axis, then convert to coordinates\n",
    "\n",
    "- could do the first option by finding out how many pixels are between each of the given x points, and using that number of pixels paired with the second option.\n",
    "- do we want user to input the spacing between points, or should we use a default value that seems reasonable based on the range of the x axis?\n",
    "- should the different curves have uniform x axis values (so y values are directly comparable), or should we have the sets of data points for each curve start at the 'beginning' of the curve and end at the 'end'\n",
    "\n",
    "\n",
    "Outlier cases:\n",
    "- nested plots\n",
    "- weird legend formatting"
   ]
  },
  {
   "cell_type": "markdown",
   "metadata": {},
   "source": [
    "uniform x axis but also save the very first and last endpoints of the curve "
   ]
  },
  {
   "cell_type": "markdown",
   "metadata": {},
   "source": [
    "maybe incorporate later:\n",
    "\n",
    "convert ID to the label from the legend input\n",
    "\n",
    "def get_label_for_id():\n",
    "    return label"
   ]
  },
  {
   "cell_type": "markdown",
   "metadata": {},
   "source": [
    "### Notes, TODO\n",
    "- adjust the x and y pixel locations to lie on the same horizontal and vertical lines\n",
    "- put the coordinate and pixel min max values in a dictionary or something more compact\n",
    "- use os to create a directory for each project. currently puts excel files in the current folder"
   ]
  },
  {
   "cell_type": "code",
   "execution_count": 1,
   "metadata": {},
   "outputs": [],
   "source": [
    "import pandas as pd\n",
    "import numpy as np"
   ]
  },
  {
   "cell_type": "markdown",
   "metadata": {},
   "source": [
    "This is the first function called in my code. The arguments are all of the user input that I need"
   ]
  },
  {
   "cell_type": "code",
   "execution_count": 67,
   "metadata": {},
   "outputs": [],
   "source": [
    "# create the axis info dictionary\n",
    "# note: ypixelmin < ypixelmax\n",
    "def get_axis_info(xcoordinatemin, xcoordinatemax, xpixelmin, xpixelmax, ycoordinatemin, ycoordinatemax, ypixelmin, ypixelmax, max_points, units):\n",
    "    # if the input from kev is in a more compact form extract this info below before passing into the scale funcitons\n",
    "    x_scale = get_x_scale(xcoordinatemin, xcoordinatemax, xpixelmin, xpixelmax)\n",
    "    y_scale = get_x_scale(ycoordinatemin, ycoordinatemax, ypixelmin, ypixelmax)\n",
    "    pixel_origin = (xpixelmin, ypixelmax) # assumes that y pixel min is the larger y value\n",
    "    axis_info_dict = {'pixel_origin': pixel_origin,\n",
    "                      'x_scale': x_scale,\n",
    "                      'y_scale': y_scale,\n",
    "                      'step': get_step(max_points, xpixelmin, xpixelmax),\n",
    "                      'units': units,\n",
    "                      'y_pixel_range': (ypixelmin, ypixelmax),\n",
    "                      'x_pixel_range': (xpixelmin, xpixelmax)}\n",
    "    return axis_info_dict"
   ]
  },
  {
   "cell_type": "code",
   "execution_count": 23,
   "metadata": {},
   "outputs": [],
   "source": [
    "def test_get_axis_info():\n",
    "    # the output is a dictionary with the fields: pixel_origin, x_scale, y_scale, step, and units\n",
    "    axis_info_dict = get_axis_info(1, 5, 20, 250, 10, 25, 30, 280, 30, ('volts', 'amps'))\n",
    "    assert isinstance(axis_info_dict, dict), 'axis_info_dict is not a dictionary'\n",
    "    for field in ['step', 'pixel_origin', 'x_scale', 'y_scale', 'units', 'y_pixel_range', 'x_pixel_range']:\n",
    "        assert field in axis_info_dict.keys(), 'axis_info_dict is missing fields'\n",
    "    return\n",
    "test_get_axis_info()"
   ]
  },
  {
   "cell_type": "code",
   "execution_count": 32,
   "metadata": {},
   "outputs": [],
   "source": [
    "# convert the max points desired into a step size in pixels\n",
    "def get_step(max_points, xpixelmin, xpixelmax):\n",
    "    #step = length of x axis in pixels / max_points\n",
    "    step = np.ceil((xpixelmax - xpixelmin) / max_points)\n",
    "    return int(step)"
   ]
  },
  {
   "cell_type": "code",
   "execution_count": 36,
   "metadata": {},
   "outputs": [],
   "source": [
    "def test_get_step():\n",
    "    step1 = get_step(19, 10, 200)\n",
    "    step2 = get_step(18, 10, 200)\n",
    "    step3 = get_step(16, 10, 200)\n",
    "    # the step size * the number of points should be close to the length of the axis\n",
    "    # step size is an integer\n",
    "    for step in [step1, step2, step3]:\n",
    "        assert isinstance(step, int), 'the step size is not an integer'\n",
    "    # the length of the axis/ step size should be close to but less than the max points\n",
    "    assert np.isclose(190 / step1, 19), 'length of axis/step size not ~< max points'\n",
    "    assert ((190 / step2) < 18) and ((190 / step2) > 17), 'length of axis/step size not ~< max points'\n",
    "    assert ((190 / step3) < 16) and ((190 / step3) > 15), 'length of axis/step size not ~< max points'\n",
    "    return\n",
    "test_get_step()"
   ]
  },
  {
   "cell_type": "code",
   "execution_count": 42,
   "metadata": {},
   "outputs": [],
   "source": [
    "# establish scaling from pixel to real units\n",
    "def get_x_scale(xcoordinatemin, xcoordinatemax, xpixelmin, xpixelmax):\n",
    "    # the x pixel and x coordinate count up in the same direction\n",
    "    pixel_range = xpixelmax - xpixelmin\n",
    "    coordinate_range = xcoordinatemax - xcoordinatemin\n",
    "    x_scale = pixel_range / coordinate_range\n",
    "    return x_scale # pixels per coordinate"
   ]
  },
  {
   "cell_type": "markdown",
   "metadata": {},
   "source": [
    "#if the ypixelmin is the smaller of the ypixel values, then this is the same as the x scaling. just using get_scale for now\n",
    "def get_y_scale(ycoordinatemin, ycoordinatemax, ypixelmin, ypixelmax):\n",
    "    # y pixel count down and y coordinate count up from origin\n",
    "    pixel_range = ypixelmin - ypixelmax\n",
    "    coordinate_range = ycoordinatemax - ycoordinatemin\n",
    "    y_scale = pixel_range / coordinate_range\n",
    "    return y_scale # pixels per coordinate"
   ]
  },
  {
   "cell_type": "code",
   "execution_count": 46,
   "metadata": {},
   "outputs": [],
   "source": [
    "def test_get_x_scale():\n",
    "    x_scale = get_x_scale(1, 5, 20, 250)\n",
    "    # x_scale * coordinate range should equal pixel range\n",
    "    assert np.isclose(x_scale * (5-1), (250-20)), 'the x scaling is incorrect'\n",
    "    assert np.isclose(x_scale, 57.5), 'the x scaling is incorrect'\n",
    "    \n",
    "    x_scale = get_x_scale(-1, -5, 20, 250)\n",
    "    assert np.isclose(x_scale * (-5+1), (250-20)), 'the x scaling is incorrect'\n",
    "    assert np.isclose(x_scale, -57.5), 'the x scaling is incorrect'\n",
    "    return\n",
    "test_get_x_scale()"
   ]
  },
  {
   "cell_type": "markdown",
   "metadata": {},
   "source": [
    "def test_get_y_scale():\n",
    "    y_scale = get_y_scale(10, 25, 30, 280)\n",
    "    # y_scale should be greater than zero\n",
    "    assert y_scale > 0, 'y scale should be greater than zero'\n",
    "    # y_scale * coordinate range should equal pixel range\n",
    "    assert np.isclose(y_scale * (25-10), (280-30)), 'the y scaling is incorrect'\n",
    "    assert np.isclose(y_scale, 16.666666666), 'example y scale is incorrect'\n",
    "    return\n",
    "test_get_y_scale()"
   ]
  },
  {
   "cell_type": "code",
   "execution_count": 47,
   "metadata": {},
   "outputs": [],
   "source": [
    "# convert pixel location to coordinates\n",
    "def pixel_to_coords(pixel_loc, axis_info_dict):\n",
    "    # pixel_loc is a tuple (x,y) of pixel location starting from top left\n",
    "    x_pixel_loc = pixel_loc[0]\n",
    "    coord_x = x_pixel_to_coords(x_pixel_loc, axis_info_dict)\n",
    "    \n",
    "    # get signed distance from pixel to origin in x and y(pixel units):\n",
    "    pixel_distance_y = axis_info_dict['pixel_origin'][1] - pixel_loc[1]\n",
    "    \n",
    "    # pixels / (pixel/coord) = coord\n",
    "    coord_y = pixel_distance_y / axis_info_dict['y_scale']\n",
    "    return (coord_x, coord_y)"
   ]
  },
  {
   "cell_type": "code",
   "execution_count": 48,
   "metadata": {},
   "outputs": [],
   "source": [
    "# for use later in code, just the x axis pixel to coords\n",
    "def x_pixel_to_coords(x_pixel_loc, axis_info_dict):\n",
    "    pixel_distance_x = x_pixel_loc - axis_info_dict['pixel_origin'][0]\n",
    "    coord_x = pixel_distance_x / axis_info_dict['x_scale']\n",
    "    return coord_x"
   ]
  },
  {
   "cell_type": "code",
   "execution_count": 54,
   "metadata": {},
   "outputs": [],
   "source": [
    "def test_pixel_to_coords():\n",
    "    axis_info_dict1 = {'pixel_origin': (20, 100), 'y_scale': 5.3, 'x_scale': 20.5}\n",
    "    axis_info_dict2 = {'pixel_origin': (20, 100), 'y_scale': -0.2, 'x_scale': 0.005}\n",
    "    # the output coordinates should be within the coordinate ranges for each axis\n",
    "    # given a scale and a location, test a few cases (+-0)\n",
    "    coords1 = pixel_to_coords((20, 100), axis_info_dict1) # (0,0)\n",
    "    coords2 = pixel_to_coords((20, 100), axis_info_dict2) # (0,0)\n",
    "    coords3 = pixel_to_coords((55, 33), axis_info_dict1) # (1.707317, 12.641509)\n",
    "    coords4 = pixel_to_coords((55, 33), axis_info_dict2) # (7000, -335)\n",
    "    coords5 = pixel_to_coords((55, 105), axis_info_dict2) # (1.707317, 25)\n",
    "    \n",
    "    assert np.isclose(coords1[0], 0), 'pixel to coordinate conversion is incorrect'\n",
    "    assert np.isclose(coords1[1], 0), 'pixel to coordinate conversion is incorrect'\n",
    "    assert np.isclose(coords2[0], 0), 'pixel to coordinate conversion is incorrect'\n",
    "    assert np.isclose(coords2[1], 0), 'pixel to coordinate conversion is incorrect'\n",
    "    assert np.isclose(coords3[0], 1.707317), 'pixel to coordinate conversion is incorrect'\n",
    "    assert np.isclose(coords3[1], 12.64150943), 'pixel to coordinate conversion is incorrect'\n",
    "    assert np.isclose(coords4[0], 7000), 'pixel to coordinate conversion is incorrect'\n",
    "    assert np.isclose(coords4[1], -335), 'pixel to coordinate conversion is incorrect'\n",
    "    assert np.isclose(coords5[1], 25), 'pixel to coordinate conversion is incorrect'\n",
    "    return\n",
    "test_pixel_to_coords()"
   ]
  },
  {
   "cell_type": "markdown",
   "metadata": {},
   "source": [
    "#dont really need this. accomplished in the unify x function\n",
    "#pretty much get the avg y pixel function for each unique x pixel value\n",
    "def clean_pixel_lst(pixel_lst):\n",
    "    return cleaned_pixel_lst"
   ]
  },
  {
   "cell_type": "code",
   "execution_count": 10,
   "metadata": {},
   "outputs": [],
   "source": [
    "# find closest number in list to value val\n",
    "def closest(lst, val):\n",
    "    lst = np.asarray(lst)\n",
    "    idx = (np.abs(lst - val)).argmin()\n",
    "    return lst[idx]"
   ]
  },
  {
   "cell_type": "code",
   "execution_count": 59,
   "metadata": {},
   "outputs": [],
   "source": [
    "def test_closest():\n",
    "    lst = [0, 2, 1, 3, 4, 5, 6]\n",
    "    # val is equidistant to two values in list, first one in list is chosen\n",
    "    assert closest(lst, 1.5) == 2, 'closest value is incorrect'\n",
    "    assert closest(lst, 3.5) == 3, 'closest value is incorrect'\n",
    "    # val is equal to one value in list\n",
    "    assert closest(lst, 2) == 2, 'closest value is incorrect'\n",
    "    # val is closer to one in particular\n",
    "    assert closest(lst, 1.8) == 2, 'closest value is incorrect'\n",
    "    return\n",
    "test_closest()"
   ]
  },
  {
   "cell_type": "code",
   "execution_count": 106,
   "metadata": {},
   "outputs": [],
   "source": [
    "# return x and y values of the unified list\n",
    "def unify_x(pixel_lst, axis_info_dict):\n",
    "    # get the number of pixels between each desired coordinate pt based on scale\n",
    "    # create bins of pixels and avg the values between them\n",
    "    pixel_lst.sort()\n",
    "    \n",
    "    # step is a global variable based on user input\n",
    "    step = axis_info_dict['step']\n",
    "    x_pixels = [i[0] for i in pixel_lst]\n",
    "    x_vals = list(range(min(x_pixels), max(x_pixels), step))\n",
    "\n",
    "    \n",
    "    # create dictionary of point and closest standard x val\n",
    "    closest_dict = {}\n",
    "    for point in pixel_lst:\n",
    "        key = closest(x_vals, point[0])\n",
    "        if key in closest_dict.keys():\n",
    "            closest_dict[key].append(point)\n",
    "        else:\n",
    "            closest_dict[key] = [point]\n",
    "    \n",
    "    # iterate through keys to average all y values in each set\n",
    "    for key in closest_dict:\n",
    "        y_vals = [i[1] for i in closest_dict[key]]\n",
    "        y_val = sum(y_vals) / len(y_vals)\n",
    "        closest_dict[key] = y_val\n",
    "    \n",
    "    # for all the missing dict keys, make a line between nearest values and fill it in\n",
    "    existing_keys = list(closest_dict.keys())\n",
    "    existing_keys.sort()\n",
    "    for x in x_vals:\n",
    "        if x not in existing_keys:\n",
    "            # find the index of first existing x greater than x\n",
    "            i = 0\n",
    "            while existing_keys[i] < x and i < (len(x_vals) + 1):\n",
    "                i += 1\n",
    "            \n",
    "            x2 = existing_keys[i] # existing x just above missing x\n",
    "            y2 = closest_dict[x2]\n",
    "            x1 = existing_keys[i-1] # existing x just below missing x\n",
    "            y1 = closest_dict[x1]\n",
    "            \n",
    "            # find line between bounds\n",
    "            m = (y1 - y2) / (x1 - x2)\n",
    "            b = (x1 * y2 - x2 * y1) / (x1 - x2)\n",
    "            \n",
    "            # solve for y of x\n",
    "            y = m * x + b\n",
    "            closest_dict[x] = y\n",
    "\n",
    "        else:\n",
    "            continue\n",
    "    \n",
    "    # turn dictionary into a list of tuples\n",
    "    unified_pixel_lst = list(closest_dict.items())\n",
    "    unified_pixel_lst.sort()\n",
    "    \n",
    "    \n",
    "    return unified_pixel_lst # a list of (x, y) tuples"
   ]
  },
  {
   "cell_type": "code",
   "execution_count": 107,
   "metadata": {},
   "outputs": [],
   "source": [
    "def test_unify_x():\n",
    "    axis_info_dict = {'step': 3}\n",
    "    pixel_lst = [(20, 100), (20, 90), (21, 91), (22, 85), (22, 83), (23, 80), (24, 81), (24, 83), (25, 80), (29, 50), (29, 45), (30, 30), (30, 10)]\n",
    "    pixels_y = [i[1] for i in pixel_lst]\n",
    "    pixels_x = [i[0] for i in pixel_lst]\n",
    "    unified_pixel_lst = unify_x(pixel_lst, axis_info_dict)\n",
    "    unified_x = [i[0] for i in unified_pixel_lst]\n",
    "    unified_y = [i[1] for i in unified_pixel_lst]\n",
    "    x_spaces = np.diff(unified_x)\n",
    "    # the x values in the list of tuples are all stepsize apart\n",
    "    assert np.allclose(x_spaces, 3), 'the spacing between x values is incorrect'\n",
    "    # the x values are unique\n",
    "    assert len(set(unified_x)) == len(unified_x), 'the x values are not unique'\n",
    "    # y values are all between the min and max pixel\n",
    "    for y in unified_y:\n",
    "        assert y <= max(pixels_y) and y >= min(pixels_y), 'unified y value is outside of expected bounds'\n",
    "    # same for x values\n",
    "    for x in unified_x:\n",
    "        assert x <= max(pixels_x) and x >= min(pixels_x), 'unified x value is outside of expected bounds'\n",
    "    return\n",
    "test_unify_x()"
   ]
  },
  {
   "cell_type": "code",
   "execution_count": 90,
   "metadata": {},
   "outputs": [],
   "source": [
    "# modified\n",
    "\n",
    "\n",
    "# looks at one N and all H,W values in that 'slice'\n",
    "# each curve is one ID. get all pixel locations for one ID\n",
    "def get_pixels_2d(pixel_array_2d):\n",
    "    result = np.where(pixel_array_2d == True)\n",
    "    pixel_lst = list(zip(result[1], result[0])) # gives the x then the y in the tuple\n",
    "    return pixel_lst"
   ]
  },
  {
   "cell_type": "code",
   "execution_count": 94,
   "metadata": {},
   "outputs": [],
   "source": [
    "def test_get_pixels_2d():\n",
    "    # create an array with a few trues and many falses, check positions in output match\n",
    "    test_array = np.array([[ False,  True, False,  False, False, False, False],\n",
    "       [ False, False,  False,  True, False, False, False],\n",
    "       [ False,  False, False, False, False,  True, False],\n",
    "       [True, False, False,  False, False, False, True],\n",
    "       [False, False,  False, False, False, False, False]])\n",
    "    pixel_lst = get_pixels_2d(test_array)\n",
    "    expected_pixel_lst = [(1, 0), (3, 1), (5, 2), (0, 3), (6, 3)]\n",
    "    assert set(expected_pixel_lst) == set(pixel_lst), 'unexpected values in 2d pixel list'\n",
    "    return\n",
    "test_get_pixels_2d()"
   ]
  },
  {
   "cell_type": "code",
   "execution_count": 114,
   "metadata": {},
   "outputs": [],
   "source": [
    "# testing\n",
    "zeros = np.random.rand(2,3,4)\n",
    "np.random.choice([True, False], (2, 5, 7), p=[0.2, 0.8]);"
   ]
  },
  {
   "cell_type": "code",
   "execution_count": 100,
   "metadata": {},
   "outputs": [],
   "source": [
    "# modified\n",
    "\n",
    "# ID = curve_N, N starts at 1 not zero\n",
    "# step 1 to create coordinate dictionary to add to the output dict\n",
    "def create_pixel_dict(pred_masks):\n",
    "    # initialize dict\n",
    "    pixel_dict = {}\n",
    "    \n",
    "    pixel_array_3d = np.array(pred_masks)\n",
    "    for N in range(len(pixel_array_3d)):\n",
    "        pixel_array_2d = pixel_array_3d[N]\n",
    "        pixel_lst = get_pixels_2d(pixel_array_2d)\n",
    "        \n",
    "        # add the list of pixels for this N to the pixel dict\n",
    "        ID = 'curve_' + str(N+1)\n",
    "        pixel_dict[ID] = pixel_lst\n",
    "    return pixel_dict"
   ]
  },
  {
   "cell_type": "code",
   "execution_count": 104,
   "metadata": {},
   "outputs": [],
   "source": [
    "def test_create_pixel_dict():\n",
    "    pred_masks = np.array([[[False,  True, False,  True, False, False, False],\n",
    "        [False, False, False, False, False,  True,  True],\n",
    "        [False,  True, False, False, False, False, False],\n",
    "        [False,  True,  True, False, False, False, False],\n",
    "        [False, False,  True, False, False, False, False]],\n",
    "\n",
    "       [[ True, False, False, False, False,  True,  True],\n",
    "        [ True, False, False, False,  True, False, False],\n",
    "        [False, False, False, False, False,  True, False],\n",
    "        [False, False,  True, False,  True, False, False],\n",
    "        [False, False, False, False,  True, False, False]]])\n",
    "    pixel_dict = create_pixel_dict(pred_masks)\n",
    "    # check that the keys are 'curve_' and then a unique number that matches the shape of pred_masks\n",
    "    assert list(pixel_dict.keys()) == ['curve_1', 'curve_2'], 'incorrect keys in pixel_dict'\n",
    "    # the values are not the same for each one (not repeated)\n",
    "    assert set(pixel_dict['curve_1']) != set(pixel_dict['curve_2']), 'curves in pixel_dict are not unique'\n",
    "    return\n",
    "test_create_pixel_dict()"
   ]
  },
  {
   "cell_type": "code",
   "execution_count": 14,
   "metadata": {},
   "outputs": [],
   "source": [
    "# create coordinate dictionary to add to the output dict\n",
    "def create_coordinate_dict(pixel_dict, axis_info_dict):\n",
    "    # initialize dict\n",
    "    coordinate_dict = {}\n",
    "    \n",
    "    for ID in pixel_dict.keys():\n",
    "        pixel_lst = pixel_dict[ID]\n",
    "        \n",
    "        # get unified x axis:\n",
    "        # add an if statement to handle user specifiying either step size (in coordinates) or number of points\n",
    "        unified_pixel_lst = unify_x(pixel_lst, axis_info_dict)\n",
    "        \n",
    "        # convert pixels to coordinates\n",
    "        coordinate_lst = []\n",
    "        for pixel_loc in unified_pixel_lst:\n",
    "            coordinate_lst.append(pixel_to_coords(pixel_loc, axis_info_dict))\n",
    "        \n",
    "        # add the list of coordinates for this ID to the coordinate dict\n",
    "        coordinate_dict[str(ID)] = coordinate_lst\n",
    "    return coordinate_dict"
   ]
  },
  {
   "cell_type": "code",
   "execution_count": 108,
   "metadata": {},
   "outputs": [],
   "source": [
    "def test_create_coordinate_dict():\n",
    "    pred_masks = np.array([[[False,  True, False,  True, False, False, False],\n",
    "        [False, False, False, False, False,  True,  True],\n",
    "        [False,  True, False, False, False, False, False],\n",
    "        [False,  True,  True, False, False, False, False],\n",
    "        [False, False,  True, False, False, False, False]],\n",
    "\n",
    "       [[ True, False, False, False, False,  True,  True],\n",
    "        [ True, False, False, False,  True, False, False],\n",
    "        [False, False, False, False, False,  True, False],\n",
    "        [False, False,  True, False,  True, False, False],\n",
    "        [False, False, False, False,  True, False, False]]])\n",
    "    pixel_dict = create_pixel_dict(pred_masks)\n",
    "    axis_info_dict = {'pixel_origin': (0, 4), 'y_scale': 5.3, 'x_scale': 20.5, 'step': 1}\n",
    "    coordinate_dict = create_coordinate_dict(pixel_dict, axis_info_dict)\n",
    "    # the keys of the coordinate dict are the same as that of the pixel dict\n",
    "    assert set(coordinate_dict.keys()) == set(pixel_dict.keys()), 'keys of coordinate and pixel dicts dont match'\n",
    "    return\n",
    "test_create_coordinate_dict()"
   ]
  },
  {
   "cell_type": "code",
   "execution_count": 110,
   "metadata": {},
   "outputs": [],
   "source": [
    "# get the coordinate locations of the start and end of the curve\n",
    "def get_start_end(pixel_dict, axis_info_dict):\n",
    "    # initialize dict\n",
    "    start_end_dict = {}\n",
    "    \n",
    "    for ID in pixel_dict.keys():\n",
    "        pixel_lst = pixel_dict[ID]\n",
    "        \n",
    "        # get start and end, assumes x is in the first position\n",
    "        start = x_pixel_to_coords(min(pixel_lst)[0], axis_info_dict)\n",
    "        end = x_pixel_to_coords(max(pixel_lst)[0], axis_info_dict)\n",
    "        # add the start and end tuple for this ID to the pixel dict\n",
    "        start_end_dict[str(ID)] = (start, end)\n",
    "    return start_end_dict"
   ]
  },
  {
   "cell_type": "code",
   "execution_count": 112,
   "metadata": {},
   "outputs": [],
   "source": [
    "def test_get_start_end():\n",
    "    pred_masks = np.array([[[False,  True, False,  True, False, False, False],\n",
    "        [False, False, False, False, False,  True,  True],\n",
    "        [False,  True, False, False, False, False, False],\n",
    "        [False,  True,  True, False, False, False, False],\n",
    "        [False, False,  True, False, False, False, False]],\n",
    "\n",
    "       [[ True, False, False, False, False,  True,  True],\n",
    "        [ True, False, False, False,  True, False, False],\n",
    "        [False, False, False, False, False,  True, False],\n",
    "        [False, False,  True, False,  True, False, False],\n",
    "        [False, False, False, False,  True, False, False]]])\n",
    "    pixel_dict = create_pixel_dict(pred_masks)\n",
    "    axis_info_dict = {'pixel_origin': (0, 4), 'y_scale': 5.3, 'x_scale': 20.5, 'step': 1}\n",
    "    start_end_dict = get_start_end(pixel_dict, axis_info_dict)\n",
    "    # the keys of the output dict are the same as the input\n",
    "    assert set(start_end_dict.keys()) == set(pixel_dict.keys()), 'keys of start_end and pixel dicts dont match'\n",
    "    for key in start_end_dict.keys():\n",
    "        # the end is larger than (or equal to) the start\n",
    "        assert start_end_dict[key][1] >= start_end_dict[key][0], 'starting x value greater than end value'\n",
    "        # the start and end are between the coordinate ranges (hard to test without using all other functions)\n",
    "    return\n",
    "test_get_start_end()"
   ]
  },
  {
   "cell_type": "code",
   "execution_count": 17,
   "metadata": {},
   "outputs": [],
   "source": [
    "# modified\n",
    "\n",
    "\n",
    "\n",
    "# create the output dictionary and input the units of axis and labels directly from the input info,\n",
    "# as well as the coordinate dictionary\n",
    "def create_output_dict(pred_masks, axis_info_dict):\n",
    "    pixel_dict = create_pixel_dict(pred_masks)\n",
    "    output_dict = {}\n",
    "    output_dict['coordinates'] = create_coordinate_dict(pixel_dict, axis_info_dict)\n",
    "    output_dict['start_end'] = get_start_end(pixel_dict, axis_info_dict)\n",
    "    output_dict['units'] = axis_info_dict['units']\n",
    "    return output_dict"
   ]
  },
  {
   "cell_type": "code",
   "execution_count": 19,
   "metadata": {},
   "outputs": [],
   "source": [
    "# saves the resulting coordinates and start/stop info in an excel file with one sheet per curve\n",
    "def write_results_to_excel(output_dict, filename):\n",
    "    excel_filename = str(filename) + '.xlsx'\n",
    "    writer = pd.ExcelWriter(excel_filename, engine='xlsxwriter')\n",
    "    x_units = output_dict['units'][0]\n",
    "    y_units = output_dict['units'][1]\n",
    "    \n",
    "    # a summary of the start and end of the x axis for each ID\n",
    "    starts = []\n",
    "    ends = []\n",
    "    ids = []\n",
    "    for ID in output_dict[start_end].keys():\n",
    "        ids.append(ID)\n",
    "        start = output_dict['start_end'][ID][0]\n",
    "        end = output_dict['start_end'][ID][1]\n",
    "        starts.append(start)\n",
    "        ends.append(end)\n",
    "    df = pd.DataFrame([ids, starts, ends],  columns=['ID', 'x start '+str(x_units), 'x end '+str(x_units)])\n",
    "    df.to_excel(writer, sheet_name='starts_ends')\n",
    "    \n",
    "    # the actual data in xy form, one ID per sheet\n",
    "    for ID in output_dict['coordinates'].keys():\n",
    "        x = output_dict['coordinates'][ID][0]\n",
    "        y = output_dict['coordinates'][ID][1]\n",
    "        column_titles = ['x, ' + str(x_units), 'y, ' + str(y_units)]\n",
    "        df = pd.DataFrame([x, y], columns=column_titles)\n",
    "        df.to_excel(writer, sheet_name=str(ID))\n",
    "    writer.save()"
   ]
  },
  {
   "cell_type": "code",
   "execution_count": 20,
   "metadata": {},
   "outputs": [],
   "source": [
    "# modified - might need to check if there are more than one image before indexing for multiple\n",
    "\n",
    "\n",
    "# loops through each image in the output of detectron2\n",
    "def datayoink_to_csv(detect_output, axis_info_dict):\n",
    "    n_images = len(detect_output)\n",
    "    for image in range(n_images):\n",
    "        pred_masks = detect_output[image]['instances'].pred_masks\n",
    "        output_dict = create_output_dict(pred_masks, axis_info_dict)\n",
    "        filename = 'image_' + str(image)\n",
    "        write_results_to_excel(output_dict, filename)\n",
    "    return"
   ]
  },
  {
   "cell_type": "markdown",
   "metadata": {},
   "source": [
    "In order to use these functions, code looks like this:"
   ]
  },
  {
   "cell_type": "code",
   "execution_count": null,
   "metadata": {},
   "outputs": [],
   "source": [
    "# detect_output is the output of detectron2 - list of instances objects\n",
    "axis_info_dict = get_axis_info(xcoordinatemin, xcoordinatemax, xpixelmin, xpixelmax, ycoordinatemin, ycoordinatemax, ypixelmin, ypixelmax, max_points, units)\n",
    "datayoink_to_csv(detect_output, axis_info_dict)"
   ]
  }
 ],
 "metadata": {
  "kernelspec": {
   "display_name": "Python 3",
   "language": "python",
   "name": "python3"
  },
  "language_info": {
   "codemirror_mode": {
    "name": "ipython",
    "version": 3
   },
   "file_extension": ".py",
   "mimetype": "text/x-python",
   "name": "python",
   "nbconvert_exporter": "python",
   "pygments_lexer": "ipython3",
   "version": "3.8.5"
  }
 },
 "nbformat": 4,
 "nbformat_minor": 4
}
