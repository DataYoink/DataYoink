{
 "cells": [
  {
   "cell_type": "markdown",
   "metadata": {},
   "source": [
    "# Coordinate Calculator and Label Compiler"
   ]
  },
  {
   "cell_type": "markdown",
   "metadata": {},
   "source": [
    "Inputs:\n",
    "- location in pixels of beginning and end of axes\n",
    "- range of axes\n",
    "- units of axis range\n",
    "- legend input? how to specify different colors/markers that separates the curves\n",
    "    - could eventually have mask look for the legend (distinctive enough) to learn what types of distinguishing features exist between the lines on the graph\n",
    "    - I will ignore this part for now\n",
    "- detectron2 output:\n",
    "    - list of dicts, one dict for each image\n",
    "    - each dict has field 'panoptic_seg' which refers to a (named?) tuple.\n",
    "    - the first field in the tuple is a tensor with the ID of each pixel\n",
    "    - the second field is a list of dicts with one dict per ID.\n",
    "    - entries in this dict are 'id' which is the ID that matches the first field tensor, and 'category_id'\n",
    "    \n",
    "Outputs:\n",
    "- dictionary with the following fields:\n",
    "    - coordinates: a list of tuples, one for each label, each with (x, and y coordinates in same units as input image)\n",
    "    - units: (a tuple of x and y units)\n",
    "    - labels: a list of labels for each curve, taken from legend if possible, or automatic (data1, data2, etc)\n",
    "    "
   ]
  },
  {
   "cell_type": "code",
   "execution_count": null,
   "metadata": {},
   "outputs": [],
   "source": [
    "# create the output dictionary and input the units of axis and labels directly from the input info\n",
    "def create_output_dict():\n",
    "    return"
   ]
  },
  {
   "cell_type": "code",
   "execution_count": null,
   "metadata": {},
   "outputs": [],
   "source": [
    "# establish scaling from pixel to real units\n",
    "def get_x_scale():\n",
    "    return x_scale\n",
    "\n",
    "\n",
    "def get_y_scale():\n",
    "    return y_scale"
   ]
  },
  {
   "cell_type": "code",
   "execution_count": null,
   "metadata": {},
   "outputs": [],
   "source": [
    "# convert pixel location to coordinates\n",
    "def pixel_to_coords():\n",
    "    return coords"
   ]
  },
  {
   "cell_type": "code",
   "execution_count": null,
   "metadata": {},
   "outputs": [],
   "source": [
    "# each curve is one ID. get all pixel locations for one ID\n",
    "def get_pixels_for_id():\n",
    "    return pixels"
   ]
  },
  {
   "cell_type": "code",
   "execution_count": null,
   "metadata": {},
   "outputs": [],
   "source": [
    "# convert ID to the label from the legend input\n",
    "def get_label_for_id():\n",
    "    return label"
   ]
  }
 ],
 "metadata": {
  "kernelspec": {
   "display_name": "Python 3",
   "language": "python",
   "name": "python3"
  },
  "language_info": {
   "codemirror_mode": {
    "name": "ipython",
    "version": 3
   },
   "file_extension": ".py",
   "mimetype": "text/x-python",
   "name": "python",
   "nbconvert_exporter": "python",
   "pygments_lexer": "ipython3",
   "version": "3.8.5"
  }
 },
 "nbformat": 4,
 "nbformat_minor": 4
}
