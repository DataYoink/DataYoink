{
 "cells": [
  {
   "cell_type": "markdown",
   "metadata": {},
   "source": [
    "# Coordinate Calculator and Label Compiler"
   ]
  },
  {
   "cell_type": "markdown",
   "metadata": {},
   "source": [
    "Inputs:\n",
    "- location in pixels of beginning and end of axes\n",
    "- range of axes\n",
    "- units of axis range\n",
    "- user's desired spacing for x coordinates\n",
    "- NO legend input! how to specify different colors/markers that separates the curves (for later stages)\n",
    "    - could eventually have mask look for the legend (distinctive enough) to learn what types of distinguishing features exist between the lines on the graph\n",
    "    - I will ignore this part for now\n",
    "- detectron2 output:\n",
    "    - list of dicts, one dict for each image\n",
    "    - each dict has field 'panoptic_seg' which refers to a (named?) tuple.\n",
    "    - the first field in the tuple is a tensor with the ID of each pixel\n",
    "    - the second field is a list of dicts with one dict per ID.\n",
    "    - entries in this dict are 'id' which is the ID that matches the first field tensor, and 'category_id'\n",
    "    \n",
    "Outputs:\n",
    "- dictionary with the following fields:\n",
    "    - coordinates: a dictionary, with fields equal to the curve labels (one for each label), and entries that are a list of tuples, each with (x, and y coordinates in same units as input image)\n",
    "    - units: (a tuple of x and y units)\n",
    "    - beginning and end of curve\n",
    "    - NO labels (for later stages): a list of labels for each curve, taken from legend if possible, or automatic (data1, data2, etc)\n",
    "\n",
    "\n",
    "Options for coordinates:\n",
    "1. based on the actual axis, choose a set of x coordinates for which we want to know the y coordinates (for each curve)\n",
    "2. based on pixels, grab points that occur every \"few\" pixels along the x axis, then convert to coordinates\n",
    "\n",
    "- could do the first option by finding out how many pixels are between each of the given x points, and using that number of pixels paired with the second option.\n",
    "- do we want user to input the spacing between points, or should we use a default value that seems reasonable based on the range of the x axis?\n",
    "- should the different curves have uniform x axis values (so y values are directly comparable), or should we have the sets of data points for each curve start at the 'beginning' of the curve and end at the 'end'\n",
    "\n",
    "\n",
    "Outlier cases:\n",
    "- nested plots\n",
    "- weird legend formatting"
   ]
  },
  {
   "cell_type": "code",
   "execution_count": 2,
   "metadata": {},
   "outputs": [],
   "source": [
    "# uniform x axis but also save the very first and last endpoints of the curve "
   ]
  },
  {
   "cell_type": "markdown",
   "metadata": {},
   "source": [
    "### Notes, TODO\n",
    "- adjust the x and y pixel locations to lie on the same horizontal and vertical lines\n",
    "- put the coordinate and pixel min max values in a dictionary or something more compact"
   ]
  },
  {
   "cell_type": "code",
   "execution_count": 3,
   "metadata": {},
   "outputs": [],
   "source": [
    "# create the axis info dictionary\n",
    "def get_axis_info(xcoordinatemin, xcoordinatemax, xpixelmin, xpixelmax, ycoordinatemin, ycoordinatemax, ypixelmin, ypixelmax):\n",
    "    # if the input from kev is in a more compact form extract this info below before passing into the scale funcitons\n",
    "    x_scale = get_x_scale(xcoordinatemin, xcoordinatemax, xpixelmin, xpixelmax)\n",
    "    y_scale = get_y_scale(ycoordinatemin, ycoordinatemax, ypixelmin, ypixelmax)\n",
    "    pixel_origin = (xpixelmin, ypixelmax) # assumes that y pixel max is the larger y value\n",
    "    axis_info_dict = {'pixel_origin': pixel_origin,\n",
    "                      'x_scale': x_scale,\n",
    "                      'y_scale': y_scale}\n",
    "    return axis_info_dict"
   ]
  },
  {
   "cell_type": "code",
   "execution_count": 1,
   "metadata": {},
   "outputs": [],
   "source": [
    "# establish scaling from pixel to real units\n",
    "def get_x_scale(xcoordinatemin, xcoordinatemax, xpixelmin, xpixelmax):\n",
    "    # the x pixel and x coordinate count up in the same direction\n",
    "    pixel_range = xpixelmax - xpixelmin\n",
    "    coordinate_range = xcoordinatemax - xcoordinatemin\n",
    "    x_scale = pixel_range / coordinate_range\n",
    "    return x_scale # pixels per coordinate\n",
    "\n",
    "\n",
    "def get_y_scale(ycoordinatemin, ycoordinatemax, ypixelmin, ypixelmax):\n",
    "    # y pixel count down and y coordinate count up from origin\n",
    "    pixel_range = ypixelmin - ypixelmax\n",
    "    coordinate_range = ycoordinatemax - ycoordinatemin\n",
    "    y_scale = pixel_range / coordinate_range\n",
    "    return y_scale # pixels per coordinate"
   ]
  },
  {
   "cell_type": "code",
   "execution_count": null,
   "metadata": {},
   "outputs": [],
   "source": [
    "# convert pixel location to coordinates\n",
    "def pixel_to_coords(pixel_loc, axis_info_dict):\n",
    "    # pixel_loc is a tuple (x,y) of pixel location starting from top left\n",
    "    \n",
    "    # get signed distance from pixel to origin in x and y(pixel units):\n",
    "    pixel_distance_x = pixel_loc[0] - axis_info_dict['pixel_origin'][0]\n",
    "    pixel_distance_y = axis_info_dict['pixel_origin'][1] - pixel_loc[1]\n",
    "    \n",
    "    # pixels / (pixel/coord) = coord\n",
    "    coord_x = pixel_distance_x / axis_info_dict['x_scale']\n",
    "    coord_y = pixel_distance_y / axis_info_dict['y_scale']\n",
    "    return (coord_x, coord_y)"
   ]
  },
  {
   "cell_type": "code",
   "execution_count": 4,
   "metadata": {},
   "outputs": [],
   "source": [
    "# each curve is one ID. get all pixel locations for one ID\n",
    "def get_pixels_for_id(ID, pixel_tensor):\n",
    "    pixel_array = np.array(pixel_tensor)\n",
    "    result = np.where(pixel_array == ID)\n",
    "    pixel_lst = list(zip(result[0], result[1]))\n",
    "    return pixel_lst"
   ]
  },
  {
   "cell_type": "markdown",
   "metadata": {},
   "source": [
    "maybe incorporate later:\n",
    "\n",
    "convert ID to the label from the legend input\n",
    "\n",
    "def get_label_for_id():\n",
    "    return label"
   ]
  },
  {
   "cell_type": "code",
   "execution_count": null,
   "metadata": {},
   "outputs": [],
   "source": [
    "# pretty much call the avg y pixel function for each unique x pixel value\n",
    "def clean_pixel_lst(pixel_lst):\n",
    "    return cleaned_pixel_lst"
   ]
  },
  {
   "cell_type": "code",
   "execution_count": null,
   "metadata": {},
   "outputs": [],
   "source": [
    "# average all y pixels for a given x pixel\n",
    "def get_avg_y_pixel():\n",
    "    return avg_y_pixel"
   ]
  },
  {
   "cell_type": "code",
   "execution_count": 6,
   "metadata": {},
   "outputs": [],
   "source": [
    "# TODO add in the cleaning of the coordinates based on y averaging\n",
    "# and x axis unification\n",
    "# maybe break this into two functions. first creates a pixel dict\n",
    "\n",
    "# create coordinate dictionary to add to the output dict\n",
    "def create_pixel_dict(panoptic_seg):\n",
    "    # initialize dict\n",
    "    pixel_dict = {}\n",
    "    \n",
    "    # get list of IDs:\n",
    "    lst_of_dicts = panoptic_seg[1]\n",
    "    \n",
    "    for id_dict in lst_of_dicts:\n",
    "        # get ID:\n",
    "        ID = id_dict['id']\n",
    "        pixel_lst = get_pixels_for_id(ID)\n",
    "        cleaned_pixel_lst = clean_pixel_lst(pixel_lst)\n",
    "        \n",
    "        # add the list of pixels for this ID to the pixel dict\n",
    "        pixel_dict[str(ID)] = cleaned_pixel_lst\n",
    "    return pixel_dict"
   ]
  },
  {
   "cell_type": "code",
   "execution_count": 7,
   "metadata": {},
   "outputs": [],
   "source": [
    "# TODO add in the cleaning of the coordinates based on y averaging\n",
    "# and x axis unification\n",
    "# maybe break this into two functions. first creates a pixel dict\n",
    "\n",
    "# create coordinate dictionary to add to the output dict\n",
    "def create_coordinate_dict(pixel_dict, axis_info_dict):\n",
    "    # initialize dict\n",
    "    coordinate_dict = {}\n",
    "    \n",
    "    for ID in pixel_dict.keys():\n",
    "        pixel_lst = pixel_dict[ID]\n",
    "        \n",
    "        # convert pixels to coordinates\n",
    "        coordinate_lst = []\n",
    "        for pixel_loc in pixel_lst:\n",
    "            coordinate_lst.append(pixel_to_coords(pixel_loc, axis_info_dict))\n",
    "        \n",
    "        # add the list of coordinates for this ID to the coordinate dict\n",
    "        coordinate_dict[str(ID)] = coordinate_lst\n",
    "    return coordinate_dict"
   ]
  },
  {
   "cell_type": "code",
   "execution_count": null,
   "metadata": {},
   "outputs": [],
   "source": [
    "def get_start_end(pixel_dict):\n",
    "    return"
   ]
  },
  {
   "cell_type": "code",
   "execution_count": 8,
   "metadata": {},
   "outputs": [],
   "source": [
    "# create the output dictionary and input the units of axis and labels directly from the input info,\n",
    "# as well as the coordinate dictionary\n",
    "def create_output_dict(panoptic_seg, axis_info_dict, units):\n",
    "    pixel_dict = create_pixel_dict(panoptic_seg)\n",
    "    output_dict = {}\n",
    "    output_dict['coordinates'] = create_coordinate_dict(pixel_dict, axis_info_dict)\n",
    "    output_dict['start_end'] = get_start_end(pixel_dict)\n",
    "    output_dict['units'] = units\n",
    "    return output_dict"
   ]
  },
  {
   "cell_type": "code",
   "execution_count": null,
   "metadata": {},
   "outputs": [],
   "source": []
  }
 ],
 "metadata": {
  "kernelspec": {
   "display_name": "Python 3",
   "language": "python",
   "name": "python3"
  },
  "language_info": {
   "codemirror_mode": {
    "name": "ipython",
    "version": 3
   },
   "file_extension": ".py",
   "mimetype": "text/x-python",
   "name": "python",
   "nbconvert_exporter": "python",
   "pygments_lexer": "ipython3",
   "version": "3.8.5"
  }
 },
 "nbformat": 4,
 "nbformat_minor": 4
}
