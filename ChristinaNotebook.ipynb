{
 "cells": [
  {
   "cell_type": "markdown",
   "metadata": {},
   "source": [
    "# Coordinate Calculator and Label Compiler"
   ]
  },
  {
   "cell_type": "markdown",
   "metadata": {},
   "source": [
    "Inputs:\n",
    "- location in pixels of beginning and end of axes\n",
    "- range of axes\n",
    "- units of axis range\n",
    "- user's desired spacing for x coordinates\n",
    "- NO legend input! how to specify different colors/markers that separates the curves (for later stages)\n",
    "    - could eventually have mask look for the legend (distinctive enough) to learn what types of distinguishing features exist between the lines on the graph\n",
    "    - I will ignore this part for now\n",
    "- detectron2 output:\n",
    "    - list of dicts, one dict for each image\n",
    "    - each dict has an object 'instances' with the following fields.\n",
    "        - pred_masks: a tensor of shape (N,H,W) for N instances and an image of height H and width W.\n",
    "        - access it using: ```outputs['instances'].pred_masks```\n",
    "    \n",
    "Outputs:\n",
    "- dictionary with the following fields:\n",
    "    - coordinates: a dictionary, with fields equal to the curve labels (one for each label), and entries that are a list of tuples, each with (x, and y coordinates in same units as input image)\n",
    "    - units: (a tuple of x and y units)\n",
    "    - beginning and end of curve\n",
    "    - NO labels (for later stages): a list of labels for each curve, taken from legend if possible, or automatic (data1, data2, etc)\n",
    "\n",
    "\n",
    "Options for coordinates:\n",
    "1. based on the actual axis, choose a set of x coordinates for which we want to know the y coordinates (for each curve)\n",
    "2. based on pixels, grab points that occur every \"few\" pixels along the x axis, then convert to coordinates\n",
    "\n",
    "- could do the first option by finding out how many pixels are between each of the given x points, and using that number of pixels paired with the second option.\n",
    "- do we want user to input the spacing between points, or should we use a default value that seems reasonable based on the range of the x axis?\n",
    "- should the different curves have uniform x axis values (so y values are directly comparable), or should we have the sets of data points for each curve start at the 'beginning' of the curve and end at the 'end'\n",
    "\n",
    "\n",
    "Outlier cases:\n",
    "- nested plots\n",
    "- weird legend formatting"
   ]
  },
  {
   "cell_type": "markdown",
   "metadata": {},
   "source": [
    "uniform x axis but also save the very first and last endpoints of the curve "
   ]
  },
  {
   "cell_type": "markdown",
   "metadata": {},
   "source": [
    "maybe incorporate later:\n",
    "\n",
    "convert ID to the label from the legend input\n",
    "\n",
    "def get_label_for_id():\n",
    "    return label"
   ]
  },
  {
   "cell_type": "markdown",
   "metadata": {},
   "source": [
    "### Notes, TODO\n",
    "- adjust the x and y pixel locations to lie on the same horizontal and vertical lines\n",
    "- put the coordinate and pixel min max values in a dictionary or something more compact\n",
    "- use os to create a directory for each project. currently puts excel files in the current folder"
   ]
  },
  {
   "cell_type": "code",
   "execution_count": 1,
   "metadata": {},
   "outputs": [],
   "source": [
    "import pandas as pd\n",
    "import numpy as np"
   ]
  },
  {
   "cell_type": "markdown",
   "metadata": {},
   "source": [
    "This is the first function called in my code. The arguments are all of the user input that I need"
   ]
  },
  {
   "cell_type": "code",
   "execution_count": 5,
   "metadata": {},
   "outputs": [],
   "source": [
    "# create the axis info dictionary\n",
    "def get_axis_info(xcoordinatemin, xcoordinatemax, xpixelmin, xpixelmax, ycoordinatemin, ycoordinatemax, ypixelmin, ypixelmax, max_points, units):\n",
    "    # if the input from kev is in a more compact form extract this info below before passing into the scale funcitons\n",
    "    x_scale = get_x_scale(xcoordinatemin, xcoordinatemax, xpixelmin, xpixelmax)\n",
    "    y_scale = get_y_scale(ycoordinatemin, ycoordinatemax, ypixelmin, ypixelmax)\n",
    "    pixel_origin = (xpixelmin, ypixelmax) # assumes that y pixel max is the larger y value\n",
    "    axis_info_dict = {'pixel_origin': pixel_origin,\n",
    "                      'x_scale': x_scale,\n",
    "                      'y_scale': y_scale,\n",
    "                      'step': get_step(max_points, xpixelmin, xpixelmax),\n",
    "                      'units': units,\n",
    "                      'y_pixel_range': (ypixelmin, ypixelmax),\n",
    "                      'x_pixel_range': (xpixelmin, xpixelmax)}\n",
    "    return axis_info_dict"
   ]
  },
  {
   "cell_type": "code",
   "execution_count": null,
   "metadata": {},
   "outputs": [],
   "source": [
    "def test_get_axis_info():\n",
    "    # the output is a dictionary with the fields: pixel_origin, x_scale, y_scale, step, and units\n",
    "    return"
   ]
  },
  {
   "cell_type": "code",
   "execution_count": 6,
   "metadata": {},
   "outputs": [],
   "source": [
    "# convert the max points desired into a step size in pixels\n",
    "def get_step(max_points, xpixelmin, xpixelmax):\n",
    "    #step = length of x axis in pixels / max_points\n",
    "    step = (xpixelmax - xpixelmin) / max_points\n",
    "    return step"
   ]
  },
  {
   "cell_type": "code",
   "execution_count": null,
   "metadata": {},
   "outputs": [],
   "source": [
    "def test_get_step():\n",
    "    # the step size * the number of points should be close to the length of the axis\n",
    "    # step size is an integer\n",
    "    # the length of the axis/ step size should be close to but less than the max points\n",
    "    return"
   ]
  },
  {
   "cell_type": "code",
   "execution_count": 7,
   "metadata": {},
   "outputs": [],
   "source": [
    "# establish scaling from pixel to real units\n",
    "def get_x_scale(xcoordinatemin, xcoordinatemax, xpixelmin, xpixelmax):\n",
    "    # the x pixel and x coordinate count up in the same direction\n",
    "    pixel_range = xpixelmax - xpixelmin\n",
    "    coordinate_range = xcoordinatemax - xcoordinatemin\n",
    "    x_scale = pixel_range / coordinate_range\n",
    "    return x_scale # pixels per coordinate\n",
    "\n",
    "\n",
    "def get_y_scale(ycoordinatemin, ycoordinatemax, ypixelmin, ypixelmax):\n",
    "    # y pixel count down and y coordinate count up from origin\n",
    "    pixel_range = ypixelmin - ypixelmax\n",
    "    coordinate_range = ycoordinatemax - ycoordinatemin\n",
    "    y_scale = pixel_range / coordinate_range\n",
    "    return y_scale # pixels per coordinate"
   ]
  },
  {
   "cell_type": "code",
   "execution_count": null,
   "metadata": {},
   "outputs": [],
   "source": [
    "def test_get_x_scale():\n",
    "    # x_scale should be greater than 1 (or maybe not depending on the units)\n",
    "    # x_scale * coordinate range should equal pixel range\n",
    "    return"
   ]
  },
  {
   "cell_type": "code",
   "execution_count": null,
   "metadata": {},
   "outputs": [],
   "source": [
    "def test_get_y_scale():\n",
    "    # y_scale should be greater than zero\n",
    "    # y_scale * coordinate range should equal pixel range\n",
    "    return"
   ]
  },
  {
   "cell_type": "code",
   "execution_count": 8,
   "metadata": {},
   "outputs": [],
   "source": [
    "# convert pixel location to coordinates\n",
    "def pixel_to_coords(pixel_loc, axis_info_dict):\n",
    "    # pixel_loc is a tuple (x,y) of pixel location starting from top left\n",
    "    x_pixel_loc = pixel_loc[0]\n",
    "    coord_x = x_pixel_to_coords(x_pixel_loc, axis_info_dict)\n",
    "    \n",
    "    # get signed distance from pixel to origin in x and y(pixel units):\n",
    "    pixel_distance_y = axis_info_dict['pixel_origin'][1] - pixel_loc[1]\n",
    "    \n",
    "    # pixels / (pixel/coord) = coord\n",
    "    coord_y = pixel_distance_y / axis_info_dict['y_scale']\n",
    "    return (coord_x, coord_y)"
   ]
  },
  {
   "cell_type": "code",
   "execution_count": null,
   "metadata": {},
   "outputs": [],
   "source": [
    "def test_pixel_to_coords():\n",
    "    # given a scale and a location, test a few cases (+-0)\n",
    "    # the output coordinates are within the coordinate ranges for each axis\n",
    "    return"
   ]
  },
  {
   "cell_type": "code",
   "execution_count": 9,
   "metadata": {},
   "outputs": [],
   "source": [
    "# for use later in code, just the x axis pixel to coords\n",
    "def x_pixel_to_coords(x_pixel_loc, axis_info_dict):\n",
    "    pixel_distance_x = x_pixel_loc - axis_info_dict['pixel_origin'][0]\n",
    "    coord_x = pixel_distance_x / axis_info_dict['x_scale']\n",
    "    return coord_x"
   ]
  },
  {
   "cell_type": "code",
   "execution_count": 11,
   "metadata": {},
   "outputs": [],
   "source": [
    "# dont really need this. accomplished in the unify x function\n",
    "# pretty much get the avg y pixel function for each unique x pixel value\n",
    "def clean_pixel_lst(pixel_lst):\n",
    "    return cleaned_pixel_lst"
   ]
  },
  {
   "cell_type": "code",
   "execution_count": 12,
   "metadata": {},
   "outputs": [],
   "source": [
    "# find closest number in list to value val\n",
    "def closest(lst, val):\n",
    "    lst = np.asarray(lst)\n",
    "    idx = (np.abs(lst - val)).argmin()\n",
    "    return lst[idx]"
   ]
  },
  {
   "cell_type": "code",
   "execution_count": null,
   "metadata": {},
   "outputs": [],
   "source": [
    "def test_closest():\n",
    "    # val is equidistant to two values in list\n",
    "    # val is equal to one value in list\n",
    "    # val is closer to one in particular\n",
    "    return"
   ]
  },
  {
   "cell_type": "code",
   "execution_count": 13,
   "metadata": {},
   "outputs": [],
   "source": [
    "# return x and y values of the unified list\n",
    "def unify_x(pixel_lst, axis_info_dict):\n",
    "    # get the number of pixels between each desired coordinate pt based on scale\n",
    "    # create bins of pixels and avg the values between them\n",
    "    pixel_lst.sort()\n",
    "    \n",
    "    # step is a global variable based on user input\n",
    "    step = axis_info_dict['step']\n",
    "    x_end = len(pixel_lst) / step\n",
    "    x_vals = [range(0, x_end, step)]\n",
    "    \n",
    "    # create dictionary of point and closest standard x val\n",
    "    closest_dict = {}\n",
    "    for point in pixel_lst:\n",
    "        key = closest(x_vals, point[0])\n",
    "        if key in closest_dict:\n",
    "            closest_dict[key].append(point)\n",
    "        else:\n",
    "            closest_dict[key] = [point]\n",
    "    \n",
    "    # iterate through keys to average all y values in each set\n",
    "    for key in closest_dict:\n",
    "        y_vals = [i[1] for i in closest_dict[key]]\n",
    "        y_val = sum(y_vals) / len(y_vals)\n",
    "        closest_dict[key] = y_val\n",
    "    \n",
    "    # for all the missing dict keys, make a line between nearest values and fill it in\n",
    "    existing_keys = list(closest_dict.keys())\n",
    "    existing_keys.sort()\n",
    "    for x in x_vals:\n",
    "        if x not in existing_keys:\n",
    "            # find the index of first existing x greater than x\n",
    "            i = 0\n",
    "            while existing_keys[i] < x and i < (len(x_vals + 1)):\n",
    "                i += 1\n",
    "            \n",
    "            x2 = existing_keys[i] # existing x just above missing x\n",
    "            y2 = closest_dict[x2]\n",
    "            x1 = existing_keys[i-1] # existing x just below missing x\n",
    "            y1 = closest_dict[x1]\n",
    "            \n",
    "            # find line between bounds\n",
    "            m = (y1 - y2) / (x1 - x2)\n",
    "            b = (x1 * y2 - x2 * y1) / (x1 - x2)\n",
    "            \n",
    "            # solve for y of x\n",
    "            y = m * x + b\n",
    "            closest_dict[x] = y\n",
    "\n",
    "        else:\n",
    "            continue\n",
    "    \n",
    "    # turn dictionary into a list of tuples\n",
    "    unified_pixel_lst = list(closest_dict.items())\n",
    "    unified_pixel_lst.sort()\n",
    "    \n",
    "    \n",
    "    return unified_pixel_lst # a list of (x, y) tuples"
   ]
  },
  {
   "cell_type": "code",
   "execution_count": null,
   "metadata": {},
   "outputs": [],
   "source": [
    "def test_unify_x():\n",
    "    # the x values in the list of tuples are all stepsize apart\n",
    "    # the x values are unique\n",
    "    # y values are all between the min and max pixel\n",
    "    # same for x values\n",
    "    return"
   ]
  },
  {
   "cell_type": "markdown",
   "metadata": {},
   "source": [
    "## modify to use the instances mask which gives true false for each pixel for each instance\n",
    "\n",
    "note: tensor size (num instances, y, x)\n",
    "\n",
    "detectron2 output:\n",
    "- list of dicts, one dict for each image\n",
    "    - each dict has an object 'instances' with the following fields.\n",
    "        - pred_masks: a tensor of shape (N,H,W) for N instances and an image of height H and width W.\n",
    "        - access it using: ```outputs['instances'].pred_masks``` in the case of one image"
   ]
  },
  {
   "cell_type": "code",
   "execution_count": 10,
   "metadata": {},
   "outputs": [],
   "source": [
    "# modified\n",
    "\n",
    "\n",
    "# looks at one N and all H,W values in that 'slice'\n",
    "# each curve is one ID. get all pixel locations for one ID\n",
    "def get_pixels_2d(pixel_array_2d):\n",
    "    result = np.where(pixel_array == True)\n",
    "    pixel_lst = list(zip(result[1], result[0])) # gives the x then the y in the tuple\n",
    "    return pixel_lst"
   ]
  },
  {
   "cell_type": "code",
   "execution_count": null,
   "metadata": {},
   "outputs": [],
   "source": [
    "def test_get_pixels_2d():\n",
    "    # create an array with a few trues and many falses, check positions in output match\n",
    "    return"
   ]
  },
  {
   "cell_type": "code",
   "execution_count": 12,
   "metadata": {},
   "outputs": [
    {
     "data": {
      "text/plain": [
       "array([[[0.84455676, 0.89897016, 0.78674855, 0.69721505],\n",
       "        [0.49250018, 0.95144026, 0.56515559, 0.07534797],\n",
       "        [0.67122673, 0.17205716, 0.7801582 , 0.91178312]],\n",
       "\n",
       "       [[0.54522823, 0.08518038, 0.15126383, 0.96199722],\n",
       "        [0.05317068, 0.80030109, 0.81247336, 0.0199464 ],\n",
       "        [0.60822706, 0.43958936, 0.01509645, 0.01112308]]])"
      ]
     },
     "execution_count": 12,
     "metadata": {},
     "output_type": "execute_result"
    }
   ],
   "source": [
    "zeros = np.random.rand(2,3,4)\n",
    "zeros"
   ]
  },
  {
   "cell_type": "code",
   "execution_count": 21,
   "metadata": {},
   "outputs": [
    {
     "data": {
      "text/plain": [
       "(array([0, 0, 0, 0, 0, 0, 0, 0, 1, 1, 1, 1]),\n",
       " array([0, 0, 0, 0, 1, 2, 2, 2, 0, 1, 1, 2]),\n",
       " array([0, 1, 2, 3, 1, 0, 2, 3, 3, 1, 2, 0]))"
      ]
     },
     "execution_count": 21,
     "metadata": {},
     "output_type": "execute_result"
    }
   ],
   "source": [
    "loc = np.where(zeros > 0.6)\n",
    "loc"
   ]
  },
  {
   "cell_type": "code",
   "execution_count": 14,
   "metadata": {},
   "outputs": [],
   "source": [
    "# modified\n",
    "\n",
    "# ID = curve_N\n",
    "# step 1 to create coordinate dictionary to add to the output dict\n",
    "def create_pixel_dict(pred_masks):\n",
    "    # initialize dict\n",
    "    pixel_dict = {}\n",
    "    \n",
    "    pixel_array_3d = np.array(pred_masks)\n",
    "    for N in range(len(pixel_array_3d)):\n",
    "        pixel_array_2d = pixel_array_3d[N]\n",
    "        pixel_lst = get_pixels_2d(pixel_array_2d)\n",
    "        \n",
    "        # add the list of pixels for this N to the pixel dict\n",
    "        ID = 'curve_' + str(N)\n",
    "        pixel_dict[ID] = pixel_lst\n",
    "    return pixel_dict"
   ]
  },
  {
   "cell_type": "code",
   "execution_count": null,
   "metadata": {},
   "outputs": [],
   "source": [
    "def test_create_pixel_dict():\n",
    "    # check that the keys are 'curve_' and then a unique number that matches the shape of pred_masks\n",
    "    # the values are not the same for each one (not repeated)\n",
    "    return"
   ]
  },
  {
   "cell_type": "code",
   "execution_count": 15,
   "metadata": {},
   "outputs": [],
   "source": [
    "# create coordinate dictionary to add to the output dict\n",
    "def create_coordinate_dict(pixel_dict, axis_info_dict):\n",
    "    # initialize dict\n",
    "    coordinate_dict = {}\n",
    "    \n",
    "    for ID in pixel_dict.keys():\n",
    "        pixel_lst = pixel_dict[ID]\n",
    "        \n",
    "        # get unified x axis:\n",
    "        # add an if statement to handle user specifiying either step size (in coordinates) or number of points\n",
    "        unified_pixel_lst = unify_x(pixel_lst, axis_info_dict)\n",
    "        \n",
    "        # convert pixels to coordinates\n",
    "        coordinate_lst = []\n",
    "        for pixel_loc in unified_pixel_lst:\n",
    "            coordinate_lst.append(pixel_to_coords(pixel_loc, axis_info_dict))\n",
    "        \n",
    "        # add the list of coordinates for this ID to the coordinate dict\n",
    "        coordinate_dict[str(ID)] = coordinate_lst\n",
    "    return coordinate_dict"
   ]
  },
  {
   "cell_type": "code",
   "execution_count": null,
   "metadata": {},
   "outputs": [],
   "source": [
    "def test_create_coordinate_dict():\n",
    "    # the keys of the coordinate dict are the same as that of the pixel dict\n",
    "    return"
   ]
  },
  {
   "cell_type": "code",
   "execution_count": 16,
   "metadata": {},
   "outputs": [],
   "source": [
    "# get the coordinate locations of the start and end of the curve\n",
    "def get_start_end(pixel_dict):\n",
    "    # initialize dict\n",
    "    start_end_dict = {}\n",
    "    \n",
    "    for ID in pixel_dict.keys():\n",
    "        pixel_lst = pixel_dict[ID]\n",
    "        \n",
    "        # get start and end, assumes x is in the first position\n",
    "        start = x_pixel_to_coords(min(pixel_lst)[0])\n",
    "        end = x_pixel_to_coords(max(pixel_lst)[0])\n",
    "        # add the start and end tuple for this ID to the pixel dict\n",
    "        start_end_dict[str(ID)] = (start, end)\n",
    "    return start_end_dict"
   ]
  },
  {
   "cell_type": "code",
   "execution_count": null,
   "metadata": {},
   "outputs": [],
   "source": [
    "def test_get_start_end():\n",
    "    # the keys of the output dict are the same as the input\n",
    "    # the end is larger than the start\n",
    "    # the start and end are between the coordinate ranges\n",
    "    return"
   ]
  },
  {
   "cell_type": "code",
   "execution_count": 17,
   "metadata": {},
   "outputs": [],
   "source": [
    "# modified\n",
    "\n",
    "\n",
    "\n",
    "# create the output dictionary and input the units of axis and labels directly from the input info,\n",
    "# as well as the coordinate dictionary\n",
    "def create_output_dict(pred_masks, axis_info_dict):\n",
    "    pixel_dict = create_pixel_dict(pred_masks)\n",
    "    output_dict = {}\n",
    "    output_dict['coordinates'] = create_coordinate_dict(pixel_dict, axis_info_dict)\n",
    "    output_dict['start_end'] = get_start_end(pixel_dict)\n",
    "    output_dict['units'] = axis_info_dict['units']\n",
    "    return output_dict"
   ]
  },
  {
   "cell_type": "code",
   "execution_count": 19,
   "metadata": {},
   "outputs": [],
   "source": [
    "# saves the resulting coordinates and start/stop info in an excel file with one sheet per curve\n",
    "def write_results_to_excel(output_dict, filename):\n",
    "    excel_filename = str(filename) + '.xlsx'\n",
    "    writer = pd.ExcelWriter(excel_filename, engine='xlsxwriter')\n",
    "    x_units = output_dict['units'][0]\n",
    "    y_units = output_dict['units'][1]\n",
    "    \n",
    "    # a summary of the start and end of the x axis for each ID\n",
    "    starts = []\n",
    "    ends = []\n",
    "    ids = []\n",
    "    for ID in output_dict[start_end].keys():\n",
    "        ids.append(ID)\n",
    "        start = output_dict['start_end'][ID][0]\n",
    "        end = output_dict['start_end'][ID][1]\n",
    "        starts.append(start)\n",
    "        ends.append(end)\n",
    "    df = pd.DataFrame([ids, starts, ends],  columns=['ID', 'x start '+str(x_units), 'x end '+str(x_units)])\n",
    "    df.to_excel(writer, sheet_name='starts_ends')\n",
    "    \n",
    "    # the actual data in xy form, one ID per sheet\n",
    "    for ID in output_dict['coordinates'].keys():\n",
    "        x = output_dict['coordinates'][ID][0]\n",
    "        y = output_dict['coordinates'][ID][1]\n",
    "        column_titles = ['x, ' + str(x_units), 'y, ' + str(y_units)]\n",
    "        df = pd.DataFrame([x, y], columns=column_titles)\n",
    "        df.to_excel(writer, sheet_name=str(ID))\n",
    "    writer.save()"
   ]
  },
  {
   "cell_type": "code",
   "execution_count": 20,
   "metadata": {},
   "outputs": [],
   "source": [
    "# modified - might need to check if there are more than one image before indexing for multiple\n",
    "\n",
    "\n",
    "# loops through each image in the output of detectron2\n",
    "def datayoink_to_csv(detect_output, axis_info_dict):\n",
    "    n_images = len(detect_output)\n",
    "    for image in range(n_images):\n",
    "        pred_masks = detect_output[image]['instances'].pred_masks\n",
    "        output_dict = create_output_dict(pred_masks, axis_info_dict)\n",
    "        filename = 'image_' + str(image)\n",
    "        write_results_to_excel(output_dict, filename)\n",
    "    return"
   ]
  },
  {
   "cell_type": "markdown",
   "metadata": {},
   "source": [
    "In order to use these functions, code looks like this:"
   ]
  },
  {
   "cell_type": "code",
   "execution_count": 21,
   "metadata": {},
   "outputs": [
    {
     "ename": "NameError",
     "evalue": "name 'xcoordinatemin' is not defined",
     "output_type": "error",
     "traceback": [
      "\u001b[0;31m---------------------------------------------------------------------------\u001b[0m",
      "\u001b[0;31mNameError\u001b[0m                                 Traceback (most recent call last)",
      "\u001b[0;32m<ipython-input-21-b9d187bb84c1>\u001b[0m in \u001b[0;36m<module>\u001b[0;34m\u001b[0m\n\u001b[1;32m      1\u001b[0m \u001b[0;31m# detect_output is the output of detectron2 - a list of dictionaries\u001b[0m\u001b[0;34m\u001b[0m\u001b[0;34m\u001b[0m\u001b[0;34m\u001b[0m\u001b[0m\n\u001b[0;32m----> 2\u001b[0;31m \u001b[0maxis_info_dict\u001b[0m \u001b[0;34m=\u001b[0m \u001b[0mget_axis_info\u001b[0m\u001b[0;34m(\u001b[0m\u001b[0mxcoordinatemin\u001b[0m\u001b[0;34m,\u001b[0m \u001b[0mxcoordinatemax\u001b[0m\u001b[0;34m,\u001b[0m \u001b[0mxpixelmin\u001b[0m\u001b[0;34m,\u001b[0m \u001b[0mxpixelmax\u001b[0m\u001b[0;34m,\u001b[0m \u001b[0mycoordinatemin\u001b[0m\u001b[0;34m,\u001b[0m \u001b[0mycoordinatemax\u001b[0m\u001b[0;34m,\u001b[0m \u001b[0mypixelmin\u001b[0m\u001b[0;34m,\u001b[0m \u001b[0mypixelmax\u001b[0m\u001b[0;34m,\u001b[0m \u001b[0mmax_points\u001b[0m\u001b[0;34m,\u001b[0m \u001b[0munits\u001b[0m\u001b[0;34m)\u001b[0m\u001b[0;34m\u001b[0m\u001b[0;34m\u001b[0m\u001b[0m\n\u001b[0m\u001b[1;32m      3\u001b[0m \u001b[0mdatayoink_to_csv\u001b[0m\u001b[0;34m(\u001b[0m\u001b[0mdetect_output\u001b[0m\u001b[0;34m,\u001b[0m \u001b[0maxis_info_dict\u001b[0m\u001b[0;34m)\u001b[0m\u001b[0;34m\u001b[0m\u001b[0;34m\u001b[0m\u001b[0m\n",
      "\u001b[0;31mNameError\u001b[0m: name 'xcoordinatemin' is not defined"
     ]
    }
   ],
   "source": [
    "# detect_output is the output of detectron2 - a list of dictionaries\n",
    "axis_info_dict = get_axis_info(xcoordinatemin, xcoordinatemax, xpixelmin, xpixelmax, ycoordinatemin, ycoordinatemax, ypixelmin, ypixelmax, max_points, units)\n",
    "datayoink_to_csv(detect_output, axis_info_dict)"
   ]
  },
  {
   "cell_type": "code",
   "execution_count": null,
   "metadata": {},
   "outputs": [],
   "source": []
  }
 ],
 "metadata": {
  "kernelspec": {
   "display_name": "Python 3",
   "language": "python",
   "name": "python3"
  },
  "language_info": {
   "codemirror_mode": {
    "name": "ipython",
    "version": 3
   },
   "file_extension": ".py",
   "mimetype": "text/x-python",
   "name": "python",
   "nbconvert_exporter": "python",
   "pygments_lexer": "ipython3",
   "version": "3.8.5"
  }
 },
 "nbformat": 4,
 "nbformat_minor": 4
}
