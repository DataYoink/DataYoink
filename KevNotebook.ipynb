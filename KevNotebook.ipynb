{
 "cells": [
  {
   "cell_type": "markdown",
   "metadata": {},
   "source": [
    "This is Kev's Jupyter notebook until we figure out how to correctly use version control as a team!"
   ]
  },
  {
   "cell_type": "code",
   "execution_count": null,
   "metadata": {},
   "outputs": [],
   "source": [
    "import matplotlib\n",
    "import matplotlib.pyplot as plt\n",
    "%matplotlib inline\n",
    "matplotlib.rcParams.update({'font.size': 26})\n",
    "\n",
    "import pandas as pd\n",
    "import numpy as np\n",
    "import seaborn as sn\n",
    "\n",
    "import os\n",
    "import requests\n",
    "import pandas as pd\n",
    "import zipfile"
   ]
  },
  {
   "cell_type": "code",
   "execution_count": null,
   "metadata": {},
   "outputs": [],
   "source": [
    "### Cite this\n",
    "\n",
    "\n",
    "import cv2\n",
    "import numpy as np\n",
    " \n",
    "# Picture path\n",
    "img = cv2.imread('plot.jpg')\n",
    "a = []\n",
    "b = []\n",
    " \n",
    " \n",
    "def on_EVENT_LBUTTONDOWN(event, x, y, flags, param):\n",
    "    if event == cv2.EVENT_LBUTTONDOWN:\n",
    "        xy = \"%d,%d\" % (x, y)\n",
    "        a.append(x)\n",
    "        b.append(y)\n",
    "        cv2.circle(img, (x, y), 1, (0, 0, 255), thickness=-1)\n",
    "        cv2.putText(img, xy, (x, y), cv2.FONT_HERSHEY_PLAIN,\n",
    "                    1.0, (0, 0, 0), thickness=1)\n",
    "        cv2.imshow(\"image\", img)\n",
    "        print(x,y)\n",
    " \n",
    " \n",
    "cv2.namedWindow(\"image\")\n",
    "cv2.setMouseCallback(\"image\", on_EVENT_LBUTTONDOWN)\n",
    "cv2.imshow(\"image\", img)\n",
    "cv2.waitKey(0)\n",
    "\n",
    "print(\"test\")\n",
    "print(\"coordinate point\", \"x:\", a[0], \"y:\", b[0])\n",
    "cv2.destroyWindow(\"plot.jpg\")"
   ]
  },
  {
   "cell_type": "markdown",
   "metadata": {},
   "source": [
    "###### User picking range of x and y on the axes"
   ]
  },
  {
   "cell_type": "code",
   "execution_count": 1,
   "metadata": {},
   "outputs": [
    {
     "name": "stdout",
     "output_type": "stream",
     "text": [
      "Enter the xmin value:0\n",
      "Enter the xmax value:100\n"
     ]
    }
   ],
   "source": [
    "xcoordinatemin = input(\"Enter the x min value on the x-axis:\")\n",
    "xcoordinatemax = input(\"Enter the x max value on the x-axis:\")"
   ]
  },
  {
   "cell_type": "code",
   "execution_count": 2,
   "metadata": {},
   "outputs": [
    {
     "name": "stdout",
     "output_type": "stream",
     "text": [
      "Enter the y min value on the y-axis:0\n",
      "Enter the y max value on the y-axis:200\n"
     ]
    }
   ],
   "source": [
    "ycoordinatemin = input(\"Enter the y min value on the y-axis:\")\n",
    "ycoordinatemax = input(\"Enter the y max value on the y-axis:\")"
   ]
  },
  {
   "cell_type": "code",
   "execution_count": 9,
   "metadata": {},
   "outputs": [
    {
     "name": "stdout",
     "output_type": "stream",
     "text": [
      "the range of the x-axis is ( 0 , 100 )\n",
      "the range of the y-axis is ( 0 , 200 )\n"
     ]
    }
   ],
   "source": [
    "print(\"the range of the x-axis is\", \"(\", xcoordinatemin, \",\", xcoordinatemax, \")\")\n",
    "print(\"the range of the y-axis is\", \"(\", ycoordinatemin, \",\", ycoordinatemax, \")\")"
   ]
  },
  {
   "cell_type": "code",
   "execution_count": null,
   "metadata": {},
   "outputs": [],
   "source": []
  }
 ],
 "metadata": {
  "kernelspec": {
   "display_name": "Python 3",
   "language": "python",
   "name": "python3"
  },
  "language_info": {
   "codemirror_mode": {
    "name": "ipython",
    "version": 3
   },
   "file_extension": ".py",
   "mimetype": "text/x-python",
   "name": "python",
   "nbconvert_exporter": "python",
   "pygments_lexer": "ipython3",
   "version": "3.8.5"
  }
 },
 "nbformat": 4,
 "nbformat_minor": 4
}
