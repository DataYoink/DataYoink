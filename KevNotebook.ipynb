{
 "cells": [
  {
   "cell_type": "markdown",
   "metadata": {},
   "source": [
    "This is Kev's Jupyter notebook until we figure out how to correctly use version control as a team!"
   ]
  },
  {
   "cell_type": "code",
   "execution_count": null,
   "metadata": {},
   "outputs": [],
   "source": [
    "import matplotlib\n",
    "import matplotlib.pyplot as plt\n",
    "%matplotlib inline\n",
    "matplotlib.rcParams.update({'font.size': 26})\n",
    "\n",
    "import pandas as pd\n",
    "import numpy as np\n",
    "import seaborn as sn\n",
    "\n",
    "import os\n",
    "import requests\n",
    "import pandas as pd\n",
    "import zipfile"
   ]
  },
  {
   "cell_type": "code",
   "execution_count": null,
   "metadata": {},
   "outputs": [],
   "source": [
    "### Cite this\n",
    "\n",
    "\n",
    "import cv2\n",
    "import numpy as np\n",
    "%matplotlib inline\n",
    "#### look into if this is possible with opencv\n",
    "\n",
    "# Picture path\n",
    "img = cv2.imread('plot.jpg')\n",
    "a = []\n",
    "b = []\n",
    " \n",
    " \n",
    "def on_EVENT_LBUTTONDOWN(event, x, y, flags, param):\n",
    "    if event == cv2.EVENT_LBUTTONDOWN:\n",
    "        xy = \"%d,%d\" % (x, y)\n",
    "        a.append(x)\n",
    "        b.append(y)\n",
    "        cv2.circle(img, (x, y), 1, (0, 0, 255), thickness=-1)\n",
    "        cv2.putText(img, xy, (x, y), cv2.FONT_HERSHEY_PLAIN,\n",
    "                    1.0, (0, 0, 0), thickness=1)\n",
    "        cv2.imshow(\"image\", img)\n",
    "        print(x,y)\n",
    " \n",
    " \n",
    "cv2.namedWindow(\"image\")\n",
    "cv2.setMouseCallback(\"image\", on_EVENT_LBUTTONDOWN)\n",
    "cv2.imshow(\"image\", img)\n",
    "cv2.waitKey(0)"
   ]
  },
  {
   "cell_type": "markdown",
   "metadata": {},
   "source": [
    "#### NOTE: After you have selected 3 points, while still on the image, press \"ENTER\" to save inputs and continue running the rest of the notebook"
   ]
  },
  {
   "cell_type": "markdown",
   "metadata": {},
   "source": [
    "### Converting the points into tuples"
   ]
  },
  {
   "cell_type": "code",
   "execution_count": null,
   "metadata": {},
   "outputs": [],
   "source": [
    "print(\"the x coordinates are\", a)\n",
    "print(\"the y coordinates are\", b)"
   ]
  },
  {
   "cell_type": "code",
   "execution_count": null,
   "metadata": {},
   "outputs": [],
   "source": [
    "def merge(xcoordinates, ycoordinates):\n",
    "    coordinates = []\n",
    "    for i in range(0, len(xcoordinates)):\n",
    "        coordinates = (a[i], b[i])\n",
    "    return coordinates"
   ]
  },
  {
   "cell_type": "code",
   "execution_count": null,
   "metadata": {},
   "outputs": [],
   "source": [
    "coordinates_test = merge(a, b)\n",
    "print(coordinates_test)"
   ]
  },
  {
   "cell_type": "markdown",
   "metadata": {},
   "source": [
    "## User should only have to select 3 points, we can then distinguish the 3 points and determine the origin, ymax, and xmax by, comparing point locations, Rememeber to take note that python starts their axes from the top left of the image\n",
    "\n",
    "origin will have x min and y max. \n",
    "x max coordinate will have x max, y max.. \n",
    "y max coordinate will have x min, y min.. \n",
    "\n",
    "###### IE if we get \n",
    "P1: (150, 500);\n",
    "P2: (750, 500);\n",
    "P3: (150, 50)\n",
    "\n",
    "We can infer that  P1 is the origin, P2 is the x max of the x pixel-coordinate axis, and P3 is the y max on the y pixel-coordinate axis"
   ]
  },
  {
   "cell_type": "markdown",
   "metadata": {},
   "source": [
    "###### User picking range of x and y on the axes"
   ]
  },
  {
   "cell_type": "code",
   "execution_count": null,
   "metadata": {},
   "outputs": [],
   "source": [
    "xcoordinatemin = input(\"Enter the x min value on the x-axis:\")\n",
    "xcoordinatemax = input(\"Enter the x max value on the x-axis:\")\n",
    "## enforce type check integer"
   ]
  },
  {
   "cell_type": "code",
   "execution_count": null,
   "metadata": {},
   "outputs": [],
   "source": [
    "ycoordinatemin = input(\"Enter the y min value on the y-axis:\")\n",
    "ycoordinatemax = input(\"Enter the y max value on the y-axis:\")"
   ]
  },
  {
   "cell_type": "code",
   "execution_count": null,
   "metadata": {},
   "outputs": [],
   "source": [
    "print(\"the range of the x-axis is\", \"(\", xcoordinatemin, \",\", xcoordinatemax, \")\")\n",
    "print(\"the range of the y-axis is\", \"(\", ycoordinatemin, \",\", ycoordinatemax, \")\")"
   ]
  },
  {
   "cell_type": "markdown",
   "metadata": {},
   "source": [
    "##### user selecting units of x and y axes"
   ]
  },
  {
   "cell_type": "code",
   "execution_count": 54,
   "metadata": {},
   "outputs": [],
   "source": [
    "from ipywidgets import ToggleButtons\n",
    "\n",
    "xunits = ToggleButtons(options=['V', 'mph', 'cacpacity'])"
   ]
  },
  {
   "cell_type": "code",
   "execution_count": 55,
   "metadata": {},
   "outputs": [
    {
     "data": {
      "application/vnd.jupyter.widget-view+json": {
       "model_id": "e2d14f8020ed450888109cce104742f6",
       "version_major": 2,
       "version_minor": 0
      },
      "text/plain": [
       "ToggleButtons(options=('V', 'mph', 'cacpacity'), value='V')"
      ]
     },
     "metadata": {},
     "output_type": "display_data"
    }
   ],
   "source": [
    "xunits"
   ]
  },
  {
   "cell_type": "code",
   "execution_count": 56,
   "metadata": {},
   "outputs": [
    {
     "data": {
      "text/plain": [
       "'V'"
      ]
     },
     "execution_count": 56,
     "metadata": {},
     "output_type": "execute_result"
    }
   ],
   "source": [
    "xunits.value"
   ]
  },
  {
   "cell_type": "code",
   "execution_count": 53,
   "metadata": {},
   "outputs": [
    {
     "name": "stdout",
     "output_type": "stream",
     "text": [
      "great sucess\n"
     ]
    }
   ],
   "source": [
    "if xunits.value == 'V':\n",
    "    print(\"great sucess\")\n",
    "else:\n",
    "    print(\"big shamE\")"
   ]
  },
  {
   "cell_type": "code",
   "execution_count": null,
   "metadata": {},
   "outputs": [],
   "source": [
    "def DataYoink(image, xcoordinatemin, xcoordinatemax, ycoordinatemin, ycoordinatemax):"
   ]
  }
 ],
 "metadata": {
  "kernelspec": {
   "display_name": "Python 3",
   "language": "python",
   "name": "python3"
  },
  "language_info": {
   "codemirror_mode": {
    "name": "ipython",
    "version": 3
   },
   "file_extension": ".py",
   "mimetype": "text/x-python",
   "name": "python",
   "nbconvert_exporter": "python",
   "pygments_lexer": "ipython3",
   "version": "3.8.5"
  }
 },
 "nbformat": 4,
 "nbformat_minor": 4
}
