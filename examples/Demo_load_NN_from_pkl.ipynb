{
 "cells": [
  {
   "cell_type": "code",
   "execution_count": 1,
   "id": "improved-innocent",
   "metadata": {},
   "outputs": [
    {
     "name": "stderr",
     "output_type": "stream",
     "text": [
      "** fvcore version of PathManager will be deprecated soon. **\n",
      "** Please migrate to the version in iopath repo. **\n",
      "https://github.com/facebookresearch/iopath \n",
      "\n",
      "** fvcore version of PathManager will be deprecated soon. **\n",
      "** Please migrate to the version in iopath repo. **\n",
      "https://github.com/facebookresearch/iopath \n",
      "\n"
     ]
    }
   ],
   "source": [
    "import predict\n",
    "from predict import predict_discharge_curve\n",
    "from predict import show_output_img_and_mask\n",
    "import img_rescale\n",
    "from img_rescale import img_rescale"
   ]
  },
  {
   "cell_type": "markdown",
   "id": "hollywood-tracker",
   "metadata": {},
   "source": [
    "### 1. Rescale input image for prediction"
   ]
  },
  {
   "cell_type": "code",
   "execution_count": 2,
   "id": "peaceful-directive",
   "metadata": {},
   "outputs": [
    {
     "name": "stdout",
     "output_type": "stream",
     "text": [
      "original image shape: (1493, 2583) is scaled to new image shape (400, 600)\n"
     ]
    }
   ],
   "source": [
    "image_PNG = \"Test_bw.png\"\n",
    "image_height = 400\n",
    "image_width = 600\n",
    "rescaled_img = img_rescale(image_PNG, image_height, image_width)"
   ]
  },
  {
   "cell_type": "markdown",
   "id": "smaller-heaven",
   "metadata": {},
   "source": [
    "### 2. Make discharge curve prediction with pretrained CNN from .pkl file"
   ]
  },
  {
   "cell_type": "code",
   "execution_count": 4,
   "id": "suburban-competition",
   "metadata": {},
   "outputs": [
    {
     "name": "stderr",
     "output_type": "stream",
     "text": [
      "/home/daniu/miniconda3/lib/python3.8/site-packages/detectron2/modeling/roi_heads/fast_rcnn.py:124: UserWarning: This overload of nonzero is deprecated:\n",
      "\tnonzero()\n",
      "Consider using one of the following signatures instead:\n",
      "\tnonzero(*, bool as_tuple) (Triggered internally at  /pytorch/torch/csrc/utils/python_arg_parser.cpp:882.)\n",
      "  filter_inds = filter_mask.nonzero()\n"
     ]
    }
   ],
   "source": [
    "pretrained_pkl = \"./output/BEST_config.pkl\"\n",
    "outputs = predict_discharge_curve(pretrained_pkl,rescaled_img)"
   ]
  },
  {
   "cell_type": "markdown",
   "id": "natural-reception",
   "metadata": {},
   "source": [
    "### 3. Visulize predicted masks "
   ]
  },
  {
   "cell_type": "code",
   "execution_count": null,
   "id": "stuck-harmony",
   "metadata": {},
   "outputs": [],
   "source": [
    "show_output_img_and_mask(\"scaled_input_image/scaled_\"+image_PNG, outputs)"
   ]
  },
  {
   "cell_type": "code",
   "execution_count": null,
   "id": "beneficial-assist",
   "metadata": {},
   "outputs": [],
   "source": []
  }
 ],
 "metadata": {
  "kernelspec": {
   "display_name": "Python 3",
   "language": "python",
   "name": "python3"
  },
  "language_info": {
   "codemirror_mode": {
    "name": "ipython",
    "version": 3
   },
   "file_extension": ".py",
   "mimetype": "text/x-python",
   "name": "python",
   "nbconvert_exporter": "python",
   "pygments_lexer": "ipython3",
   "version": "3.8.5"
  }
 },
 "nbformat": 4,
 "nbformat_minor": 5
}
