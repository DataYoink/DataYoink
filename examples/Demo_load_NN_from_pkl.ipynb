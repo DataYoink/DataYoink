{
 "cells": [
  {
   "cell_type": "code",
   "execution_count": null,
   "id": "greatest-creation",
   "metadata": {},
   "outputs": [],
   "source": []
  },
  {
   "cell_type": "markdown",
   "id": "empirical-administrator",
   "metadata": {},
   "source": [
    "### 1. Rescale input image for prediction"
   ]
  },
  {
   "cell_type": "code",
   "execution_count": null,
   "id": "eight-judge",
   "metadata": {},
   "outputs": [],
   "source": [
    "image_PNG = \"Test_bw.png\"\n",
    "image_height = 400\n",
    "image_width = 600\n",
    "rescaled_img = img_rescale(image_PNG, image_height, image_width)"
   ]
  },
  {
   "cell_type": "markdown",
   "id": "sharp-integral",
   "metadata": {},
   "source": [
    "### 2. Make discharge curve prediction with pretrained CNN from .pkl file"
   ]
  },
  {
   "cell_type": "code",
   "execution_count": null,
   "id": "tired-amateur",
   "metadata": {},
   "outputs": [],
   "source": [
    "pretrain_pkl = \"./output/config.pkl\"\n",
    "outputs = predict_discharge_curve(pretrain_pkl,rescaled_img)"
   ]
  },
  {
   "cell_type": "markdown",
   "id": "lovely-election",
   "metadata": {},
   "source": [
    "### 3. Visulize predicted masks "
   ]
  },
  {
   "cell_type": "code",
   "execution_count": null,
   "id": "moderate-relations",
   "metadata": {},
   "outputs": [],
   "source": [
    "show_output_img_and_mask(\"scaled_input_image/scaled_\"+image_PNG, outputs)"
   ]
  }
 ],
 "metadata": {
  "kernelspec": {
   "display_name": "Python 3",
   "language": "python",
   "name": "python3"
  },
  "language_info": {
   "codemirror_mode": {
    "name": "ipython",
    "version": 3
   },
   "file_extension": ".py",
   "mimetype": "text/x-python",
   "name": "python",
   "nbconvert_exporter": "python",
   "pygments_lexer": "ipython3",
   "version": "3.8.5"
  }
 },
 "nbformat": 4,
 "nbformat_minor": 5
}
