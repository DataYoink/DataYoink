{
 "cells": [
  {
   "cell_type": "code",
   "execution_count": 2,
   "id": "descending-constraint",
   "metadata": {},
   "outputs": [
    {
     "name": "stderr",
     "output_type": "stream",
     "text": [
      "** fvcore version of PathManager will be deprecated soon. **\n",
      "** Please migrate to the version in iopath repo. **\n",
      "https://github.com/facebookresearch/iopath \n",
      "\n",
      "** fvcore version of PathManager will be deprecated soon. **\n",
      "** Please migrate to the version in iopath repo. **\n",
      "https://github.com/facebookresearch/iopath \n",
      "\n"
     ]
    }
   ],
   "source": [
    "import DataYoink\n",
    "from DataYoink import registerdata\n",
    "import detectron2\n",
    "from detectron2.data import DatasetCatalog, MetadataCatalog\n",
    "from detectron2.engine import DefaultTrainer\n",
    "from detectron2.config import get_cfg\n",
    "from detectron2 import model_zoo\n",
    "from detectron2.engine import DefaultPredictor"
   ]
  },
  {
   "cell_type": "markdown",
   "id": "stable-enough",
   "metadata": {},
   "source": [
    "### 1. Resize and Format all annotations files(.json)"
   ]
  },
  {
   "cell_type": "code",
   "execution_count": null,
   "id": "humanitarian-spread",
   "metadata": {},
   "outputs": [],
   "source": [
    "directory = \"\"\n",
    "img_height = \n",
    "img_width = \n",
    "dataset_dict, imgs, polygon_list = registerdata.json_to_dict(directory, img_height, img_width)"
   ]
  },
  {
   "cell_type": "markdown",
   "id": "stretch-thousand",
   "metadata": {},
   "source": [
    "### 2. Visualize Resized Images and Masks"
   ]
  },
  {
   "cell_type": "code",
   "execution_count": null,
   "id": "turkish-singing",
   "metadata": {},
   "outputs": [],
   "source": [
    "registerdata.show_img_and_mask(imgs,polygon_list)"
   ]
  },
  {
   "cell_type": "markdown",
   "id": "enormous-lafayette",
   "metadata": {},
   "source": [
    "### 3. Register Dataset to Detectron2 as \"discharge_curve\""
   ]
  },
  {
   "cell_type": "code",
   "execution_count": null,
   "id": "sonic-pointer",
   "metadata": {},
   "outputs": [],
   "source": [
    "DatasetCatalog.register(\"discharge_curve\", lambda: dictionary_fuction_for_detectron2(\"./discharge_curve_json/\",400,600))\n",
    "MetadataCatalog.get(\"discharge_curve\").set(thing_classes=[\"discharge_curve\"])"
   ]
  },
  {
   "cell_type": "markdown",
   "id": "greater-colon",
   "metadata": {},
   "source": [
    "### 4. Train the Neural Network with the Registered Dataset"
   ]
  },
  {
   "cell_type": "code",
   "execution_count": null,
   "id": "equipped-prompt",
   "metadata": {},
   "outputs": [],
   "source": [
    "cfg = get_cfg()\n",
    "# Set outpu directory\n",
    "cfg.OUTPUT_DIR = \"./output\"\n",
    "# Use pretrained RCNN\n",
    "cfg.merge_from_file(model_zoo.get_config_file(\"COCO-InstanceSegmentation/mask_rcnn_R_50_FPN_3x.yaml\"))\n",
    "# Use our training dataset\n",
    "cfg.DATASETS.TRAIN = (\"discharge_curve\",)\n",
    "cfg.DATASETS.TEST = ()\n",
    "# number of parallel data loading workers\n",
    "cfg.DATALOADER.NUM_WORKERS = 2\n",
    "# use pretrained weights\n",
    "cfg.MODEL.WEIGHTS = model_zoo.get_checkpoint_url(\"COCO-InstanceSegmentation/mask_rcnn_R_50_FPN_3x.yaml\")\n",
    "# in 1 iteration the model sees 2 images\n",
    "cfg.SOLVER.IMS_PER_BATCH = 2\n",
    "# set learning rate\n",
    "cfg.SOLVER.BASE_LR = 0.00025\n",
    "# number of iteration\n",
    "cfg.SOLVER.MAX_ITER = 10\n",
    "# number of proposals to sample for training\n",
    "cfg.MODEL.ROI_HEADS.BATCH_SIZE_PER_IMAGE = 1\n",
    "# number of classes\n",
    "cfg.MODEL.ROI_HEADS.NUM_CLASSES = 1\n",
    "os.makedirs(cfg.OUTPUT_DIR, exist_ok=True)\n",
    "\n",
    "#### Extra settings for cpu only scenario\n",
    "cfg.MODEL.DEVICE = \"cpu\"\n",
    "cfg.MODEL.RPN.BBOX_REG_LOSS_TYPE = \"smooth_l1\"\n",
    "cfg.MODEL.RPN.BBOX_REG_LOSS_WEIGHT = 1.0\n",
    "cfg.MODEL.ROI_BOX_HEAD.BBOX_REG_LOSS_TYPE = \"smooth_l1\"\n",
    "cfg.MODEL.ROI_BOX_HEAD.BBOX_REG_LOSS_WEIGHT = 1.0"
   ]
  },
  {
   "cell_type": "code",
   "execution_count": null,
   "id": "critical-anniversary",
   "metadata": {},
   "outputs": [],
   "source": [
    "# Train the Neural Network\n",
    "trainer = DefaultTrainer(cfg)\n",
    "trainer.resume_or_load(resume=False)\n",
    "trainer.train()"
   ]
  },
  {
   "cell_type": "markdown",
   "id": "binding-encounter",
   "metadata": {},
   "source": [
    "### 5. Save the Trained Neural Network Configuration as .pkl file"
   ]
  },
  {
   "cell_type": "code",
   "execution_count": null,
   "id": "actual-kelly",
   "metadata": {},
   "outputs": [],
   "source": [
    "# Update weights in the configuration\n",
    "cfg.MODEL.WEIGHTS = os.path.join(cfg.OUTPUT_DIR, \"model_final.pth\")\n",
    "cfg.MODEL.ROI_HEADS.SCORE_THRESH_TEST = 0.5#0.63   # set the testing threshold for this model\n",
    "# Save the neural network as .pkl file\n",
    "filename = './output/config.pkl'\n",
    "with open(filename, 'wb') as file:\n",
    "     pickle.dump(cfg, file)"
   ]
  }
 ],
 "metadata": {
  "kernelspec": {
   "display_name": "Python 3",
   "language": "python",
   "name": "python3"
  },
  "language_info": {
   "codemirror_mode": {
    "name": "ipython",
    "version": 3
   },
   "file_extension": ".py",
   "mimetype": "text/x-python",
   "name": "python",
   "nbconvert_exporter": "python",
   "pygments_lexer": "ipython3",
   "version": "3.8.5"
  }
 },
 "nbformat": 4,
 "nbformat_minor": 5
}
