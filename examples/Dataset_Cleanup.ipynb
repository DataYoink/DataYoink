{
 "cells": [
  {
   "cell_type": "code",
   "execution_count": 1,
   "id": "instructional-drunk",
   "metadata": {},
   "outputs": [
    {
     "name": "stderr",
     "output_type": "stream",
     "text": [
      "** fvcore version of PathManager will be deprecated soon. **\n",
      "** Please migrate to the version in iopath repo. **\n",
      "https://github.com/facebookresearch/iopath \n",
      "\n",
      "** fvcore version of PathManager will be deprecated soon. **\n",
      "** Please migrate to the version in iopath repo. **\n",
      "https://github.com/facebookresearch/iopath \n",
      "\n"
     ]
    }
   ],
   "source": [
    "import os\n",
    "import json\n",
    "\n",
    "import numpy as np\n",
    "\n",
    "import matplotlib\n",
    "import matplotlib.pyplot as plt\n",
    "\n",
    "\n",
    "import detectron2\n",
    "\n",
    "import detectron2.data.transforms as T\n",
    "from detectron2.structures import BoxMode\n",
    "from detectron2.engine.defaults import DefaultPredictor\n",
    "\n",
    "import labelme\n",
    "from labelme import LabelFile\n",
    "from labelme import utils\n",
    "\n",
    "import PIL\n",
    "from PIL import Image\n",
    "\n",
    "import pickle"
   ]
  },
  {
   "cell_type": "markdown",
   "id": "northern-strip",
   "metadata": {},
   "source": [
    "### Wrapper functions"
   ]
  },
  {
   "cell_type": "code",
   "execution_count": 2,
   "id": "verified-accessory",
   "metadata": {},
   "outputs": [],
   "source": [
    "def json_to_dict(directory, img_height, img_width):\n",
    "    \"\"\"\n",
    "    This is the wrapper function that converts all json files in the designated \n",
    "    directory into requred image height and width, and store the dataset as\n",
    "    a Detectron2 input type.\n",
    "    Inputs:\n",
    "        - directory: the directory path where all training .json files are located\n",
    "        - img_heght: the expected image height after conversion in unit of pixel\n",
    "        - img_width: the expected image width after conversion in unit of pixel\n",
    "    Outputs:\n",
    "        - dataset_dict: list[{dictionary1}, {dictionary2},...]. Each dictionary\n",
    "                        contains segmentation information for each image.\n",
    "        - imgs: list[nparray1, nparray2,...]. Each np array signifies an image.\n",
    "        - polygonlist: list[list[]]\n",
    "    \"\"\"\n",
    "    # Load only .json files in the directory\n",
    "    path = directory\n",
    "    if not os.path.exists(\"scaled_image\"):\n",
    "        os.mkdir(\"scaled_image\") # new directory to store the scaled images\n",
    "    valid_filetype = [\".json\"]\n",
    "    imgs = []\n",
    "    polygon_list = []\n",
    "    dataset_dict = []\n",
    "    img_num = 0\n",
    "    for file in os.listdir(path):\n",
    "        filename = os.path.splitext(file)[0] # filename without extension\n",
    "        ext = os.path.splitext(file)[1] # find the extension of the file\n",
    "        if ext.lower() not in valid_filetype:\n",
    "            continue\n",
    "        img, polygons = json_to_arrs(path+file)\n",
    "        new_img, new_polygons = img_mask_rescale(img, polygons, img_height, img_width)\n",
    "        img2save = Image.fromarray(new_img)\n",
    "        img2save.save(\"./scaled_image/scaled_\"+filename+\".png\")\n",
    "        reshaped_polygons, bb_boxes = polygon_arr_to_list(new_polygons)\n",
    "        img_dict = to_dict(file, img_num, img_height, img_width, reshaped_polygons, bb_boxes)\n",
    "        dataset_dict.append(img_dict)\n",
    "        # Append to global lists for secondary outputs\n",
    "        imgs.append(new_img)\n",
    "        polygon_list.append(new_polygons)\n",
    "        img_num = img_num+1\n",
    "    return dataset_dict, imgs, polygon_list #imgs,polygon_list  # list[{image1},{image2}]"
   ]
  },
  {
   "cell_type": "code",
   "execution_count": 3,
   "id": "final-complexity",
   "metadata": {},
   "outputs": [],
   "source": [
    "def show_img_and_mask_json(json_file):\n",
    "    \"\"\"\n",
    "    This function shows the image and the mask from a .json file.\n",
    "    Input: \n",
    "        -.json file that stores the image in the dictionary key \"imageData\"\n",
    "          and the mask information in the dictionary key \"shapes\"\n",
    "    Output:\n",
    "        - Inline plot with image and mask\n",
    "    \"\"\"\n",
    "    img, polys = json_to_arrs(json_file)\n",
    "    plt.imshow(img,alpha=1)\n",
    "    mask = []\n",
    "    for index,item in enumerate(polys):\n",
    "        poly = item.tolist()\n",
    "        poly.append(item[-1].tolist())\n",
    "        x, y = zip(*poly)\n",
    "        mask.append(plt.fill(x,y,alpha=0.5,color=\"y\"))\n",
    "    for index,item in enumerate(mask):\n",
    "        plt.show(mask[index])"
   ]
  },
  {
   "cell_type": "markdown",
   "id": "digital-nebraska",
   "metadata": {},
   "source": [
    "### Other Functions"
   ]
  },
  {
   "cell_type": "code",
   "execution_count": 4,
   "id": "muslim-estimate",
   "metadata": {},
   "outputs": [],
   "source": [
    "def json_to_arrs(json_file):\n",
    "    \"\"\"\n",
    "    Load a single image and its corresponding polygon masks from a jsonfile\n",
    "    Output a list of images in np arrays and a list of polygon masks in np array\n",
    "    Inputs:\n",
    "    \n",
    "    \"\"\"\n",
    "    # Load data from json\n",
    "    data = json.load(open(json_file))\n",
    "    # Append images to a list of nd arrays\n",
    "    img_data = data.get(\"imageData\")\n",
    "    img = labelme.utils.img_b64_to_arr(img_data) # load image to np array\n",
    "    # Append mask to a list of polygons\n",
    "    poly = data.get(\"shapes\")\n",
    "    poly_for_single_img = []\n",
    "    for polyitem in poly:\n",
    "        polygon = np.array(polyitem.get(\"points\"))\n",
    "        polygon = np.reshape(polygon,(len(polygon),2))\n",
    "        poly_for_single_img.append(polygon)\n",
    "\n",
    "    return img, poly_for_single_img"
   ]
  },
  {
   "cell_type": "code",
   "execution_count": 5,
   "id": "amino-techno",
   "metadata": {},
   "outputs": [],
   "source": [
    "def show_img_and_mask(imgs,polygon_list):\n",
    "    \"\"\"\n",
    "    This function show the images and annotated masks\n",
    "         for the training dataset.\n",
    "    Input:\n",
    "        - list of nd array images\n",
    "        - list of polygon mask vertex coordinates\n",
    "    Output:\n",
    "        - Inline plot with images and masks\n",
    "    \"\"\"\n",
    "    mask = []\n",
    "    for img_num,polygon in enumerate(polygon_list):\n",
    "        plt.figure()\n",
    "        plt.imshow(imgs[img_num],alpha=1)\n",
    "        for mask_num,item in enumerate(polygon):\n",
    "            poly = item.tolist()\n",
    "            poly.append(item[-1].tolist())\n",
    "            #print(poly)\n",
    "            x, y = zip(*poly)\n",
    "            mask.append(plt.fill(x,y,alpha=0.5,color=\"r\"))\n",
    "    for index,item in enumerate(mask):\n",
    "        plt.show(mask[index])"
   ]
  },
  {
   "cell_type": "code",
   "execution_count": 6,
   "id": "iraqi-stack",
   "metadata": {},
   "outputs": [],
   "source": [
    "# Reshaped polygon list to Detectron2 acceptable format\n",
    "def polygon_arr_to_list(polygons):\n",
    "    \"\"\"\n",
    "    This funtion converts the a list of polygons for single image to \n",
    "    Detectron2 accpeted format and find the bounding boxes\n",
    "    \"\"\"\n",
    "    reshaped_polys = []\n",
    "    bb_boxes =[]\n",
    "    for ind, polygon in enumerate(polygons):\n",
    "        #print(polygon)\n",
    "        reshaped_poly = polygon.reshape(1,polygon.shape[0]*polygon.shape[1]).tolist()[0]            \n",
    "        # [min_x, min_y, max_x, max_y]\n",
    "        bb_box = [np.min(reshaped_poly[0::2]),\n",
    "                np.min(reshaped_poly[1::2]),\n",
    "                np.max(reshaped_poly[0::2]),\n",
    "                np.max(reshaped_poly[1::2])]\n",
    "        reshaped_polys.append(reshaped_poly)\n",
    "        bb_boxes.append(bb_box)\n",
    "    return reshaped_polys, bb_boxes"
   ]
  },
  {
   "cell_type": "code",
   "execution_count": 7,
   "id": "medieval-sleeve",
   "metadata": {},
   "outputs": [],
   "source": [
    "def img_mask_rescale(img, polygons, height, width):\n",
    "    \"\"\"\n",
    "    Rescale image and masks to designated height and width.\n",
    "    Return new img as np array, new maks as a list of np array\n",
    "    \"\"\"\n",
    "    scale = T.ScaleTransform(np.shape(img)[0],np.shape(img)[1], height, width)\n",
    "    new_img = scale.apply_image(img, \"bilinear\")\n",
    "    new_poly = scale.apply_polygons(polygons)\n",
    "    return new_img, new_poly"
   ]
  },
  {
   "cell_type": "code",
   "execution_count": 8,
   "id": "becoming-lunch",
   "metadata": {},
   "outputs": [
    {
     "data": {
      "text/plain": [
       "('discharge_curve (1)', '.png')"
      ]
     },
     "execution_count": 8,
     "metadata": {},
     "output_type": "execute_result"
    }
   ],
   "source": [
    "path = 0\n",
    "os.path.splitext(\"discharge_curve (1).png\")"
   ]
  },
  {
   "cell_type": "code",
   "execution_count": 9,
   "id": "cubic-cannon",
   "metadata": {},
   "outputs": [],
   "source": [
    "def to_dict(jsonfile,img_num,height,width,reshaped_polygon_list, bb_box_list):\n",
    "    \"\"\"\n",
    "    Save all information into detectron2 dictionary\n",
    "    \"\"\"\n",
    "    filename = os.path.splitext(jsonfile)[0]\n",
    "    new_filename = \"./scaled_image/scaled_\"+filename+\".png\" # create image filename\n",
    "    \n",
    "    single_img_dict = {}\n",
    "    # path to the scaled image\n",
    "    single_img_dict[\"file_name\"] = new_filename\n",
    "    single_img_dict[\"image_id\"] = img_num\n",
    "    single_img_dict[\"height\"] = height \n",
    "    single_img_dict[\"width\"] = width\n",
    "    \n",
    "    # Initiate list of dict [{instance1},{instance2},{instance3}}]]\n",
    "    # Each dict corresponds to annotations of one instance in this image\n",
    "    objs = []            \n",
    "    for instance,mask in enumerate(reshaped_polygon_list):\n",
    "        anno = {}\n",
    "        # Record segmentation as list[list[float]] as required by Detectron2\n",
    "        # Each list[float] is one instance\n",
    "        # in the format of [x1, y1, ..., xn, yn] (in unit of pixels).\n",
    "        anno[\"segmentation\"] = [reshaped_polygon_list[instance]]\n",
    "        # Record mask bounding box\n",
    "        anno[\"bbox\"] = bb_box_list[instance] # Bounding box\n",
    "        anno[\"bbox_mode\"] = BoxMode.XYXY_ABS # Type of bounding box\n",
    "        # Record category label: there is only one category, so always 0\n",
    "        anno[\"category_id\"] = 0 \n",
    "        objs.append(anno)\n",
    "    single_img_dict[\"annotations\"] = objs # list of dict [{instance1},{instance2},{instance3}}]]\n",
    "    return single_img_dict # {image1}"
   ]
  },
  {
   "cell_type": "code",
   "execution_count": 10,
   "id": "aerial-worthy",
   "metadata": {},
   "outputs": [],
   "source": [
    "def dictionary_fuction_for_detectron2(directory, img_height, img_width):\n",
    "    \"\"\"\n",
    "    This function converts the output of the main wrapper function\n",
    "    to the format required by Detectron2.\n",
    "    \"\"\"\n",
    "    dictionary, imgs, polygon_list = json_to_dict(directory, img_height, img_width)\n",
    "    return dictionary"
   ]
  },
  {
   "cell_type": "markdown",
   "id": "partial-behavior",
   "metadata": {},
   "source": [
    "### Test with curret directory"
   ]
  },
  {
   "cell_type": "code",
   "execution_count": 11,
   "id": "classical-meter",
   "metadata": {},
   "outputs": [],
   "source": [
    "dictionary,imgs,polygon_list = json_to_dict(\"./discharge_curve_json/\",400,600)\n",
    "#print(img[0])\n",
    "#print(dictionary)\n",
    "#print(imgs)\n",
    "#print(polygon[0][0])\n"
   ]
  },
  {
   "cell_type": "code",
   "execution_count": 12,
   "id": "green-national",
   "metadata": {
    "scrolled": false
   },
   "outputs": [],
   "source": [
    "#show_img_and_mask(imgs,polygon_list)"
   ]
  },
  {
   "cell_type": "markdown",
   "id": "crazy-burke",
   "metadata": {},
   "source": [
    "### Register Dataset"
   ]
  },
  {
   "cell_type": "code",
   "execution_count": 13,
   "id": "twenty-berry",
   "metadata": {},
   "outputs": [
    {
     "data": {
      "text/plain": [
       "namespace(name='discharge_curve', thing_classes=['discharge_curve'])"
      ]
     },
     "execution_count": 13,
     "metadata": {},
     "output_type": "execute_result"
    }
   ],
   "source": [
    "from detectron2.data import DatasetCatalog, MetadataCatalog\n",
    "DatasetCatalog.register(\"discharge_curve\", lambda: dictionary_fuction_for_detectron2(\"./discharge_curve_json/\",400,600))\n",
    "MetadataCatalog.get(\"discharge_curve\").set(thing_classes=[\"discharge_curve\"])\n"
   ]
  },
  {
   "cell_type": "code",
   "execution_count": 14,
   "id": "mexican-scientist",
   "metadata": {},
   "outputs": [],
   "source": [
    "from detectron2.engine import DefaultTrainer\n",
    "from detectron2.config import get_cfg\n",
    "from detectron2 import model_zoo\n",
    "from detectron2.engine import DefaultPredictor\n",
    "cfg = get_cfg()\n",
    "cfg.OUTPUT_DIR = \"./output\"\n",
    "cfg.merge_from_file(model_zoo.get_config_file(\"COCO-InstanceSegmentation/mask_rcnn_R_50_FPN_3x.yaml\"))"
   ]
  },
  {
   "cell_type": "code",
   "execution_count": 66,
   "id": "bound-privacy",
   "metadata": {},
   "outputs": [],
   "source": [
    "cfg.DATASETS.TRAIN = (\"discharge_curve\",)     # our training dataset\n",
    "cfg.DATASETS.TEST = ()\n",
    "cfg.DATALOADER.NUM_WORKERS = 2     # number of parallel data loading workers\n",
    "cfg.MODEL.WEIGHTS = model_zoo.get_checkpoint_url(\"COCO-InstanceSegmentation/mask_rcnn_R_50_FPN_3x.yaml\")     # use pretrained weights\n",
    "cfg.SOLVER.IMS_PER_BATCH = 2     # in 1 iteration the model sees 2 images\n",
    "cfg.SOLVER.BASE_LR = 0.00025     # learning rate\n",
    "cfg.SOLVER.MAX_ITER = 30        # 10 number of iteration\n",
    "cfg.MODEL.ROI_HEADS.BATCH_SIZE_PER_IMAGE = 1     # number of proposals to sample for training\n",
    "cfg.MODEL.ROI_HEADS.NUM_CLASSES = 1  # only has one class (mango)\n",
    "\n",
    "os.makedirs(cfg.OUTPUT_DIR, exist_ok=True)\n",
    "\n",
    "#### Extra settings for cpu only scenario\n",
    "cfg.MODEL.DEVICE = \"cpu\"\n",
    "cfg.MODEL.RPN.BBOX_REG_LOSS_TYPE = \"smooth_l1\"\n",
    "cfg.MODEL.RPN.BBOX_REG_LOSS_WEIGHT = 1.0\n",
    "cfg.MODEL.ROI_BOX_HEAD.BBOX_REG_LOSS_TYPE = \"smooth_l1\"\n",
    "cfg.MODEL.ROI_BOX_HEAD.BBOX_REG_LOSS_WEIGHT = 1.0\n",
    "\n",
    "\n",
    "\n"
   ]
  },
  {
   "cell_type": "code",
   "execution_count": 67,
   "id": "outer-audio",
   "metadata": {
    "scrolled": false
   },
   "outputs": [
    {
     "name": "stderr",
     "output_type": "stream",
     "text": [
      "[\u001b[1m\u001b[37mINFO   \u001b[0m] \u001b[36mdefaults\u001b[0m:\u001b[36mbuild_model\u001b[0m:\u001b[36m436\u001b[0m - \u001b[1m\u001b[37mModel:\n",
      "GeneralizedRCNN(\n",
      "  (backbone): FPN(\n",
      "    (fpn_lateral2): Conv2d(256, 256, kernel_size=(1, 1), stride=(1, 1))\n",
      "    (fpn_output2): Conv2d(256, 256, kernel_size=(3, 3), stride=(1, 1), padding=(1, 1))\n",
      "    (fpn_lateral3): Conv2d(512, 256, kernel_size=(1, 1), stride=(1, 1))\n",
      "    (fpn_output3): Conv2d(256, 256, kernel_size=(3, 3), stride=(1, 1), padding=(1, 1))\n",
      "    (fpn_lateral4): Conv2d(1024, 256, kernel_size=(1, 1), stride=(1, 1))\n",
      "    (fpn_output4): Conv2d(256, 256, kernel_size=(3, 3), stride=(1, 1), padding=(1, 1))\n",
      "    (fpn_lateral5): Conv2d(2048, 256, kernel_size=(1, 1), stride=(1, 1))\n",
      "    (fpn_output5): Conv2d(256, 256, kernel_size=(3, 3), stride=(1, 1), padding=(1, 1))\n",
      "    (top_block): LastLevelMaxPool()\n",
      "    (bottom_up): ResNet(\n",
      "      (stem): BasicStem(\n",
      "        (conv1): Conv2d(\n",
      "          3, 64, kernel_size=(7, 7), stride=(2, 2), padding=(3, 3), bias=False\n",
      "          (norm): FrozenBatchNorm2d(num_features=64, eps=1e-05)\n",
      "        )\n",
      "      )\n",
      "      (res2): Sequential(\n",
      "        (0): BottleneckBlock(\n",
      "          (shortcut): Conv2d(\n",
      "            64, 256, kernel_size=(1, 1), stride=(1, 1), bias=False\n",
      "            (norm): FrozenBatchNorm2d(num_features=256, eps=1e-05)\n",
      "          )\n",
      "          (conv1): Conv2d(\n",
      "            64, 64, kernel_size=(1, 1), stride=(1, 1), bias=False\n",
      "            (norm): FrozenBatchNorm2d(num_features=64, eps=1e-05)\n",
      "          )\n",
      "          (conv2): Conv2d(\n",
      "            64, 64, kernel_size=(3, 3), stride=(1, 1), padding=(1, 1), bias=False\n",
      "            (norm): FrozenBatchNorm2d(num_features=64, eps=1e-05)\n",
      "          )\n",
      "          (conv3): Conv2d(\n",
      "            64, 256, kernel_size=(1, 1), stride=(1, 1), bias=False\n",
      "            (norm): FrozenBatchNorm2d(num_features=256, eps=1e-05)\n",
      "          )\n",
      "        )\n",
      "        (1): BottleneckBlock(\n",
      "          (conv1): Conv2d(\n",
      "            256, 64, kernel_size=(1, 1), stride=(1, 1), bias=False\n",
      "            (norm): FrozenBatchNorm2d(num_features=64, eps=1e-05)\n",
      "          )\n",
      "          (conv2): Conv2d(\n",
      "            64, 64, kernel_size=(3, 3), stride=(1, 1), padding=(1, 1), bias=False\n",
      "            (norm): FrozenBatchNorm2d(num_features=64, eps=1e-05)\n",
      "          )\n",
      "          (conv3): Conv2d(\n",
      "            64, 256, kernel_size=(1, 1), stride=(1, 1), bias=False\n",
      "            (norm): FrozenBatchNorm2d(num_features=256, eps=1e-05)\n",
      "          )\n",
      "        )\n",
      "        (2): BottleneckBlock(\n",
      "          (conv1): Conv2d(\n",
      "            256, 64, kernel_size=(1, 1), stride=(1, 1), bias=False\n",
      "            (norm): FrozenBatchNorm2d(num_features=64, eps=1e-05)\n",
      "          )\n",
      "          (conv2): Conv2d(\n",
      "            64, 64, kernel_size=(3, 3), stride=(1, 1), padding=(1, 1), bias=False\n",
      "            (norm): FrozenBatchNorm2d(num_features=64, eps=1e-05)\n",
      "          )\n",
      "          (conv3): Conv2d(\n",
      "            64, 256, kernel_size=(1, 1), stride=(1, 1), bias=False\n",
      "            (norm): FrozenBatchNorm2d(num_features=256, eps=1e-05)\n",
      "          )\n",
      "        )\n",
      "      )\n",
      "      (res3): Sequential(\n",
      "        (0): BottleneckBlock(\n",
      "          (shortcut): Conv2d(\n",
      "            256, 512, kernel_size=(1, 1), stride=(2, 2), bias=False\n",
      "            (norm): FrozenBatchNorm2d(num_features=512, eps=1e-05)\n",
      "          )\n",
      "          (conv1): Conv2d(\n",
      "            256, 128, kernel_size=(1, 1), stride=(2, 2), bias=False\n",
      "            (norm): FrozenBatchNorm2d(num_features=128, eps=1e-05)\n",
      "          )\n",
      "          (conv2): Conv2d(\n",
      "            128, 128, kernel_size=(3, 3), stride=(1, 1), padding=(1, 1), bias=False\n",
      "            (norm): FrozenBatchNorm2d(num_features=128, eps=1e-05)\n",
      "          )\n",
      "          (conv3): Conv2d(\n",
      "            128, 512, kernel_size=(1, 1), stride=(1, 1), bias=False\n",
      "            (norm): FrozenBatchNorm2d(num_features=512, eps=1e-05)\n",
      "          )\n",
      "        )\n",
      "        (1): BottleneckBlock(\n",
      "          (conv1): Conv2d(\n",
      "            512, 128, kernel_size=(1, 1), stride=(1, 1), bias=False\n",
      "            (norm): FrozenBatchNorm2d(num_features=128, eps=1e-05)\n",
      "          )\n",
      "          (conv2): Conv2d(\n",
      "            128, 128, kernel_size=(3, 3), stride=(1, 1), padding=(1, 1), bias=False\n",
      "            (norm): FrozenBatchNorm2d(num_features=128, eps=1e-05)\n",
      "          )\n",
      "          (conv3): Conv2d(\n",
      "            128, 512, kernel_size=(1, 1), stride=(1, 1), bias=False\n",
      "            (norm): FrozenBatchNorm2d(num_features=512, eps=1e-05)\n",
      "          )\n",
      "        )\n",
      "        (2): BottleneckBlock(\n",
      "          (conv1): Conv2d(\n",
      "            512, 128, kernel_size=(1, 1), stride=(1, 1), bias=False\n",
      "            (norm): FrozenBatchNorm2d(num_features=128, eps=1e-05)\n",
      "          )\n",
      "          (conv2): Conv2d(\n",
      "            128, 128, kernel_size=(3, 3), stride=(1, 1), padding=(1, 1), bias=False\n",
      "            (norm): FrozenBatchNorm2d(num_features=128, eps=1e-05)\n",
      "          )\n",
      "          (conv3): Conv2d(\n",
      "            128, 512, kernel_size=(1, 1), stride=(1, 1), bias=False\n",
      "            (norm): FrozenBatchNorm2d(num_features=512, eps=1e-05)\n",
      "          )\n",
      "        )\n",
      "        (3): BottleneckBlock(\n",
      "          (conv1): Conv2d(\n",
      "            512, 128, kernel_size=(1, 1), stride=(1, 1), bias=False\n",
      "            (norm): FrozenBatchNorm2d(num_features=128, eps=1e-05)\n",
      "          )\n",
      "          (conv2): Conv2d(\n",
      "            128, 128, kernel_size=(3, 3), stride=(1, 1), padding=(1, 1), bias=False\n",
      "            (norm): FrozenBatchNorm2d(num_features=128, eps=1e-05)\n",
      "          )\n",
      "          (conv3): Conv2d(\n",
      "            128, 512, kernel_size=(1, 1), stride=(1, 1), bias=False\n",
      "            (norm): FrozenBatchNorm2d(num_features=512, eps=1e-05)\n",
      "          )\n",
      "        )\n",
      "      )\n",
      "      (res4): Sequential(\n",
      "        (0): BottleneckBlock(\n",
      "          (shortcut): Conv2d(\n",
      "            512, 1024, kernel_size=(1, 1), stride=(2, 2), bias=False\n",
      "            (norm): FrozenBatchNorm2d(num_features=1024, eps=1e-05)\n",
      "          )\n",
      "          (conv1): Conv2d(\n",
      "            512, 256, kernel_size=(1, 1), stride=(2, 2), bias=False\n",
      "            (norm): FrozenBatchNorm2d(num_features=256, eps=1e-05)\n",
      "          )\n",
      "          (conv2): Conv2d(\n",
      "            256, 256, kernel_size=(3, 3), stride=(1, 1), padding=(1, 1), bias=False\n",
      "            (norm): FrozenBatchNorm2d(num_features=256, eps=1e-05)\n",
      "          )\n",
      "          (conv3): Conv2d(\n",
      "            256, 1024, kernel_size=(1, 1), stride=(1, 1), bias=False\n",
      "            (norm): FrozenBatchNorm2d(num_features=1024, eps=1e-05)\n",
      "          )\n",
      "        )\n",
      "        (1): BottleneckBlock(\n",
      "          (conv1): Conv2d(\n",
      "            1024, 256, kernel_size=(1, 1), stride=(1, 1), bias=False\n",
      "            (norm): FrozenBatchNorm2d(num_features=256, eps=1e-05)\n",
      "          )\n",
      "          (conv2): Conv2d(\n",
      "            256, 256, kernel_size=(3, 3), stride=(1, 1), padding=(1, 1), bias=False\n",
      "            (norm): FrozenBatchNorm2d(num_features=256, eps=1e-05)\n",
      "          )\n",
      "          (conv3): Conv2d(\n",
      "            256, 1024, kernel_size=(1, 1), stride=(1, 1), bias=False\n",
      "            (norm): FrozenBatchNorm2d(num_features=1024, eps=1e-05)\n",
      "          )\n",
      "        )\n",
      "        (2): BottleneckBlock(\n",
      "          (conv1): Conv2d(\n",
      "            1024, 256, kernel_size=(1, 1), stride=(1, 1), bias=False\n",
      "            (norm): FrozenBatchNorm2d(num_features=256, eps=1e-05)\n",
      "          )\n",
      "          (conv2): Conv2d(\n",
      "            256, 256, kernel_size=(3, 3), stride=(1, 1), padding=(1, 1), bias=False\n",
      "            (norm): FrozenBatchNorm2d(num_features=256, eps=1e-05)\n",
      "          )\n",
      "          (conv3): Conv2d(\n",
      "            256, 1024, kernel_size=(1, 1), stride=(1, 1), bias=False\n",
      "            (norm): FrozenBatchNorm2d(num_features=1024, eps=1e-05)\n",
      "          )\n",
      "        )\n",
      "        (3): BottleneckBlock(\n",
      "          (conv1): Conv2d(\n",
      "            1024, 256, kernel_size=(1, 1), stride=(1, 1), bias=False\n",
      "            (norm): FrozenBatchNorm2d(num_features=256, eps=1e-05)\n",
      "          )\n",
      "          (conv2): Conv2d(\n",
      "            256, 256, kernel_size=(3, 3), stride=(1, 1), padding=(1, 1), bias=False\n",
      "            (norm): FrozenBatchNorm2d(num_features=256, eps=1e-05)\n",
      "          )\n",
      "          (conv3): Conv2d(\n",
      "            256, 1024, kernel_size=(1, 1), stride=(1, 1), bias=False\n",
      "            (norm): FrozenBatchNorm2d(num_features=1024, eps=1e-05)\n",
      "          )\n",
      "        )\n",
      "        (4): BottleneckBlock(\n",
      "          (conv1): Conv2d(\n",
      "            1024, 256, kernel_size=(1, 1), stride=(1, 1), bias=False\n",
      "            (norm): FrozenBatchNorm2d(num_features=256, eps=1e-05)\n",
      "          )\n",
      "          (conv2): Conv2d(\n",
      "            256, 256, kernel_size=(3, 3), stride=(1, 1), padding=(1, 1), bias=False\n",
      "            (norm): FrozenBatchNorm2d(num_features=256, eps=1e-05)\n",
      "          )\n",
      "          (conv3): Conv2d(\n",
      "            256, 1024, kernel_size=(1, 1), stride=(1, 1), bias=False\n",
      "            (norm): FrozenBatchNorm2d(num_features=1024, eps=1e-05)\n",
      "          )\n",
      "        )\n",
      "        (5): BottleneckBlock(\n",
      "          (conv1): Conv2d(\n",
      "            1024, 256, kernel_size=(1, 1), stride=(1, 1), bias=False\n",
      "            (norm): FrozenBatchNorm2d(num_features=256, eps=1e-05)\n",
      "          )\n",
      "          (conv2): Conv2d(\n",
      "            256, 256, kernel_size=(3, 3), stride=(1, 1), padding=(1, 1), bias=False\n",
      "            (norm): FrozenBatchNorm2d(num_features=256, eps=1e-05)\n",
      "          )\n",
      "          (conv3): Conv2d(\n",
      "            256, 1024, kernel_size=(1, 1), stride=(1, 1), bias=False\n",
      "            (norm): FrozenBatchNorm2d(num_features=1024, eps=1e-05)\n",
      "          )\n",
      "        )\n",
      "      )\n",
      "      (res5): Sequential(\n",
      "        (0): BottleneckBlock(\n",
      "          (shortcut): Conv2d(\n",
      "            1024, 2048, kernel_size=(1, 1), stride=(2, 2), bias=False\n",
      "            (norm): FrozenBatchNorm2d(num_features=2048, eps=1e-05)\n",
      "          )\n",
      "          (conv1): Conv2d(\n",
      "            1024, 512, kernel_size=(1, 1), stride=(2, 2), bias=False\n",
      "            (norm): FrozenBatchNorm2d(num_features=512, eps=1e-05)\n",
      "          )\n",
      "          (conv2): Conv2d(\n",
      "            512, 512, kernel_size=(3, 3), stride=(1, 1), padding=(1, 1), bias=False\n",
      "            (norm): FrozenBatchNorm2d(num_features=512, eps=1e-05)\n",
      "          )\n",
      "          (conv3): Conv2d(\n",
      "            512, 2048, kernel_size=(1, 1), stride=(1, 1), bias=False\n",
      "            (norm): FrozenBatchNorm2d(num_features=2048, eps=1e-05)\n",
      "          )\n",
      "        )\n",
      "        (1): BottleneckBlock(\n",
      "          (conv1): Conv2d(\n",
      "            2048, 512, kernel_size=(1, 1), stride=(1, 1), bias=False\n",
      "            (norm): FrozenBatchNorm2d(num_features=512, eps=1e-05)\n",
      "          )\n",
      "          (conv2): Conv2d(\n",
      "            512, 512, kernel_size=(3, 3), stride=(1, 1), padding=(1, 1), bias=False\n",
      "            (norm): FrozenBatchNorm2d(num_features=512, eps=1e-05)\n",
      "          )\n",
      "          (conv3): Conv2d(\n",
      "            512, 2048, kernel_size=(1, 1), stride=(1, 1), bias=False\n",
      "            (norm): FrozenBatchNorm2d(num_features=2048, eps=1e-05)\n",
      "          )\n",
      "        )\n",
      "        (2): BottleneckBlock(\n",
      "          (conv1): Conv2d(\n",
      "            2048, 512, kernel_size=(1, 1), stride=(1, 1), bias=False\n",
      "            (norm): FrozenBatchNorm2d(num_features=512, eps=1e-05)\n",
      "          )\n",
      "          (conv2): Conv2d(\n",
      "            512, 512, kernel_size=(3, 3), stride=(1, 1), padding=(1, 1), bias=False\n",
      "            (norm): FrozenBatchNorm2d(num_features=512, eps=1e-05)\n",
      "          )\n",
      "          (conv3): Conv2d(\n",
      "            512, 2048, kernel_size=(1, 1), stride=(1, 1), bias=False\n",
      "            (norm): FrozenBatchNorm2d(num_features=2048, eps=1e-05)\n",
      "          )\n",
      "        )\n",
      "      )\n",
      "    )\n",
      "  )\n",
      "  (proposal_generator): RPN(\n",
      "    (rpn_head): StandardRPNHead(\n",
      "      (conv): Conv2d(256, 256, kernel_size=(3, 3), stride=(1, 1), padding=(1, 1))\n",
      "      (objectness_logits): Conv2d(256, 3, kernel_size=(1, 1), stride=(1, 1))\n",
      "      (anchor_deltas): Conv2d(256, 12, kernel_size=(1, 1), stride=(1, 1))\n",
      "    )\n",
      "    (anchor_generator): DefaultAnchorGenerator(\n",
      "      (cell_anchors): BufferList()\n",
      "    )\n",
      "  )\n",
      "  (roi_heads): StandardROIHeads(\n",
      "    (box_pooler): ROIPooler(\n",
      "      (level_poolers): ModuleList(\n",
      "        (0): ROIAlign(output_size=(7, 7), spatial_scale=0.25, sampling_ratio=0, aligned=True)\n",
      "        (1): ROIAlign(output_size=(7, 7), spatial_scale=0.125, sampling_ratio=0, aligned=True)\n",
      "        (2): ROIAlign(output_size=(7, 7), spatial_scale=0.0625, sampling_ratio=0, aligned=True)\n",
      "        (3): ROIAlign(output_size=(7, 7), spatial_scale=0.03125, sampling_ratio=0, aligned=True)\n",
      "      )\n",
      "    )\n",
      "    (box_head): FastRCNNConvFCHead(\n",
      "      (flatten): Flatten(start_dim=1, end_dim=-1)\n",
      "      (fc1): Linear(in_features=12544, out_features=1024, bias=True)\n",
      "      (fc_relu1): ReLU()\n",
      "      (fc2): Linear(in_features=1024, out_features=1024, bias=True)\n",
      "      (fc_relu2): ReLU()\n",
      "    )\n",
      "    (box_predictor): FastRCNNOutputLayers(\n",
      "      (cls_score): Linear(in_features=1024, out_features=2, bias=True)\n",
      "      (bbox_pred): Linear(in_features=1024, out_features=4, bias=True)\n",
      "    )\n",
      "    (mask_pooler): ROIPooler(\n",
      "      (level_poolers): ModuleList(\n",
      "        (0): ROIAlign(output_size=(14, 14), spatial_scale=0.25, sampling_ratio=0, aligned=True)\n",
      "        (1): ROIAlign(output_size=(14, 14), spatial_scale=0.125, sampling_ratio=0, aligned=True)\n",
      "        (2): ROIAlign(output_size=(14, 14), spatial_scale=0.0625, sampling_ratio=0, aligned=True)\n",
      "        (3): ROIAlign(output_size=(14, 14), spatial_scale=0.03125, sampling_ratio=0, aligned=True)\n",
      "      )\n",
      "    )\n",
      "    (mask_head): MaskRCNNConvUpsampleHead(\n",
      "      (mask_fcn1): Conv2d(\n",
      "        256, 256, kernel_size=(3, 3), stride=(1, 1), padding=(1, 1)\n",
      "        (activation): ReLU()\n",
      "      )\n",
      "      (mask_fcn2): Conv2d(\n",
      "        256, 256, kernel_size=(3, 3), stride=(1, 1), padding=(1, 1)\n",
      "        (activation): ReLU()\n",
      "      )\n",
      "      (mask_fcn3): Conv2d(\n",
      "        256, 256, kernel_size=(3, 3), stride=(1, 1), padding=(1, 1)\n",
      "        (activation): ReLU()\n",
      "      )\n",
      "      (mask_fcn4): Conv2d(\n",
      "        256, 256, kernel_size=(3, 3), stride=(1, 1), padding=(1, 1)\n",
      "        (activation): ReLU()\n",
      "      )\n",
      "      (deconv): ConvTranspose2d(256, 256, kernel_size=(2, 2), stride=(2, 2))\n",
      "      (deconv_relu): ReLU()\n",
      "      (predictor): Conv2d(256, 1, kernel_size=(1, 1), stride=(1, 1))\n",
      "    )\n",
      "  )\n",
      ")\u001b[0m\n"
     ]
    },
    {
     "name": "stderr",
     "output_type": "stream",
     "text": [
      "[\u001b[1m\u001b[37mINFO   \u001b[0m] \u001b[36mdefaults\u001b[0m:\u001b[36mbuild_model\u001b[0m:\u001b[36m436\u001b[0m - \u001b[1m\u001b[37mModel:\n",
      "GeneralizedRCNN(\n",
      "  (backbone): FPN(\n",
      "    (fpn_lateral2): Conv2d(256, 256, kernel_size=(1, 1), stride=(1, 1))\n",
      "    (fpn_output2): Conv2d(256, 256, kernel_size=(3, 3), stride=(1, 1), padding=(1, 1))\n",
      "    (fpn_lateral3): Conv2d(512, 256, kernel_size=(1, 1), stride=(1, 1))\n",
      "    (fpn_output3): Conv2d(256, 256, kernel_size=(3, 3), stride=(1, 1), padding=(1, 1))\n",
      "    (fpn_lateral4): Conv2d(1024, 256, kernel_size=(1, 1), stride=(1, 1))\n",
      "    (fpn_output4): Conv2d(256, 256, kernel_size=(3, 3), stride=(1, 1), padding=(1, 1))\n",
      "    (fpn_lateral5): Conv2d(2048, 256, kernel_size=(1, 1), stride=(1, 1))\n",
      "    (fpn_output5): Conv2d(256, 256, kernel_size=(3, 3), stride=(1, 1), padding=(1, 1))\n",
      "    (top_block): LastLevelMaxPool()\n",
      "    (bottom_up): ResNet(\n",
      "      (stem): BasicStem(\n",
      "        (conv1): Conv2d(\n",
      "          3, 64, kernel_size=(7, 7), stride=(2, 2), padding=(3, 3), bias=False\n",
      "          (norm): FrozenBatchNorm2d(num_features=64, eps=1e-05)\n",
      "        )\n",
      "      )\n",
      "      (res2): Sequential(\n",
      "        (0): BottleneckBlock(\n",
      "          (shortcut): Conv2d(\n",
      "            64, 256, kernel_size=(1, 1), stride=(1, 1), bias=False\n",
      "            (norm): FrozenBatchNorm2d(num_features=256, eps=1e-05)\n",
      "          )\n",
      "          (conv1): Conv2d(\n",
      "            64, 64, kernel_size=(1, 1), stride=(1, 1), bias=False\n",
      "            (norm): FrozenBatchNorm2d(num_features=64, eps=1e-05)\n",
      "          )\n",
      "          (conv2): Conv2d(\n",
      "            64, 64, kernel_size=(3, 3), stride=(1, 1), padding=(1, 1), bias=False\n",
      "            (norm): FrozenBatchNorm2d(num_features=64, eps=1e-05)\n",
      "          )\n",
      "          (conv3): Conv2d(\n",
      "            64, 256, kernel_size=(1, 1), stride=(1, 1), bias=False\n",
      "            (norm): FrozenBatchNorm2d(num_features=256, eps=1e-05)\n",
      "          )\n",
      "        )\n",
      "        (1): BottleneckBlock(\n",
      "          (conv1): Conv2d(\n",
      "            256, 64, kernel_size=(1, 1), stride=(1, 1), bias=False\n",
      "            (norm): FrozenBatchNorm2d(num_features=64, eps=1e-05)\n",
      "          )\n",
      "          (conv2): Conv2d(\n",
      "            64, 64, kernel_size=(3, 3), stride=(1, 1), padding=(1, 1), bias=False\n",
      "            (norm): FrozenBatchNorm2d(num_features=64, eps=1e-05)\n",
      "          )\n",
      "          (conv3): Conv2d(\n",
      "            64, 256, kernel_size=(1, 1), stride=(1, 1), bias=False\n",
      "            (norm): FrozenBatchNorm2d(num_features=256, eps=1e-05)\n",
      "          )\n",
      "        )\n",
      "        (2): BottleneckBlock(\n",
      "          (conv1): Conv2d(\n",
      "            256, 64, kernel_size=(1, 1), stride=(1, 1), bias=False\n",
      "            (norm): FrozenBatchNorm2d(num_features=64, eps=1e-05)\n",
      "          )\n",
      "          (conv2): Conv2d(\n",
      "            64, 64, kernel_size=(3, 3), stride=(1, 1), padding=(1, 1), bias=False\n",
      "            (norm): FrozenBatchNorm2d(num_features=64, eps=1e-05)\n",
      "          )\n",
      "          (conv3): Conv2d(\n",
      "            64, 256, kernel_size=(1, 1), stride=(1, 1), bias=False\n",
      "            (norm): FrozenBatchNorm2d(num_features=256, eps=1e-05)\n",
      "          )\n",
      "        )\n",
      "      )\n",
      "      (res3): Sequential(\n",
      "        (0): BottleneckBlock(\n",
      "          (shortcut): Conv2d(\n",
      "            256, 512, kernel_size=(1, 1), stride=(2, 2), bias=False\n",
      "            (norm): FrozenBatchNorm2d(num_features=512, eps=1e-05)\n",
      "          )\n",
      "          (conv1): Conv2d(\n",
      "            256, 128, kernel_size=(1, 1), stride=(2, 2), bias=False\n",
      "            (norm): FrozenBatchNorm2d(num_features=128, eps=1e-05)\n",
      "          )\n",
      "          (conv2): Conv2d(\n",
      "            128, 128, kernel_size=(3, 3), stride=(1, 1), padding=(1, 1), bias=False\n",
      "            (norm): FrozenBatchNorm2d(num_features=128, eps=1e-05)\n",
      "          )\n",
      "          (conv3): Conv2d(\n",
      "            128, 512, kernel_size=(1, 1), stride=(1, 1), bias=False\n",
      "            (norm): FrozenBatchNorm2d(num_features=512, eps=1e-05)\n",
      "          )\n",
      "        )\n",
      "        (1): BottleneckBlock(\n",
      "          (conv1): Conv2d(\n",
      "            512, 128, kernel_size=(1, 1), stride=(1, 1), bias=False\n",
      "            (norm): FrozenBatchNorm2d(num_features=128, eps=1e-05)\n",
      "          )\n",
      "          (conv2): Conv2d(\n",
      "            128, 128, kernel_size=(3, 3), stride=(1, 1), padding=(1, 1), bias=False\n",
      "            (norm): FrozenBatchNorm2d(num_features=128, eps=1e-05)\n",
      "          )\n",
      "          (conv3): Conv2d(\n",
      "            128, 512, kernel_size=(1, 1), stride=(1, 1), bias=False\n",
      "            (norm): FrozenBatchNorm2d(num_features=512, eps=1e-05)\n",
      "          )\n",
      "        )\n",
      "        (2): BottleneckBlock(\n",
      "          (conv1): Conv2d(\n",
      "            512, 128, kernel_size=(1, 1), stride=(1, 1), bias=False\n",
      "            (norm): FrozenBatchNorm2d(num_features=128, eps=1e-05)\n",
      "          )\n",
      "          (conv2): Conv2d(\n",
      "            128, 128, kernel_size=(3, 3), stride=(1, 1), padding=(1, 1), bias=False\n",
      "            (norm): FrozenBatchNorm2d(num_features=128, eps=1e-05)\n",
      "          )\n",
      "          (conv3): Conv2d(\n",
      "            128, 512, kernel_size=(1, 1), stride=(1, 1), bias=False\n",
      "            (norm): FrozenBatchNorm2d(num_features=512, eps=1e-05)\n",
      "          )\n",
      "        )\n",
      "        (3): BottleneckBlock(\n",
      "          (conv1): Conv2d(\n",
      "            512, 128, kernel_size=(1, 1), stride=(1, 1), bias=False\n",
      "            (norm): FrozenBatchNorm2d(num_features=128, eps=1e-05)\n",
      "          )\n",
      "          (conv2): Conv2d(\n",
      "            128, 128, kernel_size=(3, 3), stride=(1, 1), padding=(1, 1), bias=False\n",
      "            (norm): FrozenBatchNorm2d(num_features=128, eps=1e-05)\n",
      "          )\n",
      "          (conv3): Conv2d(\n",
      "            128, 512, kernel_size=(1, 1), stride=(1, 1), bias=False\n",
      "            (norm): FrozenBatchNorm2d(num_features=512, eps=1e-05)\n",
      "          )\n",
      "        )\n",
      "      )\n",
      "      (res4): Sequential(\n",
      "        (0): BottleneckBlock(\n",
      "          (shortcut): Conv2d(\n",
      "            512, 1024, kernel_size=(1, 1), stride=(2, 2), bias=False\n",
      "            (norm): FrozenBatchNorm2d(num_features=1024, eps=1e-05)\n",
      "          )\n",
      "          (conv1): Conv2d(\n",
      "            512, 256, kernel_size=(1, 1), stride=(2, 2), bias=False\n",
      "            (norm): FrozenBatchNorm2d(num_features=256, eps=1e-05)\n",
      "          )\n",
      "          (conv2): Conv2d(\n",
      "            256, 256, kernel_size=(3, 3), stride=(1, 1), padding=(1, 1), bias=False\n",
      "            (norm): FrozenBatchNorm2d(num_features=256, eps=1e-05)\n",
      "          )\n",
      "          (conv3): Conv2d(\n",
      "            256, 1024, kernel_size=(1, 1), stride=(1, 1), bias=False\n",
      "            (norm): FrozenBatchNorm2d(num_features=1024, eps=1e-05)\n",
      "          )\n",
      "        )\n",
      "        (1): BottleneckBlock(\n",
      "          (conv1): Conv2d(\n",
      "            1024, 256, kernel_size=(1, 1), stride=(1, 1), bias=False\n",
      "            (norm): FrozenBatchNorm2d(num_features=256, eps=1e-05)\n",
      "          )\n",
      "          (conv2): Conv2d(\n",
      "            256, 256, kernel_size=(3, 3), stride=(1, 1), padding=(1, 1), bias=False\n",
      "            (norm): FrozenBatchNorm2d(num_features=256, eps=1e-05)\n",
      "          )\n",
      "          (conv3): Conv2d(\n",
      "            256, 1024, kernel_size=(1, 1), stride=(1, 1), bias=False\n",
      "            (norm): FrozenBatchNorm2d(num_features=1024, eps=1e-05)\n",
      "          )\n",
      "        )\n",
      "        (2): BottleneckBlock(\n",
      "          (conv1): Conv2d(\n",
      "            1024, 256, kernel_size=(1, 1), stride=(1, 1), bias=False\n",
      "            (norm): FrozenBatchNorm2d(num_features=256, eps=1e-05)\n",
      "          )\n",
      "          (conv2): Conv2d(\n",
      "            256, 256, kernel_size=(3, 3), stride=(1, 1), padding=(1, 1), bias=False\n",
      "            (norm): FrozenBatchNorm2d(num_features=256, eps=1e-05)\n",
      "          )\n",
      "          (conv3): Conv2d(\n",
      "            256, 1024, kernel_size=(1, 1), stride=(1, 1), bias=False\n",
      "            (norm): FrozenBatchNorm2d(num_features=1024, eps=1e-05)\n",
      "          )\n",
      "        )\n",
      "        (3): BottleneckBlock(\n",
      "          (conv1): Conv2d(\n",
      "            1024, 256, kernel_size=(1, 1), stride=(1, 1), bias=False\n",
      "            (norm): FrozenBatchNorm2d(num_features=256, eps=1e-05)\n",
      "          )\n",
      "          (conv2): Conv2d(\n",
      "            256, 256, kernel_size=(3, 3), stride=(1, 1), padding=(1, 1), bias=False\n",
      "            (norm): FrozenBatchNorm2d(num_features=256, eps=1e-05)\n",
      "          )\n",
      "          (conv3): Conv2d(\n",
      "            256, 1024, kernel_size=(1, 1), stride=(1, 1), bias=False\n",
      "            (norm): FrozenBatchNorm2d(num_features=1024, eps=1e-05)\n",
      "          )\n",
      "        )\n",
      "        (4): BottleneckBlock(\n",
      "          (conv1): Conv2d(\n",
      "            1024, 256, kernel_size=(1, 1), stride=(1, 1), bias=False\n",
      "            (norm): FrozenBatchNorm2d(num_features=256, eps=1e-05)\n",
      "          )\n",
      "          (conv2): Conv2d(\n",
      "            256, 256, kernel_size=(3, 3), stride=(1, 1), padding=(1, 1), bias=False\n",
      "            (norm): FrozenBatchNorm2d(num_features=256, eps=1e-05)\n",
      "          )\n",
      "          (conv3): Conv2d(\n",
      "            256, 1024, kernel_size=(1, 1), stride=(1, 1), bias=False\n",
      "            (norm): FrozenBatchNorm2d(num_features=1024, eps=1e-05)\n",
      "          )\n",
      "        )\n",
      "        (5): BottleneckBlock(\n",
      "          (conv1): Conv2d(\n",
      "            1024, 256, kernel_size=(1, 1), stride=(1, 1), bias=False\n",
      "            (norm): FrozenBatchNorm2d(num_features=256, eps=1e-05)\n",
      "          )\n",
      "          (conv2): Conv2d(\n",
      "            256, 256, kernel_size=(3, 3), stride=(1, 1), padding=(1, 1), bias=False\n",
      "            (norm): FrozenBatchNorm2d(num_features=256, eps=1e-05)\n",
      "          )\n",
      "          (conv3): Conv2d(\n",
      "            256, 1024, kernel_size=(1, 1), stride=(1, 1), bias=False\n",
      "            (norm): FrozenBatchNorm2d(num_features=1024, eps=1e-05)\n",
      "          )\n",
      "        )\n",
      "      )\n",
      "      (res5): Sequential(\n",
      "        (0): BottleneckBlock(\n",
      "          (shortcut): Conv2d(\n",
      "            1024, 2048, kernel_size=(1, 1), stride=(2, 2), bias=False\n",
      "            (norm): FrozenBatchNorm2d(num_features=2048, eps=1e-05)\n",
      "          )\n",
      "          (conv1): Conv2d(\n",
      "            1024, 512, kernel_size=(1, 1), stride=(2, 2), bias=False\n",
      "            (norm): FrozenBatchNorm2d(num_features=512, eps=1e-05)\n",
      "          )\n",
      "          (conv2): Conv2d(\n",
      "            512, 512, kernel_size=(3, 3), stride=(1, 1), padding=(1, 1), bias=False\n",
      "            (norm): FrozenBatchNorm2d(num_features=512, eps=1e-05)\n",
      "          )\n",
      "          (conv3): Conv2d(\n",
      "            512, 2048, kernel_size=(1, 1), stride=(1, 1), bias=False\n",
      "            (norm): FrozenBatchNorm2d(num_features=2048, eps=1e-05)\n",
      "          )\n",
      "        )\n",
      "        (1): BottleneckBlock(\n",
      "          (conv1): Conv2d(\n",
      "            2048, 512, kernel_size=(1, 1), stride=(1, 1), bias=False\n",
      "            (norm): FrozenBatchNorm2d(num_features=512, eps=1e-05)\n",
      "          )\n",
      "          (conv2): Conv2d(\n",
      "            512, 512, kernel_size=(3, 3), stride=(1, 1), padding=(1, 1), bias=False\n",
      "            (norm): FrozenBatchNorm2d(num_features=512, eps=1e-05)\n",
      "          )\n",
      "          (conv3): Conv2d(\n",
      "            512, 2048, kernel_size=(1, 1), stride=(1, 1), bias=False\n",
      "            (norm): FrozenBatchNorm2d(num_features=2048, eps=1e-05)\n",
      "          )\n",
      "        )\n",
      "        (2): BottleneckBlock(\n",
      "          (conv1): Conv2d(\n",
      "            2048, 512, kernel_size=(1, 1), stride=(1, 1), bias=False\n",
      "            (norm): FrozenBatchNorm2d(num_features=512, eps=1e-05)\n",
      "          )\n",
      "          (conv2): Conv2d(\n",
      "            512, 512, kernel_size=(3, 3), stride=(1, 1), padding=(1, 1), bias=False\n",
      "            (norm): FrozenBatchNorm2d(num_features=512, eps=1e-05)\n",
      "          )\n",
      "          (conv3): Conv2d(\n",
      "            512, 2048, kernel_size=(1, 1), stride=(1, 1), bias=False\n",
      "            (norm): FrozenBatchNorm2d(num_features=2048, eps=1e-05)\n",
      "          )\n",
      "        )\n",
      "      )\n",
      "    )\n",
      "  )\n",
      "  (proposal_generator): RPN(\n",
      "    (rpn_head): StandardRPNHead(\n",
      "      (conv): Conv2d(256, 256, kernel_size=(3, 3), stride=(1, 1), padding=(1, 1))\n",
      "      (objectness_logits): Conv2d(256, 3, kernel_size=(1, 1), stride=(1, 1))\n",
      "      (anchor_deltas): Conv2d(256, 12, kernel_size=(1, 1), stride=(1, 1))\n",
      "    )\n",
      "    (anchor_generator): DefaultAnchorGenerator(\n",
      "      (cell_anchors): BufferList()\n",
      "    )\n",
      "  )\n",
      "  (roi_heads): StandardROIHeads(\n",
      "    (box_pooler): ROIPooler(\n",
      "      (level_poolers): ModuleList(\n",
      "        (0): ROIAlign(output_size=(7, 7), spatial_scale=0.25, sampling_ratio=0, aligned=True)\n",
      "        (1): ROIAlign(output_size=(7, 7), spatial_scale=0.125, sampling_ratio=0, aligned=True)\n",
      "        (2): ROIAlign(output_size=(7, 7), spatial_scale=0.0625, sampling_ratio=0, aligned=True)\n",
      "        (3): ROIAlign(output_size=(7, 7), spatial_scale=0.03125, sampling_ratio=0, aligned=True)\n",
      "      )\n",
      "    )\n",
      "    (box_head): FastRCNNConvFCHead(\n",
      "      (flatten): Flatten(start_dim=1, end_dim=-1)\n",
      "      (fc1): Linear(in_features=12544, out_features=1024, bias=True)\n",
      "      (fc_relu1): ReLU()\n",
      "      (fc2): Linear(in_features=1024, out_features=1024, bias=True)\n",
      "      (fc_relu2): ReLU()\n",
      "    )\n",
      "    (box_predictor): FastRCNNOutputLayers(\n",
      "      (cls_score): Linear(in_features=1024, out_features=2, bias=True)\n",
      "      (bbox_pred): Linear(in_features=1024, out_features=4, bias=True)\n",
      "    )\n",
      "    (mask_pooler): ROIPooler(\n",
      "      (level_poolers): ModuleList(\n",
      "        (0): ROIAlign(output_size=(14, 14), spatial_scale=0.25, sampling_ratio=0, aligned=True)\n",
      "        (1): ROIAlign(output_size=(14, 14), spatial_scale=0.125, sampling_ratio=0, aligned=True)\n",
      "        (2): ROIAlign(output_size=(14, 14), spatial_scale=0.0625, sampling_ratio=0, aligned=True)\n",
      "        (3): ROIAlign(output_size=(14, 14), spatial_scale=0.03125, sampling_ratio=0, aligned=True)\n",
      "      )\n",
      "    )\n",
      "    (mask_head): MaskRCNNConvUpsampleHead(\n",
      "      (mask_fcn1): Conv2d(\n",
      "        256, 256, kernel_size=(3, 3), stride=(1, 1), padding=(1, 1)\n",
      "        (activation): ReLU()\n",
      "      )\n",
      "      (mask_fcn2): Conv2d(\n",
      "        256, 256, kernel_size=(3, 3), stride=(1, 1), padding=(1, 1)\n",
      "        (activation): ReLU()\n",
      "      )\n",
      "      (mask_fcn3): Conv2d(\n",
      "        256, 256, kernel_size=(3, 3), stride=(1, 1), padding=(1, 1)\n",
      "        (activation): ReLU()\n",
      "      )\n",
      "      (mask_fcn4): Conv2d(\n",
      "        256, 256, kernel_size=(3, 3), stride=(1, 1), padding=(1, 1)\n",
      "        (activation): ReLU()\n",
      "      )\n",
      "      (deconv): ConvTranspose2d(256, 256, kernel_size=(2, 2), stride=(2, 2))\n",
      "      (deconv_relu): ReLU()\n",
      "      (predictor): Conv2d(256, 1, kernel_size=(1, 1), stride=(1, 1))\n",
      "    )\n",
      "  )\n",
      ")\u001b[0m\n"
     ]
    },
    {
     "name": "stderr",
     "output_type": "stream",
     "text": [
      "[\u001b[1m\u001b[37mINFO   \u001b[0m] \u001b[36mbuild\u001b[0m:\u001b[36mfilter_images_with_only_crowd_annotations\u001b[0m:\u001b[36m61\u001b[0m - \u001b[1m\u001b[37mRemoved 0 images with no usable annotations. 28 images left.\u001b[0m\n",
      "[\u001b[1m\u001b[37mINFO   \u001b[0m] \u001b[36mbuild\u001b[0m:\u001b[36mfilter_images_with_only_crowd_annotations\u001b[0m:\u001b[36m61\u001b[0m - \u001b[1m\u001b[37mRemoved 0 images with no usable annotations. 28 images left.\u001b[0m\n",
      "[\u001b[1m\u001b[37mINFO   \u001b[0m] \u001b[36mdataset_mapper\u001b[0m:\u001b[36m__init__\u001b[0m:\u001b[36m83\u001b[0m - \u001b[1m\u001b[37m[DatasetMapper] Augmentations used in training: [ResizeShortestEdge(short_edge_length=(640, 672, 704, 736, 768, 800), max_size=1333, sample_style='choice'), RandomFlip()]\u001b[0m\n",
      "[\u001b[1m\u001b[37mINFO   \u001b[0m] \u001b[36mdataset_mapper\u001b[0m:\u001b[36m__init__\u001b[0m:\u001b[36m83\u001b[0m - \u001b[1m\u001b[37m[DatasetMapper] Augmentations used in training: [ResizeShortestEdge(short_edge_length=(640, 672, 704, 736, 768, 800), max_size=1333, sample_style='choice'), RandomFlip()]\u001b[0m\n",
      "[\u001b[1m\u001b[37mINFO   \u001b[0m] \u001b[36mbuild\u001b[0m:\u001b[36m_train_loader_from_config\u001b[0m:\u001b[36m316\u001b[0m - \u001b[1m\u001b[37mUsing training sampler TrainingSampler\u001b[0m\n",
      "[\u001b[1m\u001b[37mINFO   \u001b[0m] \u001b[36mbuild\u001b[0m:\u001b[36m_train_loader_from_config\u001b[0m:\u001b[36m316\u001b[0m - \u001b[1m\u001b[37mUsing training sampler TrainingSampler\u001b[0m\n",
      "[\u001b[1m\u001b[37mINFO   \u001b[0m] \u001b[36mcommon\u001b[0m:\u001b[36m__init__\u001b[0m:\u001b[36m88\u001b[0m - \u001b[1m\u001b[37mSerializing 28 elements to byte tensors and concatenating them all ...\u001b[0m\n",
      "[\u001b[1m\u001b[37mINFO   \u001b[0m] \u001b[36mcommon\u001b[0m:\u001b[36m__init__\u001b[0m:\u001b[36m88\u001b[0m - \u001b[1m\u001b[37mSerializing 28 elements to byte tensors and concatenating them all ...\u001b[0m\n",
      "[\u001b[1m\u001b[37mINFO   \u001b[0m] \u001b[36mcommon\u001b[0m:\u001b[36m__init__\u001b[0m:\u001b[36m97\u001b[0m - \u001b[1m\u001b[37mSerialized dataset takes 0.07 MiB\u001b[0m\n",
      "[\u001b[1m\u001b[37mINFO   \u001b[0m] \u001b[36mcommon\u001b[0m:\u001b[36m__init__\u001b[0m:\u001b[36m97\u001b[0m - \u001b[1m\u001b[37mSerialized dataset takes 0.07 MiB\u001b[0m\n",
      "[\u001b[1m\u001b[37mINFO   \u001b[0m] \u001b[36mcheckpoint\u001b[0m:\u001b[36mload\u001b[0m:\u001b[36m138\u001b[0m - \u001b[1m\u001b[37mLoading checkpoint from https://dl.fbaipublicfiles.com/detectron2/COCO-InstanceSegmentation/mask_rcnn_R_50_FPN_3x/137849600/model_final_f10217.pkl\u001b[0m\n",
      "[\u001b[1m\u001b[37mINFO   \u001b[0m] \u001b[36mdetection_checkpoint\u001b[0m:\u001b[36m_load_file\u001b[0m:\u001b[36m44\u001b[0m - \u001b[1m\u001b[37mReading a file from 'Detectron2 Model Zoo'\u001b[0m\n",
      "[\u001b[1m\u001b[33mWARNING\u001b[0m] \u001b[36mcheckpoint\u001b[0m:\u001b[36m_log_incompatible_keys\u001b[0m:\u001b[36m327\u001b[0m - \u001b[1m\u001b[33mSkip loading parameter 'roi_heads.box_predictor.cls_score.weight' to the model due to incompatible shapes: (81, 1024) in the checkpoint but (2, 1024) in the model! You might want to double check if this is expected.\u001b[0m\n",
      "[\u001b[1m\u001b[33mWARNING\u001b[0m] \u001b[36mcheckpoint\u001b[0m:\u001b[36m_log_incompatible_keys\u001b[0m:\u001b[36m327\u001b[0m - \u001b[1m\u001b[33mSkip loading parameter 'roi_heads.box_predictor.cls_score.bias' to the model due to incompatible shapes: (81,) in the checkpoint but (2,) in the model! You might want to double check if this is expected.\u001b[0m\n",
      "[\u001b[1m\u001b[33mWARNING\u001b[0m] \u001b[36mcheckpoint\u001b[0m:\u001b[36m_log_incompatible_keys\u001b[0m:\u001b[36m327\u001b[0m - \u001b[1m\u001b[33mSkip loading parameter 'roi_heads.box_predictor.bbox_pred.weight' to the model due to incompatible shapes: (320, 1024) in the checkpoint but (4, 1024) in the model! You might want to double check if this is expected.\u001b[0m\n",
      "[\u001b[1m\u001b[33mWARNING\u001b[0m] \u001b[36mcheckpoint\u001b[0m:\u001b[36m_log_incompatible_keys\u001b[0m:\u001b[36m327\u001b[0m - \u001b[1m\u001b[33mSkip loading parameter 'roi_heads.box_predictor.bbox_pred.bias' to the model due to incompatible shapes: (320,) in the checkpoint but (4,) in the model! You might want to double check if this is expected.\u001b[0m\n",
      "[\u001b[1m\u001b[33mWARNING\u001b[0m] \u001b[36mcheckpoint\u001b[0m:\u001b[36m_log_incompatible_keys\u001b[0m:\u001b[36m327\u001b[0m - \u001b[1m\u001b[33mSkip loading parameter 'roi_heads.mask_head.predictor.weight' to the model due to incompatible shapes: (80, 256, 1, 1) in the checkpoint but (1, 256, 1, 1) in the model! You might want to double check if this is expected.\u001b[0m\n",
      "[\u001b[1m\u001b[33mWARNING\u001b[0m] \u001b[36mcheckpoint\u001b[0m:\u001b[36m_log_incompatible_keys\u001b[0m:\u001b[36m327\u001b[0m - \u001b[1m\u001b[33mSkip loading parameter 'roi_heads.mask_head.predictor.bias' to the model due to incompatible shapes: (80,) in the checkpoint but (1,) in the model! You might want to double check if this is expected.\u001b[0m\n",
      "[\u001b[1m\u001b[37mINFO   \u001b[0m] \u001b[36mcheckpoint\u001b[0m:\u001b[36m_log_incompatible_keys\u001b[0m:\u001b[36m339\u001b[0m - \u001b[1m\u001b[37mSome model parameters or buffers are not found in the checkpoint:\n",
      "\u001b[34mroi_heads.box_predictor.bbox_pred.{bias, weight}\u001b[0m\n",
      "\u001b[34mroi_heads.box_predictor.cls_score.{bias, weight}\u001b[0m\n",
      "\u001b[34mroi_heads.mask_head.predictor.{bias, weight}\u001b[0m\u001b[0m\n",
      "[\u001b[1m\u001b[37mINFO   \u001b[0m] \u001b[36mtrain_loop\u001b[0m:\u001b[36mtrain\u001b[0m:\u001b[36m124\u001b[0m - \u001b[1m\u001b[37mStarting training from iteration 0\u001b[0m\n",
      "[\u001b[1m\u001b[37mINFO   \u001b[0m] \u001b[36mtrain_loop\u001b[0m:\u001b[36mtrain\u001b[0m:\u001b[36m124\u001b[0m - \u001b[1m\u001b[37mStarting training from iteration 0\u001b[0m\n",
      "[\u001b[1m\u001b[37mINFO   \u001b[0m] \u001b[36mhooks\u001b[0m:\u001b[36mafter_train\u001b[0m:\u001b[36m114\u001b[0m - \u001b[1m\u001b[37mOverall training speed: 1 iterations in 0:00:37 (37.5098 s / it)\u001b[0m\n",
      "[\u001b[1m\u001b[37mINFO   \u001b[0m] \u001b[36mhooks\u001b[0m:\u001b[36mafter_train\u001b[0m:\u001b[36m114\u001b[0m - \u001b[1m\u001b[37mOverall training speed: 1 iterations in 0:00:37 (37.5098 s / it)\u001b[0m\n",
      "[\u001b[1m\u001b[37mINFO   \u001b[0m] \u001b[36mhooks\u001b[0m:\u001b[36mafter_train\u001b[0m:\u001b[36m122\u001b[0m - \u001b[1m\u001b[37mTotal training time: 0:00:37 (0:00:00 on hooks)\u001b[0m\n",
      "[\u001b[1m\u001b[37mINFO   \u001b[0m] \u001b[36mhooks\u001b[0m:\u001b[36mafter_train\u001b[0m:\u001b[36m122\u001b[0m - \u001b[1m\u001b[37mTotal training time: 0:00:37 (0:00:00 on hooks)\u001b[0m\n",
      "[\u001b[1m\u001b[37mINFO   \u001b[0m] \u001b[36mevents\u001b[0m:\u001b[36mwrite\u001b[0m:\u001b[36m244\u001b[0m - \u001b[1m\u001b[37m eta: 0:08:37  iter: 3  total_loss: 0.7859  loss_cls: 0.7307  loss_box_reg: 0  loss_mask: 0  loss_rpn_cls: 0.00478  loss_rpn_loc: 0.01635  time: 19.9227  data_time: 0.1936  lr: 7.495e-07  \u001b[0m\n",
      "[\u001b[1m\u001b[37mINFO   \u001b[0m] \u001b[36mevents\u001b[0m:\u001b[36mwrite\u001b[0m:\u001b[36m244\u001b[0m - \u001b[1m\u001b[37m eta: 0:08:37  iter: 3  total_loss: 0.7859  loss_cls: 0.7307  loss_box_reg: 0  loss_mask: 0  loss_rpn_cls: 0.00478  loss_rpn_loc: 0.01635  time: 19.9227  data_time: 0.1936  lr: 7.495e-07  \u001b[0m\n"
     ]
    },
    {
     "ename": "KeyboardInterrupt",
     "evalue": "",
     "output_type": "error",
     "traceback": [
      "\u001b[0;31m---------------------------------------------------------------------------\u001b[0m",
      "\u001b[0;31mKeyboardInterrupt\u001b[0m                         Traceback (most recent call last)",
      "\u001b[0;32m<ipython-input-67-159e26e6ebc2>\u001b[0m in \u001b[0;36m<module>\u001b[0;34m\u001b[0m\n\u001b[1;32m      1\u001b[0m \u001b[0mtrainer\u001b[0m \u001b[0;34m=\u001b[0m \u001b[0mDefaultTrainer\u001b[0m\u001b[0;34m(\u001b[0m\u001b[0mcfg\u001b[0m\u001b[0;34m)\u001b[0m\u001b[0;34m\u001b[0m\u001b[0;34m\u001b[0m\u001b[0m\n\u001b[1;32m      2\u001b[0m \u001b[0mtrainer\u001b[0m\u001b[0;34m.\u001b[0m\u001b[0mresume_or_load\u001b[0m\u001b[0;34m(\u001b[0m\u001b[0mresume\u001b[0m\u001b[0;34m=\u001b[0m\u001b[0;32mFalse\u001b[0m\u001b[0;34m)\u001b[0m\u001b[0;34m\u001b[0m\u001b[0;34m\u001b[0m\u001b[0m\n\u001b[0;32m----> 3\u001b[0;31m \u001b[0mtrainer\u001b[0m\u001b[0;34m.\u001b[0m\u001b[0mtrain\u001b[0m\u001b[0;34m(\u001b[0m\u001b[0;34m)\u001b[0m\u001b[0;34m\u001b[0m\u001b[0;34m\u001b[0m\u001b[0m\n\u001b[0m",
      "\u001b[0;32m~/miniconda3/lib/python3.8/site-packages/detectron2/engine/defaults.py\u001b[0m in \u001b[0;36mtrain\u001b[0;34m(self)\u001b[0m\n\u001b[1;32m    411\u001b[0m             \u001b[0mOrderedDict\u001b[0m \u001b[0mof\u001b[0m \u001b[0mresults\u001b[0m\u001b[0;34m,\u001b[0m \u001b[0;32mif\u001b[0m \u001b[0mevaluation\u001b[0m \u001b[0;32mis\u001b[0m \u001b[0menabled\u001b[0m\u001b[0;34m.\u001b[0m \u001b[0mOtherwise\u001b[0m \u001b[0;32mNone\u001b[0m\u001b[0;34m.\u001b[0m\u001b[0;34m\u001b[0m\u001b[0;34m\u001b[0m\u001b[0m\n\u001b[1;32m    412\u001b[0m         \"\"\"\n\u001b[0;32m--> 413\u001b[0;31m         \u001b[0msuper\u001b[0m\u001b[0;34m(\u001b[0m\u001b[0;34m)\u001b[0m\u001b[0;34m.\u001b[0m\u001b[0mtrain\u001b[0m\u001b[0;34m(\u001b[0m\u001b[0mself\u001b[0m\u001b[0;34m.\u001b[0m\u001b[0mstart_iter\u001b[0m\u001b[0;34m,\u001b[0m \u001b[0mself\u001b[0m\u001b[0;34m.\u001b[0m\u001b[0mmax_iter\u001b[0m\u001b[0;34m)\u001b[0m\u001b[0;34m\u001b[0m\u001b[0;34m\u001b[0m\u001b[0m\n\u001b[0m\u001b[1;32m    414\u001b[0m         \u001b[0;32mif\u001b[0m \u001b[0mlen\u001b[0m\u001b[0;34m(\u001b[0m\u001b[0mself\u001b[0m\u001b[0;34m.\u001b[0m\u001b[0mcfg\u001b[0m\u001b[0;34m.\u001b[0m\u001b[0mTEST\u001b[0m\u001b[0;34m.\u001b[0m\u001b[0mEXPECTED_RESULTS\u001b[0m\u001b[0;34m)\u001b[0m \u001b[0;32mand\u001b[0m \u001b[0mcomm\u001b[0m\u001b[0;34m.\u001b[0m\u001b[0mis_main_process\u001b[0m\u001b[0;34m(\u001b[0m\u001b[0;34m)\u001b[0m\u001b[0;34m:\u001b[0m\u001b[0;34m\u001b[0m\u001b[0;34m\u001b[0m\u001b[0m\n\u001b[1;32m    415\u001b[0m             assert hasattr(\n",
      "\u001b[0;32m~/miniconda3/lib/python3.8/site-packages/detectron2/engine/train_loop.py\u001b[0m in \u001b[0;36mtrain\u001b[0;34m(self, start_iter, max_iter)\u001b[0m\n\u001b[1;32m    132\u001b[0m                 \u001b[0;32mfor\u001b[0m \u001b[0mself\u001b[0m\u001b[0;34m.\u001b[0m\u001b[0miter\u001b[0m \u001b[0;32min\u001b[0m \u001b[0mrange\u001b[0m\u001b[0;34m(\u001b[0m\u001b[0mstart_iter\u001b[0m\u001b[0;34m,\u001b[0m \u001b[0mmax_iter\u001b[0m\u001b[0;34m)\u001b[0m\u001b[0;34m:\u001b[0m\u001b[0;34m\u001b[0m\u001b[0;34m\u001b[0m\u001b[0m\n\u001b[1;32m    133\u001b[0m                     \u001b[0mself\u001b[0m\u001b[0;34m.\u001b[0m\u001b[0mbefore_step\u001b[0m\u001b[0;34m(\u001b[0m\u001b[0;34m)\u001b[0m\u001b[0;34m\u001b[0m\u001b[0;34m\u001b[0m\u001b[0m\n\u001b[0;32m--> 134\u001b[0;31m                     \u001b[0mself\u001b[0m\u001b[0;34m.\u001b[0m\u001b[0mrun_step\u001b[0m\u001b[0;34m(\u001b[0m\u001b[0;34m)\u001b[0m\u001b[0;34m\u001b[0m\u001b[0;34m\u001b[0m\u001b[0m\n\u001b[0m\u001b[1;32m    135\u001b[0m                     \u001b[0mself\u001b[0m\u001b[0;34m.\u001b[0m\u001b[0mafter_step\u001b[0m\u001b[0;34m(\u001b[0m\u001b[0;34m)\u001b[0m\u001b[0;34m\u001b[0m\u001b[0;34m\u001b[0m\u001b[0m\n\u001b[1;32m    136\u001b[0m                 \u001b[0;31m# self.iter == max_iter can be used by `after_train` to\u001b[0m\u001b[0;34m\u001b[0m\u001b[0;34m\u001b[0m\u001b[0;34m\u001b[0m\u001b[0m\n",
      "\u001b[0;32m~/miniconda3/lib/python3.8/site-packages/detectron2/engine/defaults.py\u001b[0m in \u001b[0;36mrun_step\u001b[0;34m(self)\u001b[0m\n\u001b[1;32m    421\u001b[0m     \u001b[0;32mdef\u001b[0m \u001b[0mrun_step\u001b[0m\u001b[0;34m(\u001b[0m\u001b[0mself\u001b[0m\u001b[0;34m)\u001b[0m\u001b[0;34m:\u001b[0m\u001b[0;34m\u001b[0m\u001b[0;34m\u001b[0m\u001b[0m\n\u001b[1;32m    422\u001b[0m         \u001b[0mself\u001b[0m\u001b[0;34m.\u001b[0m\u001b[0m_trainer\u001b[0m\u001b[0;34m.\u001b[0m\u001b[0miter\u001b[0m \u001b[0;34m=\u001b[0m \u001b[0mself\u001b[0m\u001b[0;34m.\u001b[0m\u001b[0miter\u001b[0m\u001b[0;34m\u001b[0m\u001b[0;34m\u001b[0m\u001b[0m\n\u001b[0;32m--> 423\u001b[0;31m         \u001b[0mself\u001b[0m\u001b[0;34m.\u001b[0m\u001b[0m_trainer\u001b[0m\u001b[0;34m.\u001b[0m\u001b[0mrun_step\u001b[0m\u001b[0;34m(\u001b[0m\u001b[0;34m)\u001b[0m\u001b[0;34m\u001b[0m\u001b[0;34m\u001b[0m\u001b[0m\n\u001b[0m\u001b[1;32m    424\u001b[0m \u001b[0;34m\u001b[0m\u001b[0m\n\u001b[1;32m    425\u001b[0m     \u001b[0;34m@\u001b[0m\u001b[0mclassmethod\u001b[0m\u001b[0;34m\u001b[0m\u001b[0;34m\u001b[0m\u001b[0m\n",
      "\u001b[0;32m~/miniconda3/lib/python3.8/site-packages/detectron2/engine/train_loop.py\u001b[0m in \u001b[0;36mrun_step\u001b[0;34m(self)\u001b[0m\n\u001b[1;32m    234\u001b[0m         \"\"\"\n\u001b[1;32m    235\u001b[0m         \u001b[0mself\u001b[0m\u001b[0;34m.\u001b[0m\u001b[0moptimizer\u001b[0m\u001b[0;34m.\u001b[0m\u001b[0mzero_grad\u001b[0m\u001b[0;34m(\u001b[0m\u001b[0;34m)\u001b[0m\u001b[0;34m\u001b[0m\u001b[0;34m\u001b[0m\u001b[0m\n\u001b[0;32m--> 236\u001b[0;31m         \u001b[0mlosses\u001b[0m\u001b[0;34m.\u001b[0m\u001b[0mbackward\u001b[0m\u001b[0;34m(\u001b[0m\u001b[0;34m)\u001b[0m\u001b[0;34m\u001b[0m\u001b[0;34m\u001b[0m\u001b[0m\n\u001b[0m\u001b[1;32m    237\u001b[0m \u001b[0;34m\u001b[0m\u001b[0m\n\u001b[1;32m    238\u001b[0m         \u001b[0mself\u001b[0m\u001b[0;34m.\u001b[0m\u001b[0m_write_metrics\u001b[0m\u001b[0;34m(\u001b[0m\u001b[0mloss_dict\u001b[0m\u001b[0;34m,\u001b[0m \u001b[0mdata_time\u001b[0m\u001b[0;34m)\u001b[0m\u001b[0;34m\u001b[0m\u001b[0;34m\u001b[0m\u001b[0m\n",
      "\u001b[0;32m~/miniconda3/lib/python3.8/site-packages/torch/tensor.py\u001b[0m in \u001b[0;36mbackward\u001b[0;34m(self, gradient, retain_graph, create_graph)\u001b[0m\n\u001b[1;32m    219\u001b[0m                 \u001b[0mretain_graph\u001b[0m\u001b[0;34m=\u001b[0m\u001b[0mretain_graph\u001b[0m\u001b[0;34m,\u001b[0m\u001b[0;34m\u001b[0m\u001b[0;34m\u001b[0m\u001b[0m\n\u001b[1;32m    220\u001b[0m                 create_graph=create_graph)\n\u001b[0;32m--> 221\u001b[0;31m         \u001b[0mtorch\u001b[0m\u001b[0;34m.\u001b[0m\u001b[0mautograd\u001b[0m\u001b[0;34m.\u001b[0m\u001b[0mbackward\u001b[0m\u001b[0;34m(\u001b[0m\u001b[0mself\u001b[0m\u001b[0;34m,\u001b[0m \u001b[0mgradient\u001b[0m\u001b[0;34m,\u001b[0m \u001b[0mretain_graph\u001b[0m\u001b[0;34m,\u001b[0m \u001b[0mcreate_graph\u001b[0m\u001b[0;34m)\u001b[0m\u001b[0;34m\u001b[0m\u001b[0;34m\u001b[0m\u001b[0m\n\u001b[0m\u001b[1;32m    222\u001b[0m \u001b[0;34m\u001b[0m\u001b[0m\n\u001b[1;32m    223\u001b[0m     \u001b[0;32mdef\u001b[0m \u001b[0mregister_hook\u001b[0m\u001b[0;34m(\u001b[0m\u001b[0mself\u001b[0m\u001b[0;34m,\u001b[0m \u001b[0mhook\u001b[0m\u001b[0;34m)\u001b[0m\u001b[0;34m:\u001b[0m\u001b[0;34m\u001b[0m\u001b[0;34m\u001b[0m\u001b[0m\n",
      "\u001b[0;32m~/miniconda3/lib/python3.8/site-packages/torch/autograd/__init__.py\u001b[0m in \u001b[0;36mbackward\u001b[0;34m(tensors, grad_tensors, retain_graph, create_graph, grad_variables)\u001b[0m\n\u001b[1;32m    128\u001b[0m         \u001b[0mretain_graph\u001b[0m \u001b[0;34m=\u001b[0m \u001b[0mcreate_graph\u001b[0m\u001b[0;34m\u001b[0m\u001b[0;34m\u001b[0m\u001b[0m\n\u001b[1;32m    129\u001b[0m \u001b[0;34m\u001b[0m\u001b[0m\n\u001b[0;32m--> 130\u001b[0;31m     Variable._execution_engine.run_backward(\n\u001b[0m\u001b[1;32m    131\u001b[0m         \u001b[0mtensors\u001b[0m\u001b[0;34m,\u001b[0m \u001b[0mgrad_tensors_\u001b[0m\u001b[0;34m,\u001b[0m \u001b[0mretain_graph\u001b[0m\u001b[0;34m,\u001b[0m \u001b[0mcreate_graph\u001b[0m\u001b[0;34m,\u001b[0m\u001b[0;34m\u001b[0m\u001b[0;34m\u001b[0m\u001b[0m\n\u001b[1;32m    132\u001b[0m         allow_unreachable=True)  # allow_unreachable flag\n",
      "\u001b[0;31mKeyboardInterrupt\u001b[0m: "
     ]
    }
   ],
   "source": [
    "trainer = DefaultTrainer(cfg)\n",
    "trainer.resume_or_load(resume=False)\n",
    "trainer.train()"
   ]
  },
  {
   "cell_type": "markdown",
   "id": "italic-commissioner",
   "metadata": {},
   "source": [
    "### Save Updated Weights and Neural Network as a .pkl File"
   ]
  },
  {
   "cell_type": "code",
   "execution_count": 56,
   "id": "turned-naples",
   "metadata": {},
   "outputs": [],
   "source": [
    "# Update weights in the configuration\n",
    "cfg.MODEL.WEIGHTS = os.path.join(cfg.OUTPUT_DIR, \"model_final.pth\")\n",
    "cfg.MODEL.ROI_HEADS.SCORE_THRESH_TEST = 0.67   # set the testing threshold for this model\n",
    "# Save the neural network as .pkl file\n",
    "filename = './output/config.pkl'\n",
    "with open(filename, 'wb') as file:\n",
    "     pickle.dump(cfg, file)"
   ]
  },
  {
   "cell_type": "markdown",
   "id": "specified-depression",
   "metadata": {},
   "source": [
    "### Load the Trained Neural Network"
   ]
  },
  {
   "cell_type": "code",
   "execution_count": 57,
   "id": "loving-retention",
   "metadata": {},
   "outputs": [],
   "source": [
    "def read_img_to_BGR(img_array):\n",
    "    \"\"\"\n",
    "    This functions read RGB image array into BGR nd array. If the input image\n",
    "    is black and white, the numpy array will be stacked to the shape\n",
    "    (image_width, image_height, 3)\n",
    "    Input:\n",
    "        - image_file: .png image file\n",
    "    Output: \n",
    "        - BGR_img: nd array with size (image_height, image_width, 3)\n",
    "    \"\"\"\n",
    "    #im = Image.open(image_file) # Read R,G,B, and alpha\n",
    "    #img_array = np.array(im)\n",
    "    # Check image dimension\n",
    "    # If B&W, convert to shape (W,H,3)\n",
    "    if len(img_array.shape) == 2:\n",
    "        img_array = np.stack((img_array,img_array,img_array), axis=2)\n",
    "    if len(img_array.shape) == 3:\n",
    "        pass\n",
    "    else:\n",
    "        print(\"Input image array does not have the correct shape\")\n",
    "    # Convert to BGR\n",
    "    BGR_img = np.empty((img_array.shape[0],img_array.shape[1],3))\n",
    "    BGR_img[:,:,0] = img_array[:,:,2]\n",
    "    BGR_img[:,:,1] = img_array[:,:,1]\n",
    "    BGR_img[:,:,2] = img_array[:,:,0]\n",
    "    return BGR_img"
   ]
  },
  {
   "cell_type": "markdown",
   "id": "appointed-farming",
   "metadata": {},
   "source": [
    "### Load pre-trained Neaural Network from a local .pkl file into a predictor function"
   ]
  },
  {
   "cell_type": "code",
   "execution_count": 58,
   "id": "comparable-colony",
   "metadata": {},
   "outputs": [],
   "source": [
    "def predict_discharge_curve(pickle_file, img_array):\n",
    "    \"\"\"\n",
    "    This function loads the pretrained nueral network and its \n",
    "    configuration from a pickle file, and pass the input image\n",
    "    through the nn to predict the target class.\n",
    "    Input:\n",
    "        - pickle_file: .pkl file containing the configurations \n",
    "                       of the trained neural network that can be\n",
    "                       loaded into Detectron2 DefaultPredictor\n",
    "        - PNG_image: .png image file to make prediction on\n",
    "    Output:\n",
    "        - predict_dict: a list of dictionaries that contains the\n",
    "                        predicted masks\n",
    "    \"\"\"\n",
    "    # Load the neural network as .pkl file\n",
    "    with open(pickle_file, 'rb') as file:\n",
    "        cfg = pickle.load(file)\n",
    "    # Use Default predictor to load the pretrained NN\n",
    "    predictor = DefaultPredictor(cfg)\n",
    "    BGR_image = read_img_to_BGR(img_array)\n",
    "    predict_dict = predictor(BGR_image)\n",
    "    return predict_dict"
   ]
  },
  {
   "cell_type": "code",
   "execution_count": 59,
   "id": "improved-apartment",
   "metadata": {},
   "outputs": [],
   "source": [
    "# Use Default predictor to load the pretrained NN\n",
    "# https://github.com/facebookresearch/detectron2/blob/master/detectron2/engine/defaults.py\n",
    "def load_trained_nn(pickle_file):\n",
    "    \"\"\"\n",
    "    This function loads the trained nearual network from \n",
    "    the local .pkl file as a predictor\n",
    "    Input:\n",
    "        - pickle_file: .pkl file containing the configurations \n",
    "                        of the neural network that can be loaded\n",
    "                        into Detectron2 Default Predictor\n",
    "    Output:\n",
    "        - predictor: Detectron2 DefualtPredictor with the\n",
    "                     weights ad parameters from the pickle\n",
    "                     file\n",
    "    \"\"\"\n",
    "    # Load the configurations from the .pkl file\n",
    "    with open(pickle_file, 'rb') as file:\n",
    "        cfg = pickle.load(file)\n",
    "    # Use Default predictor to load the pretrained NN\n",
    "    predictor = DefaultPredictor(cfg)\n",
    "    return predictor"
   ]
  },
  {
   "cell_type": "markdown",
   "id": "individual-corner",
   "metadata": {},
   "source": [
    "### Visulalize Predictions"
   ]
  },
  {
   "cell_type": "code",
   "execution_count": 60,
   "id": "neutral-location",
   "metadata": {},
   "outputs": [],
   "source": [
    "def show_output_img_and_mask(PNG_image,prediction):\n",
    "    \"\"\"\n",
    "    This function shows the image and the mask from a .json file.\n",
    "    Input: \n",
    "        - PNG_image: .png file of the input image\n",
    "        - prediction: output prediction of the neural network\n",
    "    Output:\n",
    "        - Inline plot with image and predicted masks\n",
    "    \"\"\"\n",
    "    mask = prediction[\"instances\"].pred_masks\n",
    "    mask_array = np.array(mask)\n",
    "    im = Image.open(PNG_image)\n",
    "    img_array = np.array(im)\n",
    "    # Assert that there are predicted masks\n",
    "    # assert np.size(mask_array) != 0, \"No instance predicted\"\n",
    "    if np.size(mask_array) == 0:\n",
    "        print(\"No instance predicted, showing only the image\")\n",
    "        plt.imshow(img_array,alpha=1)\n",
    "    else:\n",
    "        for mask in range(mask_array.shape[0]):\n",
    "            #plt.figure()\n",
    "            #plt.imshow(img_array,alpha=1)\n",
    "            #plt.figure()\n",
    "            #plt.imshow(mask_array[mask,:,:],alpha=1)\n",
    "            plt.figure()\n",
    "            plt.imshow(img_array,alpha=1)\n",
    "            plt.imshow(mask_array[mask,:,:],alpha=0.8)"
   ]
  },
  {
   "cell_type": "markdown",
   "id": "motivated-filing",
   "metadata": {},
   "source": [
    "### Function to resize input image"
   ]
  },
  {
   "cell_type": "code",
   "execution_count": 61,
   "id": "serial-stamp",
   "metadata": {},
   "outputs": [],
   "source": [
    "def img_rescale(PNG_img, height, width):\n",
    "    \"\"\"\n",
    "    This function rescales an image to designated height and width.\n",
    "    Return new img as np array.\n",
    "    \n",
    "    Inputs:\n",
    "        img - .png image files\n",
    "        height - expected height after conversion in unit of pixels\n",
    "        width - expected width after conversion in unit of pixels\n",
    "    \n",
    "    Output:\n",
    "        new_img - an nd array of the rescaled image \n",
    "    \"\"\"\n",
    "    if not os.path.exists(\"scaled_input_image\"):\n",
    "        os.mkdir(\"scaled_input_image\") # new directory to store the scaled images\n",
    "    img = Image.open(PNG_img) \n",
    "    img_array = np.array(img)\n",
    "    scale = T.ScaleTransform(np.shape(img_array)[0],np.shape(img_array)[1], height, width)\n",
    "    new_img = scale.apply_image(img_array, \"bilinear\")\n",
    "    print(\"original image shape:\",img_array.shape,\"is scaled to new image shape\",new_img.shape)\n",
    "    img2save = Image.fromarray(new_img)\n",
    "    img2save.save(\"./scaled_input_image/scaled_\"+PNG_img)\n",
    "    #plt.imshow(new_img)\n",
    "    return new_img"
   ]
  },
  {
   "cell_type": "code",
   "execution_count": 62,
   "id": "ahead-distribution",
   "metadata": {},
   "outputs": [
    {
     "name": "stdout",
     "output_type": "stream",
     "text": [
      "original image shape: (395, 426) is scaled to new image shape (400, 600)\n"
     ]
    },
    {
     "name": "stderr",
     "output_type": "stream",
     "text": [
      "[\u001b[1m\u001b[37mINFO   \u001b[0m] \u001b[36mcheckpoint\u001b[0m:\u001b[36mload\u001b[0m:\u001b[36m138\u001b[0m - \u001b[1m\u001b[37mLoading checkpoint from ./output/model_final.pth\u001b[0m\n"
     ]
    },
    {
     "name": "stdout",
     "output_type": "stream",
     "text": [
      "No instance predicted, showing only the image\n"
     ]
    },
    {
     "data": {
      "image/png": "[encoded data removed]",
      "text/plain": [
       "<Figure size 432x288 with 1 Axes>"
      ]
     },
     "metadata": {
      "needs_background": "light"
     },
     "output_type": "display_data"
    }
   ],
   "source": [
    "rescaled_img = img_rescale(\"discharge_curve (9).png\", 400, 600)\n",
    "outputs = predict_discharge_curve(\"./output/config.pkl\",rescaled_img)\n",
    "show_output_img_and_mask(\"scaled_input_image/scaled_discharge_curve (9).png\", outputs)"
   ]
  },
  {
   "cell_type": "markdown",
   "id": "athletic-charge",
   "metadata": {},
   "source": [
    "### Example: Predict a Black and White Image"
   ]
  },
  {
   "cell_type": "code",
   "execution_count": 63,
   "id": "alternate-pharmacy",
   "metadata": {},
   "outputs": [
    {
     "name": "stdout",
     "output_type": "stream",
     "text": [
      "original image shape: (1493, 2583) is scaled to new image shape (400, 600)\n"
     ]
    },
    {
     "name": "stderr",
     "output_type": "stream",
     "text": [
      "[\u001b[1m\u001b[37mINFO   \u001b[0m] \u001b[36mcheckpoint\u001b[0m:\u001b[36mload\u001b[0m:\u001b[36m138\u001b[0m - \u001b[1m\u001b[37mLoading checkpoint from ./output/model_final.pth\u001b[0m\n"
     ]
    }
   ],
   "source": [
    "rescaled_img = img_rescale(\"Test_bw.png\", 400, 600)\n",
    "outputs = predict_discharge_curve(\"./output/config.pkl\",rescaled_img)"
   ]
  },
  {
   "cell_type": "code",
   "execution_count": 64,
   "id": "piano-leather",
   "metadata": {
    "scrolled": false
   },
   "outputs": [
    {
     "name": "stdout",
     "output_type": "stream",
     "text": [
      "No instance predicted, showing only the image\n"
     ]
    },
    {
     "data": {
      "image/png": "[encoded data removed]",
      "text/plain": [
       "<Figure size 432x288 with 1 Axes>"
      ]
     },
     "metadata": {
      "needs_background": "light"
     },
     "output_type": "display_data"
    }
   ],
   "source": [
    "show_output_img_and_mask(\"scaled_input_image/scaled_Test_bw.png\", outputs)"
   ]
  },
  {
   "cell_type": "markdown",
   "id": "considerable-nickname",
   "metadata": {},
   "source": [
    "### Example 2: Predicting a color image"
   ]
  },
  {
   "cell_type": "code",
   "execution_count": 44,
   "id": "organizational-adjustment",
   "metadata": {},
   "outputs": [
    {
     "name": "stdout",
     "output_type": "stream",
     "text": [
      "original image shape: (1441, 2282, 4) is scaled to new image shape (400, 600, 4)\n"
     ]
    },
    {
     "name": "stderr",
     "output_type": "stream",
     "text": [
      "[\u001b[1m\u001b[37mINFO   \u001b[0m] \u001b[36mcheckpoint\u001b[0m:\u001b[36mload\u001b[0m:\u001b[36m138\u001b[0m - \u001b[1m\u001b[37mLoading checkpoint from ./output/model_final.pth\u001b[0m\n"
     ]
    }
   ],
   "source": [
    "rescaled_img = img_rescale(\"Test_color.png\", 400, 600)\n",
    "outputs = predict_discharge_curve(\"./output/config.pkl\",rescaled_img)"
   ]
  },
  {
   "cell_type": "code",
   "execution_count": 45,
   "id": "powerful-fifteen",
   "metadata": {
    "scrolled": false
   },
   "outputs": [
    {
     "data": {
      "image/png": "[encoded data removed]",
      "text/plain": [
       "<Figure size 432x288 with 1 Axes>"
      ]
     },
     "metadata": {
      "needs_background": "light"
     },
     "output_type": "display_data"
    },
    {
     "data": {
      "image/png": "[encoded data removed]",
      "text/plain": [
       "<Figure size 432x288 with 1 Axes>"
      ]
     },
     "metadata": {
      "needs_background": "light"
     },
     "output_type": "display_data"
    },
    {
     "data": {
      "image/png": "[encoded data removed]",
      "text/plain": [
       "<Figure size 432x288 with 1 Axes>"
      ]
     },
     "metadata": {
      "needs_background": "light"
     },
     "output_type": "display_data"
    },
    {
     "data": {
      "image/png": "[encoded data removed]",
      "text/plain": [
       "<Figure size 432x288 with 1 Axes>"
      ]
     },
     "metadata": {
      "needs_background": "light"
     },
     "output_type": "display_data"
    },
    {
     "data": {
      "image/png": "[encoded data removed]",
      "text/plain": [
       "<Figure size 432x288 with 1 Axes>"
      ]
     },
     "metadata": {
      "needs_background": "light"
     },
     "output_type": "display_data"
    },
    {
     "data": {
      "image/png": "[encoded data removed]",
      "text/plain": [
       "<Figure size 432x288 with 1 Axes>"
      ]
     },
     "metadata": {
      "needs_background": "light"
     },
     "output_type": "display_data"
    },
    {
     "data": {
      "image/png": "[encoded data removed]",
      "text/plain": [
       "<Figure size 432x288 with 1 Axes>"
      ]
     },
     "metadata": {
      "needs_background": "light"
     },
     "output_type": "display_data"
    },
    {
     "data": {
      "image/png": "[encoded data removed]",
      "text/plain": [
       "<Figure size 432x288 with 1 Axes>"
      ]
     },
     "metadata": {
      "needs_background": "light"
     },
     "output_type": "display_data"
    }
   ],
   "source": [
    "show_output_img_and_mask(\"scaled_input_image/scaled_Test_color.png\", outputs)"
   ]
  },
  {
   "cell_type": "code",
   "execution_count": null,
   "id": "hungarian-composer",
   "metadata": {},
   "outputs": [],
   "source": []
  },
  {
   "cell_type": "code",
   "execution_count": null,
   "id": "direct-guarantee",
   "metadata": {},
   "outputs": [],
   "source": []
  },
  {
   "cell_type": "code",
   "execution_count": null,
   "id": "fiscal-accessory",
   "metadata": {},
   "outputs": [],
   "source": []
  }
 ],
 "metadata": {
  "kernelspec": {
   "display_name": "Python 3",
   "language": "python",
   "name": "python3"
  },
  "language_info": {
   "codemirror_mode": {
    "name": "ipython",
    "version": 3
   },
   "file_extension": ".py",
   "mimetype": "text/x-python",
   "name": "python",
   "nbconvert_exporter": "python",
   "pygments_lexer": "ipython3",
   "version": "3.8.5"
  }
 },
 "nbformat": 4,
 "nbformat_minor": 5
}
