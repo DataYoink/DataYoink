{
 "cells": [
  {
   "cell_type": "code",
   "execution_count": null,
   "id": "regional-drinking",
   "metadata": {},
   "outputs": [],
   "source": [
    "import imgaug"
   ]
  },
  {
   "cell_type": "code",
   "execution_count": null,
   "id": "rotary-ghana",
   "metadata": {},
   "outputs": [],
   "source": [
    "# Crop and Pad to fixed size & aspect ratio\n",
    "# Use Centerpadtofixedsize() to pad image to fixed size\n",
    "\n",
    "#classimgaug.augmenters.size.PadToFixedSize(width, height, pad_mode='constant', pad_cval=0, position='uniform', seed=None, name=None, random_state='deprecated', deterministic='deprecated')["
   ]
  }
 ],
 "metadata": {
  "kernelspec": {
   "display_name": "Python 3",
   "language": "python",
   "name": "python3"
  },
  "language_info": {
   "codemirror_mode": {
    "name": "ipython",
    "version": 3
   },
   "file_extension": ".py",
   "mimetype": "text/x-python",
   "name": "python",
   "nbconvert_exporter": "python",
   "pygments_lexer": "ipython3",
   "version": "3.8.5"
  }
 },
 "nbformat": 4,
 "nbformat_minor": 5
}
