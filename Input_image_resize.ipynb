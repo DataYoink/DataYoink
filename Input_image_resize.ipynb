{
 "cells": [
  {
   "cell_type": "code",
   "execution_count": 32,
   "id": "prospective-southwest",
   "metadata": {},
   "outputs": [],
   "source": [
    "import PIL\n",
    "from PIL import Image\n",
    "import numpy as np\n",
    "import detectron2\n",
    "import detectron2.data.transforms as T\n",
    "import matplotlib\n",
    "import matplotlib.pyplot as plt"
   ]
  },
  {
   "cell_type": "code",
   "execution_count": 34,
   "id": "dynamic-romania",
   "metadata": {},
   "outputs": [],
   "source": [
    "def img_mask_rescale(img, height, width):\n",
    "    \"\"\"\n",
    "    Rescale image and masks to designated height and width.\n",
    "    Return new img as np array, new maks as a list of np array.\n",
    "    Input: image file\n",
    "    Output:\n",
    "    \"\"\"\n",
    "    img = Image.open(img) \n",
    "    img_array = np.array(img)\n",
    "    scale = T.ScaleTransform(np.shape(img_array)[0],np.shape(img_array)[1], height, width)\n",
    "    new_img = scale.apply_image(img_array, \"bilinear\")\n",
    "    return new_img # np array"
   ]
  },
  {
   "cell_type": "code",
   "execution_count": null,
   "id": "grand-beverage",
   "metadata": {},
   "outputs": [],
   "source": []
  }
 ],
 "metadata": {
  "kernelspec": {
   "display_name": "Python 3",
   "language": "python",
   "name": "python3"
  },
  "language_info": {
   "codemirror_mode": {
    "name": "ipython",
    "version": 3
   },
   "file_extension": ".py",
   "mimetype": "text/x-python",
   "name": "python",
   "nbconvert_exporter": "python",
   "pygments_lexer": "ipython3",
   "version": "3.8.5"
  }
 },
 "nbformat": 4,
 "nbformat_minor": 5
}
